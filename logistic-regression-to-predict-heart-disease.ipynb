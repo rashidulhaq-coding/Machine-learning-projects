{
 "cells": [
  {
   "cell_type": "markdown",
   "id": "a07beabc",
   "metadata": {
    "papermill": {
     "duration": 0.010626,
     "end_time": "2023-07-20T08:05:45.752044",
     "exception": false,
     "start_time": "2023-07-20T08:05:45.741418",
     "status": "completed"
    },
    "tags": []
   },
   "source": [
    "## **Import Libraries** "
   ]
  },
  {
   "cell_type": "code",
   "execution_count": 1,
   "id": "e6be8ce4",
   "metadata": {
    "_cell_guid": "b1076dfc-b9ad-4769-8c92-a6c4dae69d19",
    "_uuid": "8f2839f25d086af736a60e9eeb907d3b93b6e0e5",
    "execution": {
     "iopub.execute_input": "2023-07-20T08:05:45.775374Z",
     "iopub.status.busy": "2023-07-20T08:05:45.773814Z",
     "iopub.status.idle": "2023-07-20T08:05:47.541007Z",
     "shell.execute_reply": "2023-07-20T08:05:47.539469Z"
    },
    "papermill": {
     "duration": 1.783141,
     "end_time": "2023-07-20T08:05:47.545388",
     "exception": false,
     "start_time": "2023-07-20T08:05:45.762247",
     "status": "completed"
    },
    "tags": []
   },
   "outputs": [
    {
     "name": "stderr",
     "output_type": "stream",
     "text": [
      "/opt/conda/lib/python3.10/site-packages/scipy/__init__.py:146: UserWarning: A NumPy version >=1.16.5 and <1.23.0 is required for this version of SciPy (detected version 1.23.5\n",
      "  warnings.warn(f\"A NumPy version >={np_minversion} and <{np_maxversion}\"\n"
     ]
    },
    {
     "name": "stdout",
     "output_type": "stream",
     "text": [
      "/kaggle/input/heart-disease-prediction-using-logistic-regression/framingham.csv\n"
     ]
    }
   ],
   "source": [
    "# This Python 3 environment comes with many helpful analytics libraries installed\n",
    "# It is defined by the kaggle/python Docker image: https://github.com/kaggle/docker-python\n",
    "# For example, here's several helpful packages to load\n",
    "\n",
    "import numpy as np # linear algebra\n",
    "import pandas as pd # data processing, CSV file I/O (e.g. pd.read_csv)\n",
    "import seaborn as sns\n",
    "import matplotlib.pyplot as plt\n",
    "%matplotlib inline\n",
    "# Input data files are available in the read-only \"../input/\" directory\n",
    "# For example, running this (by clicking run or pressing Shift+Enter) will list all files under the input directory\n",
    "import warnings\n",
    "warnings.filterwarnings(\"ignore\")\n",
    "import os\n",
    "for dirname, _, filenames in os.walk('/kaggle/input'):\n",
    "    for filename in filenames:\n",
    "        print(os.path.join(dirname, filename))\n",
    "\n",
    "# You can write up to 20GB to the current directory (/kaggle/working/) that gets preserved as output when you create a version using \"Save & Run All\" \n",
    "# You can also write temporary files to /kaggle/temp/, but they won't be saved outside of the current session"
   ]
  },
  {
   "cell_type": "markdown",
   "id": "20da5265",
   "metadata": {
    "papermill": {
     "duration": 0.010885,
     "end_time": "2023-07-20T08:05:47.568197",
     "exception": false,
     "start_time": "2023-07-20T08:05:47.557312",
     "status": "completed"
    },
    "tags": []
   },
   "source": [
    "## **Import Dataset**"
   ]
  },
  {
   "cell_type": "code",
   "execution_count": 2,
   "id": "fd47eb73",
   "metadata": {
    "execution": {
     "iopub.execute_input": "2023-07-20T08:05:47.591749Z",
     "iopub.status.busy": "2023-07-20T08:05:47.591087Z",
     "iopub.status.idle": "2023-07-20T08:05:47.632398Z",
     "shell.execute_reply": "2023-07-20T08:05:47.630892Z"
    },
    "papermill": {
     "duration": 0.056393,
     "end_time": "2023-07-20T08:05:47.635310",
     "exception": false,
     "start_time": "2023-07-20T08:05:47.578917",
     "status": "completed"
    },
    "tags": []
   },
   "outputs": [],
   "source": [
    "df = pd.read_csv(\"/kaggle/input/heart-disease-prediction-using-logistic-regression/framingham.csv\")"
   ]
  },
  {
   "cell_type": "markdown",
   "id": "839df533",
   "metadata": {
    "papermill": {
     "duration": 0.010402,
     "end_time": "2023-07-20T08:05:47.656624",
     "exception": false,
     "start_time": "2023-07-20T08:05:47.646222",
     "status": "completed"
    },
    "tags": []
   },
   "source": [
    "## **Exploratory Data analysis**"
   ]
  },
  {
   "cell_type": "code",
   "execution_count": 3,
   "id": "a17e1d91",
   "metadata": {
    "execution": {
     "iopub.execute_input": "2023-07-20T08:05:47.683887Z",
     "iopub.status.busy": "2023-07-20T08:05:47.682660Z",
     "iopub.status.idle": "2023-07-20T08:05:47.723960Z",
     "shell.execute_reply": "2023-07-20T08:05:47.723062Z"
    },
    "papermill": {
     "duration": 0.057364,
     "end_time": "2023-07-20T08:05:47.726593",
     "exception": false,
     "start_time": "2023-07-20T08:05:47.669229",
     "status": "completed"
    },
    "tags": []
   },
   "outputs": [
    {
     "data": {
      "text/html": [
       "<div>\n",
       "<style scoped>\n",
       "    .dataframe tbody tr th:only-of-type {\n",
       "        vertical-align: middle;\n",
       "    }\n",
       "\n",
       "    .dataframe tbody tr th {\n",
       "        vertical-align: top;\n",
       "    }\n",
       "\n",
       "    .dataframe thead th {\n",
       "        text-align: right;\n",
       "    }\n",
       "</style>\n",
       "<table border=\"1\" class=\"dataframe\">\n",
       "  <thead>\n",
       "    <tr style=\"text-align: right;\">\n",
       "      <th></th>\n",
       "      <th>male</th>\n",
       "      <th>age</th>\n",
       "      <th>education</th>\n",
       "      <th>currentSmoker</th>\n",
       "      <th>cigsPerDay</th>\n",
       "      <th>BPMeds</th>\n",
       "      <th>prevalentStroke</th>\n",
       "      <th>prevalentHyp</th>\n",
       "      <th>diabetes</th>\n",
       "      <th>totChol</th>\n",
       "      <th>sysBP</th>\n",
       "      <th>diaBP</th>\n",
       "      <th>BMI</th>\n",
       "      <th>heartRate</th>\n",
       "      <th>glucose</th>\n",
       "      <th>TenYearCHD</th>\n",
       "    </tr>\n",
       "  </thead>\n",
       "  <tbody>\n",
       "    <tr>\n",
       "      <th>0</th>\n",
       "      <td>1</td>\n",
       "      <td>39</td>\n",
       "      <td>4.0</td>\n",
       "      <td>0</td>\n",
       "      <td>0.0</td>\n",
       "      <td>0.0</td>\n",
       "      <td>0</td>\n",
       "      <td>0</td>\n",
       "      <td>0</td>\n",
       "      <td>195.0</td>\n",
       "      <td>106.0</td>\n",
       "      <td>70.0</td>\n",
       "      <td>26.97</td>\n",
       "      <td>80.0</td>\n",
       "      <td>77.0</td>\n",
       "      <td>0</td>\n",
       "    </tr>\n",
       "    <tr>\n",
       "      <th>1</th>\n",
       "      <td>0</td>\n",
       "      <td>46</td>\n",
       "      <td>2.0</td>\n",
       "      <td>0</td>\n",
       "      <td>0.0</td>\n",
       "      <td>0.0</td>\n",
       "      <td>0</td>\n",
       "      <td>0</td>\n",
       "      <td>0</td>\n",
       "      <td>250.0</td>\n",
       "      <td>121.0</td>\n",
       "      <td>81.0</td>\n",
       "      <td>28.73</td>\n",
       "      <td>95.0</td>\n",
       "      <td>76.0</td>\n",
       "      <td>0</td>\n",
       "    </tr>\n",
       "    <tr>\n",
       "      <th>2</th>\n",
       "      <td>1</td>\n",
       "      <td>48</td>\n",
       "      <td>1.0</td>\n",
       "      <td>1</td>\n",
       "      <td>20.0</td>\n",
       "      <td>0.0</td>\n",
       "      <td>0</td>\n",
       "      <td>0</td>\n",
       "      <td>0</td>\n",
       "      <td>245.0</td>\n",
       "      <td>127.5</td>\n",
       "      <td>80.0</td>\n",
       "      <td>25.34</td>\n",
       "      <td>75.0</td>\n",
       "      <td>70.0</td>\n",
       "      <td>0</td>\n",
       "    </tr>\n",
       "    <tr>\n",
       "      <th>3</th>\n",
       "      <td>0</td>\n",
       "      <td>61</td>\n",
       "      <td>3.0</td>\n",
       "      <td>1</td>\n",
       "      <td>30.0</td>\n",
       "      <td>0.0</td>\n",
       "      <td>0</td>\n",
       "      <td>1</td>\n",
       "      <td>0</td>\n",
       "      <td>225.0</td>\n",
       "      <td>150.0</td>\n",
       "      <td>95.0</td>\n",
       "      <td>28.58</td>\n",
       "      <td>65.0</td>\n",
       "      <td>103.0</td>\n",
       "      <td>1</td>\n",
       "    </tr>\n",
       "    <tr>\n",
       "      <th>4</th>\n",
       "      <td>0</td>\n",
       "      <td>46</td>\n",
       "      <td>3.0</td>\n",
       "      <td>1</td>\n",
       "      <td>23.0</td>\n",
       "      <td>0.0</td>\n",
       "      <td>0</td>\n",
       "      <td>0</td>\n",
       "      <td>0</td>\n",
       "      <td>285.0</td>\n",
       "      <td>130.0</td>\n",
       "      <td>84.0</td>\n",
       "      <td>23.10</td>\n",
       "      <td>85.0</td>\n",
       "      <td>85.0</td>\n",
       "      <td>0</td>\n",
       "    </tr>\n",
       "  </tbody>\n",
       "</table>\n",
       "</div>"
      ],
      "text/plain": [
       "   male  age  education  currentSmoker  cigsPerDay  BPMeds  prevalentStroke  \\\n",
       "0     1   39        4.0              0         0.0     0.0                0   \n",
       "1     0   46        2.0              0         0.0     0.0                0   \n",
       "2     1   48        1.0              1        20.0     0.0                0   \n",
       "3     0   61        3.0              1        30.0     0.0                0   \n",
       "4     0   46        3.0              1        23.0     0.0                0   \n",
       "\n",
       "   prevalentHyp  diabetes  totChol  sysBP  diaBP    BMI  heartRate  glucose  \\\n",
       "0             0         0    195.0  106.0   70.0  26.97       80.0     77.0   \n",
       "1             0         0    250.0  121.0   81.0  28.73       95.0     76.0   \n",
       "2             0         0    245.0  127.5   80.0  25.34       75.0     70.0   \n",
       "3             1         0    225.0  150.0   95.0  28.58       65.0    103.0   \n",
       "4             0         0    285.0  130.0   84.0  23.10       85.0     85.0   \n",
       "\n",
       "   TenYearCHD  \n",
       "0           0  \n",
       "1           0  \n",
       "2           0  \n",
       "3           1  \n",
       "4           0  "
      ]
     },
     "execution_count": 3,
     "metadata": {},
     "output_type": "execute_result"
    }
   ],
   "source": [
    "df.head()"
   ]
  },
  {
   "cell_type": "code",
   "execution_count": 4,
   "id": "9d8a84b0",
   "metadata": {
    "execution": {
     "iopub.execute_input": "2023-07-20T08:05:47.752644Z",
     "iopub.status.busy": "2023-07-20T08:05:47.751475Z",
     "iopub.status.idle": "2023-07-20T08:05:47.759379Z",
     "shell.execute_reply": "2023-07-20T08:05:47.758154Z"
    },
    "papermill": {
     "duration": 0.023656,
     "end_time": "2023-07-20T08:05:47.761763",
     "exception": false,
     "start_time": "2023-07-20T08:05:47.738107",
     "status": "completed"
    },
    "tags": []
   },
   "outputs": [
    {
     "data": {
      "text/plain": [
       "(4238, 16)"
      ]
     },
     "execution_count": 4,
     "metadata": {},
     "output_type": "execute_result"
    }
   ],
   "source": [
    "df.shape"
   ]
  },
  {
   "cell_type": "code",
   "execution_count": 5,
   "id": "4dcf194e",
   "metadata": {
    "execution": {
     "iopub.execute_input": "2023-07-20T08:05:47.786175Z",
     "iopub.status.busy": "2023-07-20T08:05:47.785478Z",
     "iopub.status.idle": "2023-07-20T08:05:47.816943Z",
     "shell.execute_reply": "2023-07-20T08:05:47.815698Z"
    },
    "papermill": {
     "duration": 0.047768,
     "end_time": "2023-07-20T08:05:47.820372",
     "exception": false,
     "start_time": "2023-07-20T08:05:47.772604",
     "status": "completed"
    },
    "tags": []
   },
   "outputs": [
    {
     "name": "stdout",
     "output_type": "stream",
     "text": [
      "<class 'pandas.core.frame.DataFrame'>\n",
      "RangeIndex: 4238 entries, 0 to 4237\n",
      "Data columns (total 16 columns):\n",
      " #   Column           Non-Null Count  Dtype  \n",
      "---  ------           --------------  -----  \n",
      " 0   male             4238 non-null   int64  \n",
      " 1   age              4238 non-null   int64  \n",
      " 2   education        4133 non-null   float64\n",
      " 3   currentSmoker    4238 non-null   int64  \n",
      " 4   cigsPerDay       4209 non-null   float64\n",
      " 5   BPMeds           4185 non-null   float64\n",
      " 6   prevalentStroke  4238 non-null   int64  \n",
      " 7   prevalentHyp     4238 non-null   int64  \n",
      " 8   diabetes         4238 non-null   int64  \n",
      " 9   totChol          4188 non-null   float64\n",
      " 10  sysBP            4238 non-null   float64\n",
      " 11  diaBP            4238 non-null   float64\n",
      " 12  BMI              4219 non-null   float64\n",
      " 13  heartRate        4237 non-null   float64\n",
      " 14  glucose          3850 non-null   float64\n",
      " 15  TenYearCHD       4238 non-null   int64  \n",
      "dtypes: float64(9), int64(7)\n",
      "memory usage: 529.9 KB\n"
     ]
    }
   ],
   "source": [
    "df.info()"
   ]
  },
  {
   "cell_type": "code",
   "execution_count": 6,
   "id": "aa970fad",
   "metadata": {
    "execution": {
     "iopub.execute_input": "2023-07-20T08:05:47.845367Z",
     "iopub.status.busy": "2023-07-20T08:05:47.844658Z",
     "iopub.status.idle": "2023-07-20T08:05:47.915850Z",
     "shell.execute_reply": "2023-07-20T08:05:47.914683Z"
    },
    "papermill": {
     "duration": 0.087306,
     "end_time": "2023-07-20T08:05:47.918629",
     "exception": false,
     "start_time": "2023-07-20T08:05:47.831323",
     "status": "completed"
    },
    "tags": []
   },
   "outputs": [
    {
     "data": {
      "text/html": [
       "<div>\n",
       "<style scoped>\n",
       "    .dataframe tbody tr th:only-of-type {\n",
       "        vertical-align: middle;\n",
       "    }\n",
       "\n",
       "    .dataframe tbody tr th {\n",
       "        vertical-align: top;\n",
       "    }\n",
       "\n",
       "    .dataframe thead th {\n",
       "        text-align: right;\n",
       "    }\n",
       "</style>\n",
       "<table border=\"1\" class=\"dataframe\">\n",
       "  <thead>\n",
       "    <tr style=\"text-align: right;\">\n",
       "      <th></th>\n",
       "      <th>male</th>\n",
       "      <th>age</th>\n",
       "      <th>education</th>\n",
       "      <th>currentSmoker</th>\n",
       "      <th>cigsPerDay</th>\n",
       "      <th>BPMeds</th>\n",
       "      <th>prevalentStroke</th>\n",
       "      <th>prevalentHyp</th>\n",
       "      <th>diabetes</th>\n",
       "      <th>totChol</th>\n",
       "      <th>sysBP</th>\n",
       "      <th>diaBP</th>\n",
       "      <th>BMI</th>\n",
       "      <th>heartRate</th>\n",
       "      <th>glucose</th>\n",
       "      <th>TenYearCHD</th>\n",
       "    </tr>\n",
       "  </thead>\n",
       "  <tbody>\n",
       "    <tr>\n",
       "      <th>count</th>\n",
       "      <td>4238.000000</td>\n",
       "      <td>4238.000000</td>\n",
       "      <td>4133.000000</td>\n",
       "      <td>4238.000000</td>\n",
       "      <td>4209.000000</td>\n",
       "      <td>4185.000000</td>\n",
       "      <td>4238.000000</td>\n",
       "      <td>4238.000000</td>\n",
       "      <td>4238.000000</td>\n",
       "      <td>4188.000000</td>\n",
       "      <td>4238.000000</td>\n",
       "      <td>4238.000000</td>\n",
       "      <td>4219.000000</td>\n",
       "      <td>4237.000000</td>\n",
       "      <td>3850.000000</td>\n",
       "      <td>4238.000000</td>\n",
       "    </tr>\n",
       "    <tr>\n",
       "      <th>mean</th>\n",
       "      <td>0.429212</td>\n",
       "      <td>49.584946</td>\n",
       "      <td>1.978950</td>\n",
       "      <td>0.494101</td>\n",
       "      <td>9.003089</td>\n",
       "      <td>0.029630</td>\n",
       "      <td>0.005899</td>\n",
       "      <td>0.310524</td>\n",
       "      <td>0.025720</td>\n",
       "      <td>236.721585</td>\n",
       "      <td>132.352407</td>\n",
       "      <td>82.893464</td>\n",
       "      <td>25.802008</td>\n",
       "      <td>75.878924</td>\n",
       "      <td>81.966753</td>\n",
       "      <td>0.151958</td>\n",
       "    </tr>\n",
       "    <tr>\n",
       "      <th>std</th>\n",
       "      <td>0.495022</td>\n",
       "      <td>8.572160</td>\n",
       "      <td>1.019791</td>\n",
       "      <td>0.500024</td>\n",
       "      <td>11.920094</td>\n",
       "      <td>0.169584</td>\n",
       "      <td>0.076587</td>\n",
       "      <td>0.462763</td>\n",
       "      <td>0.158316</td>\n",
       "      <td>44.590334</td>\n",
       "      <td>22.038097</td>\n",
       "      <td>11.910850</td>\n",
       "      <td>4.080111</td>\n",
       "      <td>12.026596</td>\n",
       "      <td>23.959998</td>\n",
       "      <td>0.359023</td>\n",
       "    </tr>\n",
       "    <tr>\n",
       "      <th>min</th>\n",
       "      <td>0.000000</td>\n",
       "      <td>32.000000</td>\n",
       "      <td>1.000000</td>\n",
       "      <td>0.000000</td>\n",
       "      <td>0.000000</td>\n",
       "      <td>0.000000</td>\n",
       "      <td>0.000000</td>\n",
       "      <td>0.000000</td>\n",
       "      <td>0.000000</td>\n",
       "      <td>107.000000</td>\n",
       "      <td>83.500000</td>\n",
       "      <td>48.000000</td>\n",
       "      <td>15.540000</td>\n",
       "      <td>44.000000</td>\n",
       "      <td>40.000000</td>\n",
       "      <td>0.000000</td>\n",
       "    </tr>\n",
       "    <tr>\n",
       "      <th>25%</th>\n",
       "      <td>0.000000</td>\n",
       "      <td>42.000000</td>\n",
       "      <td>1.000000</td>\n",
       "      <td>0.000000</td>\n",
       "      <td>0.000000</td>\n",
       "      <td>0.000000</td>\n",
       "      <td>0.000000</td>\n",
       "      <td>0.000000</td>\n",
       "      <td>0.000000</td>\n",
       "      <td>206.000000</td>\n",
       "      <td>117.000000</td>\n",
       "      <td>75.000000</td>\n",
       "      <td>23.070000</td>\n",
       "      <td>68.000000</td>\n",
       "      <td>71.000000</td>\n",
       "      <td>0.000000</td>\n",
       "    </tr>\n",
       "    <tr>\n",
       "      <th>50%</th>\n",
       "      <td>0.000000</td>\n",
       "      <td>49.000000</td>\n",
       "      <td>2.000000</td>\n",
       "      <td>0.000000</td>\n",
       "      <td>0.000000</td>\n",
       "      <td>0.000000</td>\n",
       "      <td>0.000000</td>\n",
       "      <td>0.000000</td>\n",
       "      <td>0.000000</td>\n",
       "      <td>234.000000</td>\n",
       "      <td>128.000000</td>\n",
       "      <td>82.000000</td>\n",
       "      <td>25.400000</td>\n",
       "      <td>75.000000</td>\n",
       "      <td>78.000000</td>\n",
       "      <td>0.000000</td>\n",
       "    </tr>\n",
       "    <tr>\n",
       "      <th>75%</th>\n",
       "      <td>1.000000</td>\n",
       "      <td>56.000000</td>\n",
       "      <td>3.000000</td>\n",
       "      <td>1.000000</td>\n",
       "      <td>20.000000</td>\n",
       "      <td>0.000000</td>\n",
       "      <td>0.000000</td>\n",
       "      <td>1.000000</td>\n",
       "      <td>0.000000</td>\n",
       "      <td>263.000000</td>\n",
       "      <td>144.000000</td>\n",
       "      <td>89.875000</td>\n",
       "      <td>28.040000</td>\n",
       "      <td>83.000000</td>\n",
       "      <td>87.000000</td>\n",
       "      <td>0.000000</td>\n",
       "    </tr>\n",
       "    <tr>\n",
       "      <th>max</th>\n",
       "      <td>1.000000</td>\n",
       "      <td>70.000000</td>\n",
       "      <td>4.000000</td>\n",
       "      <td>1.000000</td>\n",
       "      <td>70.000000</td>\n",
       "      <td>1.000000</td>\n",
       "      <td>1.000000</td>\n",
       "      <td>1.000000</td>\n",
       "      <td>1.000000</td>\n",
       "      <td>696.000000</td>\n",
       "      <td>295.000000</td>\n",
       "      <td>142.500000</td>\n",
       "      <td>56.800000</td>\n",
       "      <td>143.000000</td>\n",
       "      <td>394.000000</td>\n",
       "      <td>1.000000</td>\n",
       "    </tr>\n",
       "  </tbody>\n",
       "</table>\n",
       "</div>"
      ],
      "text/plain": [
       "              male          age    education  currentSmoker   cigsPerDay  \\\n",
       "count  4238.000000  4238.000000  4133.000000    4238.000000  4209.000000   \n",
       "mean      0.429212    49.584946     1.978950       0.494101     9.003089   \n",
       "std       0.495022     8.572160     1.019791       0.500024    11.920094   \n",
       "min       0.000000    32.000000     1.000000       0.000000     0.000000   \n",
       "25%       0.000000    42.000000     1.000000       0.000000     0.000000   \n",
       "50%       0.000000    49.000000     2.000000       0.000000     0.000000   \n",
       "75%       1.000000    56.000000     3.000000       1.000000    20.000000   \n",
       "max       1.000000    70.000000     4.000000       1.000000    70.000000   \n",
       "\n",
       "            BPMeds  prevalentStroke  prevalentHyp     diabetes      totChol  \\\n",
       "count  4185.000000      4238.000000   4238.000000  4238.000000  4188.000000   \n",
       "mean      0.029630         0.005899      0.310524     0.025720   236.721585   \n",
       "std       0.169584         0.076587      0.462763     0.158316    44.590334   \n",
       "min       0.000000         0.000000      0.000000     0.000000   107.000000   \n",
       "25%       0.000000         0.000000      0.000000     0.000000   206.000000   \n",
       "50%       0.000000         0.000000      0.000000     0.000000   234.000000   \n",
       "75%       0.000000         0.000000      1.000000     0.000000   263.000000   \n",
       "max       1.000000         1.000000      1.000000     1.000000   696.000000   \n",
       "\n",
       "             sysBP        diaBP          BMI    heartRate      glucose  \\\n",
       "count  4238.000000  4238.000000  4219.000000  4237.000000  3850.000000   \n",
       "mean    132.352407    82.893464    25.802008    75.878924    81.966753   \n",
       "std      22.038097    11.910850     4.080111    12.026596    23.959998   \n",
       "min      83.500000    48.000000    15.540000    44.000000    40.000000   \n",
       "25%     117.000000    75.000000    23.070000    68.000000    71.000000   \n",
       "50%     128.000000    82.000000    25.400000    75.000000    78.000000   \n",
       "75%     144.000000    89.875000    28.040000    83.000000    87.000000   \n",
       "max     295.000000   142.500000    56.800000   143.000000   394.000000   \n",
       "\n",
       "        TenYearCHD  \n",
       "count  4238.000000  \n",
       "mean      0.151958  \n",
       "std       0.359023  \n",
       "min       0.000000  \n",
       "25%       0.000000  \n",
       "50%       0.000000  \n",
       "75%       0.000000  \n",
       "max       1.000000  "
      ]
     },
     "execution_count": 6,
     "metadata": {},
     "output_type": "execute_result"
    }
   ],
   "source": [
    "df.describe()"
   ]
  },
  {
   "cell_type": "code",
   "execution_count": 7,
   "id": "35e4a26a",
   "metadata": {
    "execution": {
     "iopub.execute_input": "2023-07-20T08:05:47.942677Z",
     "iopub.status.busy": "2023-07-20T08:05:47.942261Z",
     "iopub.status.idle": "2023-07-20T08:05:47.952606Z",
     "shell.execute_reply": "2023-07-20T08:05:47.951226Z"
    },
    "papermill": {
     "duration": 0.025439,
     "end_time": "2023-07-20T08:05:47.955210",
     "exception": false,
     "start_time": "2023-07-20T08:05:47.929771",
     "status": "completed"
    },
    "tags": []
   },
   "outputs": [
    {
     "data": {
      "text/plain": [
       "male                 0\n",
       "age                  0\n",
       "education          105\n",
       "currentSmoker        0\n",
       "cigsPerDay          29\n",
       "BPMeds              53\n",
       "prevalentStroke      0\n",
       "prevalentHyp         0\n",
       "diabetes             0\n",
       "totChol             50\n",
       "sysBP                0\n",
       "diaBP                0\n",
       "BMI                 19\n",
       "heartRate            1\n",
       "glucose            388\n",
       "TenYearCHD           0\n",
       "dtype: int64"
      ]
     },
     "execution_count": 7,
     "metadata": {},
     "output_type": "execute_result"
    }
   ],
   "source": [
    "df.isnull().sum()"
   ]
  },
  {
   "cell_type": "markdown",
   "id": "7b3c9eb3",
   "metadata": {
    "papermill": {
     "duration": 0.011186,
     "end_time": "2023-07-20T08:05:47.978614",
     "exception": false,
     "start_time": "2023-07-20T08:05:47.967428",
     "status": "completed"
    },
    "tags": []
   },
   "source": [
    "> We don't need the education so we will remove it"
   ]
  },
  {
   "cell_type": "code",
   "execution_count": 8,
   "id": "69a92537",
   "metadata": {
    "execution": {
     "iopub.execute_input": "2023-07-20T08:05:48.003605Z",
     "iopub.status.busy": "2023-07-20T08:05:48.003121Z",
     "iopub.status.idle": "2023-07-20T08:05:48.031594Z",
     "shell.execute_reply": "2023-07-20T08:05:48.030275Z"
    },
    "papermill": {
     "duration": 0.043904,
     "end_time": "2023-07-20T08:05:48.034005",
     "exception": false,
     "start_time": "2023-07-20T08:05:47.990101",
     "status": "completed"
    },
    "tags": []
   },
   "outputs": [
    {
     "data": {
      "text/html": [
       "<div>\n",
       "<style scoped>\n",
       "    .dataframe tbody tr th:only-of-type {\n",
       "        vertical-align: middle;\n",
       "    }\n",
       "\n",
       "    .dataframe tbody tr th {\n",
       "        vertical-align: top;\n",
       "    }\n",
       "\n",
       "    .dataframe thead th {\n",
       "        text-align: right;\n",
       "    }\n",
       "</style>\n",
       "<table border=\"1\" class=\"dataframe\">\n",
       "  <thead>\n",
       "    <tr style=\"text-align: right;\">\n",
       "      <th></th>\n",
       "      <th>male</th>\n",
       "      <th>age</th>\n",
       "      <th>currentSmoker</th>\n",
       "      <th>cigsPerDay</th>\n",
       "      <th>BPMeds</th>\n",
       "      <th>prevalentStroke</th>\n",
       "      <th>prevalentHyp</th>\n",
       "      <th>diabetes</th>\n",
       "      <th>totChol</th>\n",
       "      <th>sysBP</th>\n",
       "      <th>diaBP</th>\n",
       "      <th>BMI</th>\n",
       "      <th>heartRate</th>\n",
       "      <th>glucose</th>\n",
       "      <th>TenYearCHD</th>\n",
       "    </tr>\n",
       "  </thead>\n",
       "  <tbody>\n",
       "    <tr>\n",
       "      <th>0</th>\n",
       "      <td>1</td>\n",
       "      <td>39</td>\n",
       "      <td>0</td>\n",
       "      <td>0.0</td>\n",
       "      <td>0.0</td>\n",
       "      <td>0</td>\n",
       "      <td>0</td>\n",
       "      <td>0</td>\n",
       "      <td>195.0</td>\n",
       "      <td>106.0</td>\n",
       "      <td>70.0</td>\n",
       "      <td>26.97</td>\n",
       "      <td>80.0</td>\n",
       "      <td>77.0</td>\n",
       "      <td>0</td>\n",
       "    </tr>\n",
       "    <tr>\n",
       "      <th>1</th>\n",
       "      <td>0</td>\n",
       "      <td>46</td>\n",
       "      <td>0</td>\n",
       "      <td>0.0</td>\n",
       "      <td>0.0</td>\n",
       "      <td>0</td>\n",
       "      <td>0</td>\n",
       "      <td>0</td>\n",
       "      <td>250.0</td>\n",
       "      <td>121.0</td>\n",
       "      <td>81.0</td>\n",
       "      <td>28.73</td>\n",
       "      <td>95.0</td>\n",
       "      <td>76.0</td>\n",
       "      <td>0</td>\n",
       "    </tr>\n",
       "    <tr>\n",
       "      <th>2</th>\n",
       "      <td>1</td>\n",
       "      <td>48</td>\n",
       "      <td>1</td>\n",
       "      <td>20.0</td>\n",
       "      <td>0.0</td>\n",
       "      <td>0</td>\n",
       "      <td>0</td>\n",
       "      <td>0</td>\n",
       "      <td>245.0</td>\n",
       "      <td>127.5</td>\n",
       "      <td>80.0</td>\n",
       "      <td>25.34</td>\n",
       "      <td>75.0</td>\n",
       "      <td>70.0</td>\n",
       "      <td>0</td>\n",
       "    </tr>\n",
       "    <tr>\n",
       "      <th>3</th>\n",
       "      <td>0</td>\n",
       "      <td>61</td>\n",
       "      <td>1</td>\n",
       "      <td>30.0</td>\n",
       "      <td>0.0</td>\n",
       "      <td>0</td>\n",
       "      <td>1</td>\n",
       "      <td>0</td>\n",
       "      <td>225.0</td>\n",
       "      <td>150.0</td>\n",
       "      <td>95.0</td>\n",
       "      <td>28.58</td>\n",
       "      <td>65.0</td>\n",
       "      <td>103.0</td>\n",
       "      <td>1</td>\n",
       "    </tr>\n",
       "    <tr>\n",
       "      <th>4</th>\n",
       "      <td>0</td>\n",
       "      <td>46</td>\n",
       "      <td>1</td>\n",
       "      <td>23.0</td>\n",
       "      <td>0.0</td>\n",
       "      <td>0</td>\n",
       "      <td>0</td>\n",
       "      <td>0</td>\n",
       "      <td>285.0</td>\n",
       "      <td>130.0</td>\n",
       "      <td>84.0</td>\n",
       "      <td>23.10</td>\n",
       "      <td>85.0</td>\n",
       "      <td>85.0</td>\n",
       "      <td>0</td>\n",
       "    </tr>\n",
       "  </tbody>\n",
       "</table>\n",
       "</div>"
      ],
      "text/plain": [
       "   male  age  currentSmoker  cigsPerDay  BPMeds  prevalentStroke  \\\n",
       "0     1   39              0         0.0     0.0                0   \n",
       "1     0   46              0         0.0     0.0                0   \n",
       "2     1   48              1        20.0     0.0                0   \n",
       "3     0   61              1        30.0     0.0                0   \n",
       "4     0   46              1        23.0     0.0                0   \n",
       "\n",
       "   prevalentHyp  diabetes  totChol  sysBP  diaBP    BMI  heartRate  glucose  \\\n",
       "0             0         0    195.0  106.0   70.0  26.97       80.0     77.0   \n",
       "1             0         0    250.0  121.0   81.0  28.73       95.0     76.0   \n",
       "2             0         0    245.0  127.5   80.0  25.34       75.0     70.0   \n",
       "3             1         0    225.0  150.0   95.0  28.58       65.0    103.0   \n",
       "4             0         0    285.0  130.0   84.0  23.10       85.0     85.0   \n",
       "\n",
       "   TenYearCHD  \n",
       "0           0  \n",
       "1           0  \n",
       "2           0  \n",
       "3           1  \n",
       "4           0  "
      ]
     },
     "execution_count": 8,
     "metadata": {},
     "output_type": "execute_result"
    }
   ],
   "source": [
    "df = df.drop(\"education\",axis='columns')\n",
    "df.head()"
   ]
  },
  {
   "cell_type": "code",
   "execution_count": 9,
   "id": "6d19f8e8",
   "metadata": {
    "execution": {
     "iopub.execute_input": "2023-07-20T08:05:48.060365Z",
     "iopub.status.busy": "2023-07-20T08:05:48.059024Z",
     "iopub.status.idle": "2023-07-20T08:05:48.072944Z",
     "shell.execute_reply": "2023-07-20T08:05:48.071460Z"
    },
    "papermill": {
     "duration": 0.029817,
     "end_time": "2023-07-20T08:05:48.075658",
     "exception": false,
     "start_time": "2023-07-20T08:05:48.045841",
     "status": "completed"
    },
    "tags": []
   },
   "outputs": [
    {
     "data": {
      "text/plain": [
       "['cigsPerDay', 'BPMeds', 'totChol', 'BMI', 'heartRate', 'glucose']"
      ]
     },
     "execution_count": 9,
     "metadata": {},
     "output_type": "execute_result"
    }
   ],
   "source": [
    "missing = [var for var in df.columns if df[var].isnull().sum()>0] \n",
    "missing"
   ]
  },
  {
   "cell_type": "code",
   "execution_count": 10,
   "id": "3103d6d5",
   "metadata": {
    "execution": {
     "iopub.execute_input": "2023-07-20T08:05:48.101834Z",
     "iopub.status.busy": "2023-07-20T08:05:48.101388Z",
     "iopub.status.idle": "2023-07-20T08:05:48.112211Z",
     "shell.execute_reply": "2023-07-20T08:05:48.110938Z"
    },
    "papermill": {
     "duration": 0.027579,
     "end_time": "2023-07-20T08:05:48.115399",
     "exception": false,
     "start_time": "2023-07-20T08:05:48.087820",
     "status": "completed"
    },
    "tags": []
   },
   "outputs": [
    {
     "data": {
      "text/plain": [
       "540"
      ]
     },
     "execution_count": 10,
     "metadata": {},
     "output_type": "execute_result"
    }
   ],
   "source": [
    "Total_missing_rows=0\n",
    "for col in missing:\n",
    "    Total_missing_rows=Total_missing_rows+df[col].isnull().sum()\n",
    "Total_missing_rows"
   ]
  },
  {
   "cell_type": "markdown",
   "id": "9de192fd",
   "metadata": {
    "papermill": {
     "duration": 0.011842,
     "end_time": "2023-07-20T08:05:48.139441",
     "exception": false,
     "start_time": "2023-07-20T08:05:48.127599",
     "status": "completed"
    },
    "tags": []
   },
   "source": [
    "> We have 540 missing rows so let's check it's percentage against data"
   ]
  },
  {
   "cell_type": "code",
   "execution_count": 11,
   "id": "a8514f82",
   "metadata": {
    "execution": {
     "iopub.execute_input": "2023-07-20T08:05:48.166238Z",
     "iopub.status.busy": "2023-07-20T08:05:48.165803Z",
     "iopub.status.idle": "2023-07-20T08:05:48.172168Z",
     "shell.execute_reply": "2023-07-20T08:05:48.170913Z"
    },
    "papermill": {
     "duration": 0.023098,
     "end_time": "2023-07-20T08:05:48.174707",
     "exception": false,
     "start_time": "2023-07-20T08:05:48.151609",
     "status": "completed"
    },
    "tags": []
   },
   "outputs": [
    {
     "name": "stdout",
     "output_type": "stream",
     "text": [
      "We have 12.741859367626237% missing values\n"
     ]
    }
   ],
   "source": [
    "percent_missing_rows = (Total_missing_rows/df.shape[0])*100\n",
    "print(\"We have {}% missing values\".format(percent_missing_rows))"
   ]
  },
  {
   "cell_type": "markdown",
   "id": "ce4f1f99",
   "metadata": {
    "papermill": {
     "duration": 0.012787,
     "end_time": "2023-07-20T08:05:48.199897",
     "exception": false,
     "start_time": "2023-07-20T08:05:48.187110",
     "status": "completed"
    },
    "tags": []
   },
   "source": [
    "> Let's remove it from data"
   ]
  },
  {
   "cell_type": "code",
   "execution_count": 12,
   "id": "1144cffd",
   "metadata": {
    "execution": {
     "iopub.execute_input": "2023-07-20T08:05:48.227003Z",
     "iopub.status.busy": "2023-07-20T08:05:48.226388Z",
     "iopub.status.idle": "2023-07-20T08:05:48.237198Z",
     "shell.execute_reply": "2023-07-20T08:05:48.236157Z"
    },
    "papermill": {
     "duration": 0.027338,
     "end_time": "2023-07-20T08:05:48.239723",
     "exception": false,
     "start_time": "2023-07-20T08:05:48.212385",
     "status": "completed"
    },
    "tags": []
   },
   "outputs": [
    {
     "data": {
      "text/plain": [
       "(3749, 15)"
      ]
     },
     "execution_count": 12,
     "metadata": {},
     "output_type": "execute_result"
    }
   ],
   "source": [
    "df = df.dropna()\n",
    "df.shape"
   ]
  },
  {
   "cell_type": "code",
   "execution_count": 13,
   "id": "7ab488c2",
   "metadata": {
    "execution": {
     "iopub.execute_input": "2023-07-20T08:05:48.266929Z",
     "iopub.status.busy": "2023-07-20T08:05:48.266485Z",
     "iopub.status.idle": "2023-07-20T08:05:48.289499Z",
     "shell.execute_reply": "2023-07-20T08:05:48.288372Z"
    },
    "papermill": {
     "duration": 0.039651,
     "end_time": "2023-07-20T08:05:48.291925",
     "exception": false,
     "start_time": "2023-07-20T08:05:48.252274",
     "status": "completed"
    },
    "tags": []
   },
   "outputs": [
    {
     "data": {
      "text/html": [
       "<div>\n",
       "<style scoped>\n",
       "    .dataframe tbody tr th:only-of-type {\n",
       "        vertical-align: middle;\n",
       "    }\n",
       "\n",
       "    .dataframe tbody tr th {\n",
       "        vertical-align: top;\n",
       "    }\n",
       "\n",
       "    .dataframe thead th {\n",
       "        text-align: right;\n",
       "    }\n",
       "</style>\n",
       "<table border=\"1\" class=\"dataframe\">\n",
       "  <thead>\n",
       "    <tr style=\"text-align: right;\">\n",
       "      <th></th>\n",
       "      <th>male</th>\n",
       "      <th>age</th>\n",
       "      <th>currentSmoker</th>\n",
       "      <th>cigsPerDay</th>\n",
       "      <th>BPMeds</th>\n",
       "      <th>prevalentStroke</th>\n",
       "      <th>prevalentHyp</th>\n",
       "      <th>diabetes</th>\n",
       "      <th>totChol</th>\n",
       "      <th>sysBP</th>\n",
       "      <th>diaBP</th>\n",
       "      <th>BMI</th>\n",
       "      <th>heartRate</th>\n",
       "      <th>glucose</th>\n",
       "      <th>TenYearCHD</th>\n",
       "    </tr>\n",
       "  </thead>\n",
       "  <tbody>\n",
       "    <tr>\n",
       "      <th>0</th>\n",
       "      <td>1</td>\n",
       "      <td>39</td>\n",
       "      <td>0</td>\n",
       "      <td>0.0</td>\n",
       "      <td>0.0</td>\n",
       "      <td>0</td>\n",
       "      <td>0</td>\n",
       "      <td>0</td>\n",
       "      <td>195.0</td>\n",
       "      <td>106.0</td>\n",
       "      <td>70.0</td>\n",
       "      <td>26.97</td>\n",
       "      <td>80.0</td>\n",
       "      <td>77.0</td>\n",
       "      <td>0</td>\n",
       "    </tr>\n",
       "    <tr>\n",
       "      <th>1</th>\n",
       "      <td>0</td>\n",
       "      <td>46</td>\n",
       "      <td>0</td>\n",
       "      <td>0.0</td>\n",
       "      <td>0.0</td>\n",
       "      <td>0</td>\n",
       "      <td>0</td>\n",
       "      <td>0</td>\n",
       "      <td>250.0</td>\n",
       "      <td>121.0</td>\n",
       "      <td>81.0</td>\n",
       "      <td>28.73</td>\n",
       "      <td>95.0</td>\n",
       "      <td>76.0</td>\n",
       "      <td>0</td>\n",
       "    </tr>\n",
       "    <tr>\n",
       "      <th>2</th>\n",
       "      <td>1</td>\n",
       "      <td>48</td>\n",
       "      <td>1</td>\n",
       "      <td>20.0</td>\n",
       "      <td>0.0</td>\n",
       "      <td>0</td>\n",
       "      <td>0</td>\n",
       "      <td>0</td>\n",
       "      <td>245.0</td>\n",
       "      <td>127.5</td>\n",
       "      <td>80.0</td>\n",
       "      <td>25.34</td>\n",
       "      <td>75.0</td>\n",
       "      <td>70.0</td>\n",
       "      <td>0</td>\n",
       "    </tr>\n",
       "    <tr>\n",
       "      <th>3</th>\n",
       "      <td>0</td>\n",
       "      <td>61</td>\n",
       "      <td>1</td>\n",
       "      <td>30.0</td>\n",
       "      <td>0.0</td>\n",
       "      <td>0</td>\n",
       "      <td>1</td>\n",
       "      <td>0</td>\n",
       "      <td>225.0</td>\n",
       "      <td>150.0</td>\n",
       "      <td>95.0</td>\n",
       "      <td>28.58</td>\n",
       "      <td>65.0</td>\n",
       "      <td>103.0</td>\n",
       "      <td>1</td>\n",
       "    </tr>\n",
       "    <tr>\n",
       "      <th>4</th>\n",
       "      <td>0</td>\n",
       "      <td>46</td>\n",
       "      <td>1</td>\n",
       "      <td>23.0</td>\n",
       "      <td>0.0</td>\n",
       "      <td>0</td>\n",
       "      <td>0</td>\n",
       "      <td>0</td>\n",
       "      <td>285.0</td>\n",
       "      <td>130.0</td>\n",
       "      <td>84.0</td>\n",
       "      <td>23.10</td>\n",
       "      <td>85.0</td>\n",
       "      <td>85.0</td>\n",
       "      <td>0</td>\n",
       "    </tr>\n",
       "  </tbody>\n",
       "</table>\n",
       "</div>"
      ],
      "text/plain": [
       "   male  age  currentSmoker  cigsPerDay  BPMeds  prevalentStroke  \\\n",
       "0     1   39              0         0.0     0.0                0   \n",
       "1     0   46              0         0.0     0.0                0   \n",
       "2     1   48              1        20.0     0.0                0   \n",
       "3     0   61              1        30.0     0.0                0   \n",
       "4     0   46              1        23.0     0.0                0   \n",
       "\n",
       "   prevalentHyp  diabetes  totChol  sysBP  diaBP    BMI  heartRate  glucose  \\\n",
       "0             0         0    195.0  106.0   70.0  26.97       80.0     77.0   \n",
       "1             0         0    250.0  121.0   81.0  28.73       95.0     76.0   \n",
       "2             0         0    245.0  127.5   80.0  25.34       75.0     70.0   \n",
       "3             1         0    225.0  150.0   95.0  28.58       65.0    103.0   \n",
       "4             0         0    285.0  130.0   84.0  23.10       85.0     85.0   \n",
       "\n",
       "   TenYearCHD  \n",
       "0           0  \n",
       "1           0  \n",
       "2           0  \n",
       "3           1  \n",
       "4           0  "
      ]
     },
     "execution_count": 13,
     "metadata": {},
     "output_type": "execute_result"
    }
   ],
   "source": [
    "df.head()"
   ]
  },
  {
   "cell_type": "code",
   "execution_count": 14,
   "id": "1707fb41",
   "metadata": {
    "execution": {
     "iopub.execute_input": "2023-07-20T08:05:48.319139Z",
     "iopub.status.busy": "2023-07-20T08:05:48.318698Z",
     "iopub.status.idle": "2023-07-20T08:05:48.343048Z",
     "shell.execute_reply": "2023-07-20T08:05:48.341871Z"
    },
    "papermill": {
     "duration": 0.040935,
     "end_time": "2023-07-20T08:05:48.345615",
     "exception": false,
     "start_time": "2023-07-20T08:05:48.304680",
     "status": "completed"
    },
    "tags": []
   },
   "outputs": [
    {
     "data": {
      "text/html": [
       "<div>\n",
       "<style scoped>\n",
       "    .dataframe tbody tr th:only-of-type {\n",
       "        vertical-align: middle;\n",
       "    }\n",
       "\n",
       "    .dataframe tbody tr th {\n",
       "        vertical-align: top;\n",
       "    }\n",
       "\n",
       "    .dataframe thead th {\n",
       "        text-align: right;\n",
       "    }\n",
       "</style>\n",
       "<table border=\"1\" class=\"dataframe\">\n",
       "  <thead>\n",
       "    <tr style=\"text-align: right;\">\n",
       "      <th></th>\n",
       "      <th>male</th>\n",
       "      <th>age</th>\n",
       "      <th>currentSmoker</th>\n",
       "      <th>cigsPerDay</th>\n",
       "      <th>BPMeds</th>\n",
       "      <th>prevalentStroke</th>\n",
       "      <th>prevalentHyp</th>\n",
       "      <th>diabetes</th>\n",
       "      <th>totChol</th>\n",
       "      <th>sysBP</th>\n",
       "      <th>diaBP</th>\n",
       "      <th>BMI</th>\n",
       "      <th>heartRate</th>\n",
       "      <th>glucose</th>\n",
       "    </tr>\n",
       "  </thead>\n",
       "  <tbody>\n",
       "    <tr>\n",
       "      <th>0</th>\n",
       "      <td>1</td>\n",
       "      <td>39</td>\n",
       "      <td>0</td>\n",
       "      <td>0.0</td>\n",
       "      <td>0.0</td>\n",
       "      <td>0</td>\n",
       "      <td>0</td>\n",
       "      <td>0</td>\n",
       "      <td>195.0</td>\n",
       "      <td>106.0</td>\n",
       "      <td>70.0</td>\n",
       "      <td>26.97</td>\n",
       "      <td>80.0</td>\n",
       "      <td>77.0</td>\n",
       "    </tr>\n",
       "    <tr>\n",
       "      <th>1</th>\n",
       "      <td>0</td>\n",
       "      <td>46</td>\n",
       "      <td>0</td>\n",
       "      <td>0.0</td>\n",
       "      <td>0.0</td>\n",
       "      <td>0</td>\n",
       "      <td>0</td>\n",
       "      <td>0</td>\n",
       "      <td>250.0</td>\n",
       "      <td>121.0</td>\n",
       "      <td>81.0</td>\n",
       "      <td>28.73</td>\n",
       "      <td>95.0</td>\n",
       "      <td>76.0</td>\n",
       "    </tr>\n",
       "    <tr>\n",
       "      <th>2</th>\n",
       "      <td>1</td>\n",
       "      <td>48</td>\n",
       "      <td>1</td>\n",
       "      <td>20.0</td>\n",
       "      <td>0.0</td>\n",
       "      <td>0</td>\n",
       "      <td>0</td>\n",
       "      <td>0</td>\n",
       "      <td>245.0</td>\n",
       "      <td>127.5</td>\n",
       "      <td>80.0</td>\n",
       "      <td>25.34</td>\n",
       "      <td>75.0</td>\n",
       "      <td>70.0</td>\n",
       "    </tr>\n",
       "    <tr>\n",
       "      <th>3</th>\n",
       "      <td>0</td>\n",
       "      <td>61</td>\n",
       "      <td>1</td>\n",
       "      <td>30.0</td>\n",
       "      <td>0.0</td>\n",
       "      <td>0</td>\n",
       "      <td>1</td>\n",
       "      <td>0</td>\n",
       "      <td>225.0</td>\n",
       "      <td>150.0</td>\n",
       "      <td>95.0</td>\n",
       "      <td>28.58</td>\n",
       "      <td>65.0</td>\n",
       "      <td>103.0</td>\n",
       "    </tr>\n",
       "    <tr>\n",
       "      <th>4</th>\n",
       "      <td>0</td>\n",
       "      <td>46</td>\n",
       "      <td>1</td>\n",
       "      <td>23.0</td>\n",
       "      <td>0.0</td>\n",
       "      <td>0</td>\n",
       "      <td>0</td>\n",
       "      <td>0</td>\n",
       "      <td>285.0</td>\n",
       "      <td>130.0</td>\n",
       "      <td>84.0</td>\n",
       "      <td>23.10</td>\n",
       "      <td>85.0</td>\n",
       "      <td>85.0</td>\n",
       "    </tr>\n",
       "  </tbody>\n",
       "</table>\n",
       "</div>"
      ],
      "text/plain": [
       "   male  age  currentSmoker  cigsPerDay  BPMeds  prevalentStroke  \\\n",
       "0     1   39              0         0.0     0.0                0   \n",
       "1     0   46              0         0.0     0.0                0   \n",
       "2     1   48              1        20.0     0.0                0   \n",
       "3     0   61              1        30.0     0.0                0   \n",
       "4     0   46              1        23.0     0.0                0   \n",
       "\n",
       "   prevalentHyp  diabetes  totChol  sysBP  diaBP    BMI  heartRate  glucose  \n",
       "0             0         0    195.0  106.0   70.0  26.97       80.0     77.0  \n",
       "1             0         0    250.0  121.0   81.0  28.73       95.0     76.0  \n",
       "2             0         0    245.0  127.5   80.0  25.34       75.0     70.0  \n",
       "3             1         0    225.0  150.0   95.0  28.58       65.0    103.0  \n",
       "4             0         0    285.0  130.0   84.0  23.10       85.0     85.0  "
      ]
     },
     "execution_count": 14,
     "metadata": {},
     "output_type": "execute_result"
    }
   ],
   "source": [
    "y = df[[\"TenYearCHD\"]]\n",
    "X = df.drop(\"TenYearCHD\",axis=1)\n",
    "X.head()"
   ]
  },
  {
   "cell_type": "markdown",
   "id": "225c24ef",
   "metadata": {
    "papermill": {
     "duration": 0.013308,
     "end_time": "2023-07-20T08:05:48.371922",
     "exception": false,
     "start_time": "2023-07-20T08:05:48.358614",
     "status": "completed"
    },
    "tags": []
   },
   "source": [
    "## **Scaling the columns**\n",
    "As we can see our columns have different range of values so we will scale it first."
   ]
  },
  {
   "cell_type": "code",
   "execution_count": 15,
   "id": "bce035d3",
   "metadata": {
    "execution": {
     "iopub.execute_input": "2023-07-20T08:05:48.402037Z",
     "iopub.status.busy": "2023-07-20T08:05:48.401552Z",
     "iopub.status.idle": "2023-07-20T08:05:48.612126Z",
     "shell.execute_reply": "2023-07-20T08:05:48.610944Z"
    },
    "papermill": {
     "duration": 0.229391,
     "end_time": "2023-07-20T08:05:48.615348",
     "exception": false,
     "start_time": "2023-07-20T08:05:48.385957",
     "status": "completed"
    },
    "tags": []
   },
   "outputs": [
    {
     "data": {
      "text/plain": [
       "array([-0.89576997,  0.04915618, -0.97705693, -0.75542723, -0.17709252,\n",
       "       -0.07505363, -0.67312761, -0.16723694,  0.38218622,  0.02875575,\n",
       "       -0.58111572, -0.71325938, -0.05887514, -0.24631379])"
      ]
     },
     "execution_count": 15,
     "metadata": {},
     "output_type": "execute_result"
    }
   ],
   "source": [
    "from sklearn.preprocessing import StandardScaler\n",
    "scaler = StandardScaler()\n",
    "X = scaler.fit_transform(X)\n",
    "X[10,:]"
   ]
  },
  {
   "cell_type": "code",
   "execution_count": 16,
   "id": "a51fadad",
   "metadata": {
    "execution": {
     "iopub.execute_input": "2023-07-20T08:05:48.644431Z",
     "iopub.status.busy": "2023-07-20T08:05:48.643954Z",
     "iopub.status.idle": "2023-07-20T08:05:48.789807Z",
     "shell.execute_reply": "2023-07-20T08:05:48.788398Z"
    },
    "papermill": {
     "duration": 0.164374,
     "end_time": "2023-07-20T08:05:48.793081",
     "exception": false,
     "start_time": "2023-07-20T08:05:48.628707",
     "status": "completed"
    },
    "tags": []
   },
   "outputs": [],
   "source": [
    "from sklearn.model_selection import train_test_split\n",
    "X_train, X_test, y_train, y_test = train_test_split(X, y, test_size=0.30, random_state = 0)"
   ]
  },
  {
   "cell_type": "markdown",
   "id": "d92ec15a",
   "metadata": {
    "papermill": {
     "duration": 0.013059,
     "end_time": "2023-07-20T08:05:48.819402",
     "exception": false,
     "start_time": "2023-07-20T08:05:48.806343",
     "status": "completed"
    },
    "tags": []
   },
   "source": [
    "## **Logistic Regression Model**"
   ]
  },
  {
   "cell_type": "code",
   "execution_count": 17,
   "id": "713a4654",
   "metadata": {
    "execution": {
     "iopub.execute_input": "2023-07-20T08:05:48.849301Z",
     "iopub.status.busy": "2023-07-20T08:05:48.848743Z",
     "iopub.status.idle": "2023-07-20T08:05:48.991133Z",
     "shell.execute_reply": "2023-07-20T08:05:48.989394Z"
    },
    "papermill": {
     "duration": 0.162629,
     "end_time": "2023-07-20T08:05:48.996042",
     "exception": false,
     "start_time": "2023-07-20T08:05:48.833413",
     "status": "completed"
    },
    "tags": []
   },
   "outputs": [],
   "source": [
    "from sklearn.linear_model import LogisticRegression\n",
    "Logistic_regression = LogisticRegression()\n",
    "Logistic_regression.fit(X_train,y_train)\n",
    "test_prediction = Logistic_regression.predict(X_test)"
   ]
  },
  {
   "cell_type": "markdown",
   "id": "aa0555a7",
   "metadata": {
    "papermill": {
     "duration": 0.029508,
     "end_time": "2023-07-20T08:05:49.054888",
     "exception": false,
     "start_time": "2023-07-20T08:05:49.025380",
     "status": "completed"
    },
    "tags": []
   },
   "source": [
    "## **Model Evaluation**"
   ]
  },
  {
   "cell_type": "code",
   "execution_count": 18,
   "id": "832f55be",
   "metadata": {
    "execution": {
     "iopub.execute_input": "2023-07-20T08:05:49.114162Z",
     "iopub.status.busy": "2023-07-20T08:05:49.113371Z",
     "iopub.status.idle": "2023-07-20T08:05:49.128487Z",
     "shell.execute_reply": "2023-07-20T08:05:49.127154Z"
    },
    "papermill": {
     "duration": 0.047436,
     "end_time": "2023-07-20T08:05:49.131322",
     "exception": false,
     "start_time": "2023-07-20T08:05:49.083886",
     "status": "completed"
    },
    "tags": []
   },
   "outputs": [
    {
     "data": {
      "text/plain": [
       "array([[945,   5],\n",
       "       [164,  11]])"
      ]
     },
     "execution_count": 18,
     "metadata": {},
     "output_type": "execute_result"
    }
   ],
   "source": [
    "from sklearn.metrics import confusion_matrix,accuracy_score,classification_report\n",
    "test_conf_matrix = confusion_matrix(y_test, test_prediction)\n",
    "test_conf_matrix"
   ]
  },
  {
   "cell_type": "code",
   "execution_count": 19,
   "id": "cca761c0",
   "metadata": {
    "execution": {
     "iopub.execute_input": "2023-07-20T08:05:49.162539Z",
     "iopub.status.busy": "2023-07-20T08:05:49.161759Z",
     "iopub.status.idle": "2023-07-20T08:05:49.173790Z",
     "shell.execute_reply": "2023-07-20T08:05:49.172534Z"
    },
    "papermill": {
     "duration": 0.030811,
     "end_time": "2023-07-20T08:05:49.176458",
     "exception": false,
     "start_time": "2023-07-20T08:05:49.145647",
     "status": "completed"
    },
    "tags": []
   },
   "outputs": [
    {
     "data": {
      "text/plain": [
       "0.8497777777777777"
      ]
     },
     "execution_count": 19,
     "metadata": {},
     "output_type": "execute_result"
    }
   ],
   "source": [
    "test_acc_score = accuracy_score(y_test, test_prediction)\n",
    "test_acc_score"
   ]
  },
  {
   "cell_type": "code",
   "execution_count": 20,
   "id": "16df144e",
   "metadata": {
    "execution": {
     "iopub.execute_input": "2023-07-20T08:05:49.206066Z",
     "iopub.status.busy": "2023-07-20T08:05:49.205241Z",
     "iopub.status.idle": "2023-07-20T08:05:49.223902Z",
     "shell.execute_reply": "2023-07-20T08:05:49.222361Z"
    },
    "papermill": {
     "duration": 0.036315,
     "end_time": "2023-07-20T08:05:49.226474",
     "exception": false,
     "start_time": "2023-07-20T08:05:49.190159",
     "status": "completed"
    },
    "tags": []
   },
   "outputs": [
    {
     "name": "stdout",
     "output_type": "stream",
     "text": [
      "              precision    recall  f1-score   support\n",
      "\n",
      "           0       0.85      0.99      0.92       950\n",
      "           1       0.69      0.06      0.12       175\n",
      "\n",
      "    accuracy                           0.85      1125\n",
      "   macro avg       0.77      0.53      0.52      1125\n",
      "weighted avg       0.83      0.85      0.79      1125\n",
      "\n"
     ]
    }
   ],
   "source": [
    "test_class_report = classification_report(y_test,test_prediction)\n",
    "print(test_class_report)"
   ]
  },
  {
   "cell_type": "markdown",
   "id": "74f53d2c",
   "metadata": {
    "papermill": {
     "duration": 0.013606,
     "end_time": "2023-07-20T08:05:49.254012",
     "exception": false,
     "start_time": "2023-07-20T08:05:49.240406",
     "status": "completed"
    },
    "tags": []
   },
   "source": [
    "### **Check for overfitting or underfitting** "
   ]
  },
  {
   "cell_type": "code",
   "execution_count": 21,
   "id": "2f4af174",
   "metadata": {
    "execution": {
     "iopub.execute_input": "2023-07-20T08:05:49.284639Z",
     "iopub.status.busy": "2023-07-20T08:05:49.283794Z",
     "iopub.status.idle": "2023-07-20T08:05:49.303291Z",
     "shell.execute_reply": "2023-07-20T08:05:49.301673Z"
    },
    "papermill": {
     "duration": 0.040135,
     "end_time": "2023-07-20T08:05:49.307676",
     "exception": false,
     "start_time": "2023-07-20T08:05:49.267541",
     "status": "completed"
    },
    "tags": []
   },
   "outputs": [
    {
     "data": {
      "text/plain": [
       "0.8551829268292683"
      ]
     },
     "execution_count": 21,
     "metadata": {},
     "output_type": "execute_result"
    }
   ],
   "source": [
    "train_prediction = Logistic_regression.predict(X_train)\n",
    "train_acc_score = accuracy_score(y_train, train_prediction)\n",
    "train_acc_score"
   ]
  },
  {
   "cell_type": "code",
   "execution_count": 22,
   "id": "35088844",
   "metadata": {
    "execution": {
     "iopub.execute_input": "2023-07-20T08:05:49.371108Z",
     "iopub.status.busy": "2023-07-20T08:05:49.370351Z",
     "iopub.status.idle": "2023-07-20T08:05:49.382675Z",
     "shell.execute_reply": "2023-07-20T08:05:49.380737Z"
    },
    "papermill": {
     "duration": 0.047667,
     "end_time": "2023-07-20T08:05:49.387013",
     "exception": false,
     "start_time": "2023-07-20T08:05:49.339346",
     "status": "completed"
    },
    "tags": []
   },
   "outputs": [
    {
     "name": "stdout",
     "output_type": "stream",
     "text": [
      "Training set score: 0.8552\n",
      "Test set score: 0.8498\n"
     ]
    }
   ],
   "source": [
    "print('Training set score: {:.4f}'.format(train_acc_score))\n",
    "\n",
    "print('Test set score: {:.4f}'.format(test_acc_score))"
   ]
  },
  {
   "cell_type": "markdown",
   "id": "5dfd6db5",
   "metadata": {
    "papermill": {
     "duration": 0.014629,
     "end_time": "2023-07-20T08:05:49.428250",
     "exception": false,
     "start_time": "2023-07-20T08:05:49.413621",
     "status": "completed"
    },
    "tags": []
   },
   "source": [
    "> As we can see that the training set accouracy is 0.85 while test set accuracy is 0.84 so ther is no question of overfitting or underfitting."
   ]
  },
  {
   "cell_type": "code",
   "execution_count": null,
   "id": "e92a359c",
   "metadata": {
    "papermill": {
     "duration": 0.01394,
     "end_time": "2023-07-20T08:05:49.456287",
     "exception": false,
     "start_time": "2023-07-20T08:05:49.442347",
     "status": "completed"
    },
    "tags": []
   },
   "outputs": [],
   "source": []
  }
 ],
 "metadata": {
  "kernelspec": {
   "display_name": "Python 3",
   "language": "python",
   "name": "python3"
  },
  "language_info": {
   "codemirror_mode": {
    "name": "ipython",
    "version": 3
   },
   "file_extension": ".py",
   "mimetype": "text/x-python",
   "name": "python",
   "nbconvert_exporter": "python",
   "pygments_lexer": "ipython3",
   "version": "3.10.12"
  },
  "papermill": {
   "default_parameters": {},
   "duration": 17.92097,
   "end_time": "2023-07-20T08:05:50.499580",
   "environment_variables": {},
   "exception": null,
   "input_path": "__notebook__.ipynb",
   "output_path": "__notebook__.ipynb",
   "parameters": {},
   "start_time": "2023-07-20T08:05:32.578610",
   "version": "2.4.0"
  }
 },
 "nbformat": 4,
 "nbformat_minor": 5
}
