{
 "cells": [
  {
   "cell_type": "code",
   "execution_count": 1,
   "id": "8448e03c",
   "metadata": {
    "_cell_guid": "b1076dfc-b9ad-4769-8c92-a6c4dae69d19",
    "_uuid": "8f2839f25d086af736a60e9eeb907d3b93b6e0e5",
    "execution": {
     "iopub.execute_input": "2023-08-08T11:09:59.695468Z",
     "iopub.status.busy": "2023-08-08T11:09:59.694798Z",
     "iopub.status.idle": "2023-08-08T11:09:59.716954Z",
     "shell.execute_reply": "2023-08-08T11:09:59.715396Z"
    },
    "papermill": {
     "duration": 0.033571,
     "end_time": "2023-08-08T11:09:59.719856",
     "exception": false,
     "start_time": "2023-08-08T11:09:59.686285",
     "status": "completed"
    },
    "tags": []
   },
   "outputs": [
    {
     "name": "stdout",
     "output_type": "stream",
     "text": [
      "/kaggle/input/heart-disease-dataset/heart.csv\n"
     ]
    }
   ],
   "source": [
    "# This Python 3 environment comes with many helpful analytics libraries installed\n",
    "# It is defined by the kaggle/python Docker image: https://github.com/kaggle/docker-python\n",
    "# For example, here's several helpful packages to load\n",
    "\n",
    "import numpy as np # linear algebra\n",
    "import pandas as pd # data processing, CSV file I/O (e.g. pd.read_csv)\n",
    "\n",
    "# Input data files are available in the read-only \"../input/\" directory\n",
    "# For example, running this (by clicking run or pressing Shift+Enter) will list all files under the input directory\n",
    "\n",
    "import os\n",
    "for dirname, _, filenames in os.walk('/kaggle/input'):\n",
    "    for filename in filenames:\n",
    "        print(os.path.join(dirname, filename))\n",
    "\n",
    "# You can write up to 20GB to the current directory (/kaggle/working/) that gets preserved as output when you create a version using \"Save & Run All\" \n",
    "# You can also write temporary files to /kaggle/temp/, but they won't be saved outside of the current session"
   ]
  },
  {
   "cell_type": "code",
   "execution_count": 2,
   "id": "31bef35d",
   "metadata": {
    "execution": {
     "iopub.execute_input": "2023-08-08T11:09:59.732200Z",
     "iopub.status.busy": "2023-08-08T11:09:59.731389Z",
     "iopub.status.idle": "2023-08-08T11:09:59.756045Z",
     "shell.execute_reply": "2023-08-08T11:09:59.754905Z"
    },
    "papermill": {
     "duration": 0.03336,
     "end_time": "2023-08-08T11:09:59.758656",
     "exception": false,
     "start_time": "2023-08-08T11:09:59.725296",
     "status": "completed"
    },
    "tags": []
   },
   "outputs": [],
   "source": [
    "df = pd.read_csv(\"/kaggle/input/heart-disease-dataset/heart.csv\")"
   ]
  },
  {
   "cell_type": "code",
   "execution_count": 3,
   "id": "3951292a",
   "metadata": {
    "execution": {
     "iopub.execute_input": "2023-08-08T11:09:59.771006Z",
     "iopub.status.busy": "2023-08-08T11:09:59.770324Z",
     "iopub.status.idle": "2023-08-08T11:09:59.796808Z",
     "shell.execute_reply": "2023-08-08T11:09:59.795974Z"
    },
    "papermill": {
     "duration": 0.03498,
     "end_time": "2023-08-08T11:09:59.798892",
     "exception": false,
     "start_time": "2023-08-08T11:09:59.763912",
     "status": "completed"
    },
    "tags": []
   },
   "outputs": [
    {
     "data": {
      "text/html": [
       "<div>\n",
       "<style scoped>\n",
       "    .dataframe tbody tr th:only-of-type {\n",
       "        vertical-align: middle;\n",
       "    }\n",
       "\n",
       "    .dataframe tbody tr th {\n",
       "        vertical-align: top;\n",
       "    }\n",
       "\n",
       "    .dataframe thead th {\n",
       "        text-align: right;\n",
       "    }\n",
       "</style>\n",
       "<table border=\"1\" class=\"dataframe\">\n",
       "  <thead>\n",
       "    <tr style=\"text-align: right;\">\n",
       "      <th></th>\n",
       "      <th>age</th>\n",
       "      <th>sex</th>\n",
       "      <th>cp</th>\n",
       "      <th>trestbps</th>\n",
       "      <th>chol</th>\n",
       "      <th>fbs</th>\n",
       "      <th>restecg</th>\n",
       "      <th>thalach</th>\n",
       "      <th>exang</th>\n",
       "      <th>oldpeak</th>\n",
       "      <th>slope</th>\n",
       "      <th>ca</th>\n",
       "      <th>thal</th>\n",
       "      <th>target</th>\n",
       "    </tr>\n",
       "  </thead>\n",
       "  <tbody>\n",
       "    <tr>\n",
       "      <th>0</th>\n",
       "      <td>52</td>\n",
       "      <td>1</td>\n",
       "      <td>0</td>\n",
       "      <td>125</td>\n",
       "      <td>212</td>\n",
       "      <td>0</td>\n",
       "      <td>1</td>\n",
       "      <td>168</td>\n",
       "      <td>0</td>\n",
       "      <td>1.0</td>\n",
       "      <td>2</td>\n",
       "      <td>2</td>\n",
       "      <td>3</td>\n",
       "      <td>0</td>\n",
       "    </tr>\n",
       "    <tr>\n",
       "      <th>1</th>\n",
       "      <td>53</td>\n",
       "      <td>1</td>\n",
       "      <td>0</td>\n",
       "      <td>140</td>\n",
       "      <td>203</td>\n",
       "      <td>1</td>\n",
       "      <td>0</td>\n",
       "      <td>155</td>\n",
       "      <td>1</td>\n",
       "      <td>3.1</td>\n",
       "      <td>0</td>\n",
       "      <td>0</td>\n",
       "      <td>3</td>\n",
       "      <td>0</td>\n",
       "    </tr>\n",
       "    <tr>\n",
       "      <th>2</th>\n",
       "      <td>70</td>\n",
       "      <td>1</td>\n",
       "      <td>0</td>\n",
       "      <td>145</td>\n",
       "      <td>174</td>\n",
       "      <td>0</td>\n",
       "      <td>1</td>\n",
       "      <td>125</td>\n",
       "      <td>1</td>\n",
       "      <td>2.6</td>\n",
       "      <td>0</td>\n",
       "      <td>0</td>\n",
       "      <td>3</td>\n",
       "      <td>0</td>\n",
       "    </tr>\n",
       "    <tr>\n",
       "      <th>3</th>\n",
       "      <td>61</td>\n",
       "      <td>1</td>\n",
       "      <td>0</td>\n",
       "      <td>148</td>\n",
       "      <td>203</td>\n",
       "      <td>0</td>\n",
       "      <td>1</td>\n",
       "      <td>161</td>\n",
       "      <td>0</td>\n",
       "      <td>0.0</td>\n",
       "      <td>2</td>\n",
       "      <td>1</td>\n",
       "      <td>3</td>\n",
       "      <td>0</td>\n",
       "    </tr>\n",
       "    <tr>\n",
       "      <th>4</th>\n",
       "      <td>62</td>\n",
       "      <td>0</td>\n",
       "      <td>0</td>\n",
       "      <td>138</td>\n",
       "      <td>294</td>\n",
       "      <td>1</td>\n",
       "      <td>1</td>\n",
       "      <td>106</td>\n",
       "      <td>0</td>\n",
       "      <td>1.9</td>\n",
       "      <td>1</td>\n",
       "      <td>3</td>\n",
       "      <td>2</td>\n",
       "      <td>0</td>\n",
       "    </tr>\n",
       "  </tbody>\n",
       "</table>\n",
       "</div>"
      ],
      "text/plain": [
       "   age  sex  cp  trestbps  chol  fbs  restecg  thalach  exang  oldpeak  slope  \\\n",
       "0   52    1   0       125   212    0        1      168      0      1.0      2   \n",
       "1   53    1   0       140   203    1        0      155      1      3.1      0   \n",
       "2   70    1   0       145   174    0        1      125      1      2.6      0   \n",
       "3   61    1   0       148   203    0        1      161      0      0.0      2   \n",
       "4   62    0   0       138   294    1        1      106      0      1.9      1   \n",
       "\n",
       "   ca  thal  target  \n",
       "0   2     3       0  \n",
       "1   0     3       0  \n",
       "2   0     3       0  \n",
       "3   1     3       0  \n",
       "4   3     2       0  "
      ]
     },
     "execution_count": 3,
     "metadata": {},
     "output_type": "execute_result"
    }
   ],
   "source": [
    "df.head()"
   ]
  },
  {
   "cell_type": "code",
   "execution_count": 4,
   "id": "9b8a6946",
   "metadata": {
    "execution": {
     "iopub.execute_input": "2023-08-08T11:09:59.812251Z",
     "iopub.status.busy": "2023-08-08T11:09:59.811644Z",
     "iopub.status.idle": "2023-08-08T11:09:59.816091Z",
     "shell.execute_reply": "2023-08-08T11:09:59.815052Z"
    },
    "papermill": {
     "duration": 0.013601,
     "end_time": "2023-08-08T11:09:59.818436",
     "exception": false,
     "start_time": "2023-08-08T11:09:59.804835",
     "status": "completed"
    },
    "tags": []
   },
   "outputs": [],
   "source": [
    "features = [x for x in df.columns if x not in \"target\"]"
   ]
  },
  {
   "cell_type": "code",
   "execution_count": 5,
   "id": "c5a2493e",
   "metadata": {
    "execution": {
     "iopub.execute_input": "2023-08-08T11:09:59.830836Z",
     "iopub.status.busy": "2023-08-08T11:09:59.830427Z",
     "iopub.status.idle": "2023-08-08T11:09:59.837473Z",
     "shell.execute_reply": "2023-08-08T11:09:59.836303Z"
    },
    "papermill": {
     "duration": 0.016167,
     "end_time": "2023-08-08T11:09:59.840056",
     "exception": false,
     "start_time": "2023-08-08T11:09:59.823889",
     "status": "completed"
    },
    "tags": []
   },
   "outputs": [
    {
     "data": {
      "text/plain": [
       "['age',\n",
       " 'sex',\n",
       " 'cp',\n",
       " 'trestbps',\n",
       " 'chol',\n",
       " 'fbs',\n",
       " 'restecg',\n",
       " 'thalach',\n",
       " 'exang',\n",
       " 'oldpeak',\n",
       " 'slope',\n",
       " 'ca',\n",
       " 'thal']"
      ]
     },
     "execution_count": 5,
     "metadata": {},
     "output_type": "execute_result"
    }
   ],
   "source": [
    "features"
   ]
  },
  {
   "cell_type": "code",
   "execution_count": 6,
   "id": "14bd0a89",
   "metadata": {
    "execution": {
     "iopub.execute_input": "2023-08-08T11:09:59.853137Z",
     "iopub.status.busy": "2023-08-08T11:09:59.852290Z",
     "iopub.status.idle": "2023-08-08T11:09:59.858945Z",
     "shell.execute_reply": "2023-08-08T11:09:59.857930Z"
    },
    "papermill": {
     "duration": 0.015523,
     "end_time": "2023-08-08T11:09:59.861227",
     "exception": false,
     "start_time": "2023-08-08T11:09:59.845704",
     "status": "completed"
    },
    "tags": []
   },
   "outputs": [
    {
     "data": {
      "text/plain": [
       "13"
      ]
     },
     "execution_count": 6,
     "metadata": {},
     "output_type": "execute_result"
    }
   ],
   "source": [
    "len(features)"
   ]
  },
  {
   "cell_type": "code",
   "execution_count": 7,
   "id": "8701a3a1",
   "metadata": {
    "execution": {
     "iopub.execute_input": "2023-08-08T11:09:59.874385Z",
     "iopub.status.busy": "2023-08-08T11:09:59.874048Z",
     "iopub.status.idle": "2023-08-08T11:10:01.030146Z",
     "shell.execute_reply": "2023-08-08T11:10:01.029277Z"
    },
    "papermill": {
     "duration": 1.165858,
     "end_time": "2023-08-08T11:10:01.032808",
     "exception": false,
     "start_time": "2023-08-08T11:09:59.866950",
     "status": "completed"
    },
    "tags": []
   },
   "outputs": [
    {
     "name": "stderr",
     "output_type": "stream",
     "text": [
      "/opt/conda/lib/python3.10/site-packages/scipy/__init__.py:146: UserWarning: A NumPy version >=1.16.5 and <1.23.0 is required for this version of SciPy (detected version 1.23.5\n",
      "  warnings.warn(f\"A NumPy version >={np_minversion} and <{np_maxversion}\"\n"
     ]
    },
    {
     "name": "stdout",
     "output_type": "stream",
     "text": [
      "X train size (820, 13)\n",
      "y train size (820,)\n",
      "X validation size (205, 13)\n",
      "X validation size (205,)\n"
     ]
    }
   ],
   "source": [
    "from sklearn.model_selection import train_test_split\n",
    "x_train,x_val,y_train,y_val = train_test_split(df[features],df[\"target\"],train_size=0.8,random_state=55)\n",
    "print(\"X train size\",x_train.shape)\n",
    "print(\"y train size\",y_train.shape)\n",
    "print(\"X validation size\",x_val.shape)\n",
    "print(\"X validation size\",y_val.shape)"
   ]
  },
  {
   "cell_type": "code",
   "execution_count": 8,
   "id": "fd40ac6b",
   "metadata": {
    "execution": {
     "iopub.execute_input": "2023-08-08T11:10:01.050666Z",
     "iopub.status.busy": "2023-08-08T11:10:01.050002Z",
     "iopub.status.idle": "2023-08-08T11:10:01.055627Z",
     "shell.execute_reply": "2023-08-08T11:10:01.054661Z"
    },
    "papermill": {
     "duration": 0.017235,
     "end_time": "2023-08-08T11:10:01.057943",
     "exception": false,
     "start_time": "2023-08-08T11:10:01.040708",
     "status": "completed"
    },
    "tags": []
   },
   "outputs": [],
   "source": [
    "min_samples_split_list = [2,10,30,50,100,200,300,400,500,600,700,800]\n",
    "max_depth_list= [1,2,3,4,8,16,32,64,None]"
   ]
  },
  {
   "cell_type": "code",
   "execution_count": 9,
   "id": "39a2cf7e",
   "metadata": {
    "execution": {
     "iopub.execute_input": "2023-08-08T11:10:01.071658Z",
     "iopub.status.busy": "2023-08-08T11:10:01.070867Z",
     "iopub.status.idle": "2023-08-08T11:10:01.306772Z",
     "shell.execute_reply": "2023-08-08T11:10:01.305710Z"
    },
    "papermill": {
     "duration": 0.245512,
     "end_time": "2023-08-08T11:10:01.309485",
     "exception": false,
     "start_time": "2023-08-08T11:10:01.063973",
     "status": "completed"
    },
    "tags": []
   },
   "outputs": [],
   "source": [
    "from sklearn.tree import DecisionTreeClassifier\n",
    "from sklearn.metrics import accuracy_score\n",
    "\n",
    "import matplotlib.pyplot as plt"
   ]
  },
  {
   "cell_type": "code",
   "execution_count": 10,
   "id": "c6f89527",
   "metadata": {
    "execution": {
     "iopub.execute_input": "2023-08-08T11:10:01.322941Z",
     "iopub.status.busy": "2023-08-08T11:10:01.322544Z",
     "iopub.status.idle": "2023-08-08T11:10:01.832870Z",
     "shell.execute_reply": "2023-08-08T11:10:01.831762Z"
    },
    "papermill": {
     "duration": 0.519962,
     "end_time": "2023-08-08T11:10:01.835573",
     "exception": false,
     "start_time": "2023-08-08T11:10:01.315611",
     "status": "completed"
    },
    "tags": []
   },
   "outputs": [
    {
     "data": {
      "text/plain": [
       "<matplotlib.legend.Legend at 0x7bcb9ba9e500>"
      ]
     },
     "execution_count": 10,
     "metadata": {},
     "output_type": "execute_result"
    },
    {
     "data": {
      "image/png": "[encoded data removed]",
      "text/plain": [
       "<Figure size 640x480 with 1 Axes>"
      ]
     },
     "metadata": {},
     "output_type": "display_data"
    }
   ],
   "source": [
    "train_accuracy_list = []\n",
    "val_accuracy_list = []\n",
    "for min_sample_split in min_samples_split_list:\n",
    "    model = DecisionTreeClassifier(min_samples_split= min_sample_split, random_state = 55)\n",
    "    model.fit(x_train,y_train)\n",
    "    train_prediction = model.predict(x_train)\n",
    "    val_prediction = model.predict(x_val)\n",
    "    train_accuracy_list.append(accuracy_score(train_prediction,y_train))\n",
    "    val_accuracy_list.append(accuracy_score(val_prediction,y_val))\n",
    "\n",
    "plt.title(\"Train x validation metrics\")\n",
    "plt.xlabel(\"min sample split\")\n",
    "plt.ylabel(\"accuracy\")\n",
    "plt.xticks(ticks=range(len(min_samples_split_list)), labels=min_samples_split_list)\n",
    "plt.plot(train_accuracy_list)\n",
    "plt.plot(val_accuracy_list)\n",
    "plt.legend([\"Train\",\"validation\"])"
   ]
  },
  {
   "cell_type": "code",
   "execution_count": 11,
   "id": "87ea3b00",
   "metadata": {
    "execution": {
     "iopub.execute_input": "2023-08-08T11:10:01.850544Z",
     "iopub.status.busy": "2023-08-08T11:10:01.850003Z",
     "iopub.status.idle": "2023-08-08T11:10:02.277315Z",
     "shell.execute_reply": "2023-08-08T11:10:02.276169Z"
    },
    "papermill": {
     "duration": 0.437627,
     "end_time": "2023-08-08T11:10:02.279860",
     "exception": false,
     "start_time": "2023-08-08T11:10:01.842233",
     "status": "completed"
    },
    "tags": []
   },
   "outputs": [
    {
     "data": {
      "text/plain": [
       "<matplotlib.legend.Legend at 0x7bcb9c078a00>"
      ]
     },
     "execution_count": 11,
     "metadata": {},
     "output_type": "execute_result"
    },
    {
     "data": {
      "image/png": "[encoded data removed]",
      "text/plain": [
       "<Figure size 640x480 with 1 Axes>"
      ]
     },
     "metadata": {},
     "output_type": "display_data"
    }
   ],
   "source": [
    "train_accuracy_list = []\n",
    "val_accuracy_list = []\n",
    "for max_depth in max_depth_list:\n",
    "    model = DecisionTreeClassifier(max_depth= max_depth, random_state = 55)\n",
    "    model.fit(x_train,y_train)\n",
    "    train_prediction = model.predict(x_train)\n",
    "    val_prediction = model.predict(x_val)\n",
    "    train_accuracy_list.append(accuracy_score(train_prediction,y_train))\n",
    "    val_accuracy_list.append(accuracy_score(val_prediction,y_val))\n",
    "\n",
    "plt.title(\"Train x validation metrics\")\n",
    "plt.xlabel(\"max depth\")\n",
    "plt.ylabel(\"accuracy\")\n",
    "plt.xticks(ticks=range(len(max_depth_list)), labels=max_depth_list)\n",
    "plt.plot(train_accuracy_list)\n",
    "plt.plot(val_accuracy_list)\n",
    "plt.legend([\"Train\",\"validation\"])"
   ]
  },
  {
   "cell_type": "code",
   "execution_count": 12,
   "id": "76dd9dac",
   "metadata": {
    "execution": {
     "iopub.execute_input": "2023-08-08T11:10:02.296399Z",
     "iopub.status.busy": "2023-08-08T11:10:02.296023Z",
     "iopub.status.idle": "2023-08-08T11:10:02.312088Z",
     "shell.execute_reply": "2023-08-08T11:10:02.310733Z"
    },
    "papermill": {
     "duration": 0.027173,
     "end_time": "2023-08-08T11:10:02.314459",
     "exception": false,
     "start_time": "2023-08-08T11:10:02.287286",
     "status": "completed"
    },
    "tags": []
   },
   "outputs": [
    {
     "name": "stdout",
     "output_type": "stream",
     "text": [
      "0.8597560975609756\n",
      "0.8536585365853658\n"
     ]
    }
   ],
   "source": [
    "model = DecisionTreeClassifier(min_samples_split=100,max_depth= 5, random_state = 55)\n",
    "model.fit(x_train,y_train)\n",
    "train_prediction = model.predict(x_train)\n",
    "val_prediction = model.predict(x_val)\n",
    "print(accuracy_score(train_prediction,y_train))\n",
    "print(accuracy_score(val_prediction,y_val))"
   ]
  },
  {
   "cell_type": "code",
   "execution_count": null,
   "id": "677c3cca",
   "metadata": {
    "papermill": {
     "duration": 0.007113,
     "end_time": "2023-08-08T11:10:02.330266",
     "exception": false,
     "start_time": "2023-08-08T11:10:02.323153",
     "status": "completed"
    },
    "tags": []
   },
   "outputs": [],
   "source": []
  }
 ],
 "metadata": {
  "kernelspec": {
   "display_name": "Python 3",
   "language": "python",
   "name": "python3"
  },
  "language_info": {
   "codemirror_mode": {
    "name": "ipython",
    "version": 3
   },
   "file_extension": ".py",
   "mimetype": "text/x-python",
   "name": "python",
   "nbconvert_exporter": "python",
   "pygments_lexer": "ipython3",
   "version": "3.10.12"
  },
  "papermill": {
   "default_parameters": {},
   "duration": 14.420814,
   "end_time": "2023-08-08T11:10:03.260791",
   "environment_variables": {},
   "exception": null,
   "input_path": "__notebook__.ipynb",
   "output_path": "__notebook__.ipynb",
   "parameters": {},
   "start_time": "2023-08-08T11:09:48.839977",
   "version": "2.4.0"
  }
 },
 "nbformat": 4,
 "nbformat_minor": 5
}
