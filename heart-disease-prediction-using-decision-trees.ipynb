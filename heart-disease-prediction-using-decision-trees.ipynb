{
 "cells": [
  {
   "cell_type": "code",
   "execution_count": 1,
   "id": "614a8be7",
   "metadata": {
    "_cell_guid": "b1076dfc-b9ad-4769-8c92-a6c4dae69d19",
    "_uuid": "8f2839f25d086af736a60e9eeb907d3b93b6e0e5",
    "execution": {
     "iopub.execute_input": "2023-08-11T11:55:25.930717Z",
     "iopub.status.busy": "2023-08-11T11:55:25.930270Z",
     "iopub.status.idle": "2023-08-11T11:55:25.949528Z",
     "shell.execute_reply": "2023-08-11T11:55:25.948270Z"
    },
    "papermill": {
     "duration": 0.029195,
     "end_time": "2023-08-11T11:55:25.951850",
     "exception": false,
     "start_time": "2023-08-11T11:55:25.922655",
     "status": "completed"
    },
    "tags": []
   },
   "outputs": [
    {
     "name": "stdout",
     "output_type": "stream",
     "text": [
      "/kaggle/input/heart-disease-dataset/heart.csv\n"
     ]
    }
   ],
   "source": [
    "# This Python 3 environment comes with many helpful analytics libraries installed\n",
    "# It is defined by the kaggle/python Docker image: https://github.com/kaggle/docker-python\n",
    "# For example, here's several helpful packages to load\n",
    "\n",
    "import numpy as np # linear algebra\n",
    "import pandas as pd # data processing, CSV file I/O (e.g. pd.read_csv)\n",
    "\n",
    "# Input data files are available in the read-only \"../input/\" directory\n",
    "# For example, running this (by clicking run or pressing Shift+Enter) will list all files under the input directory\n",
    "\n",
    "import os\n",
    "for dirname, _, filenames in os.walk('/kaggle/input'):\n",
    "    for filename in filenames:\n",
    "        print(os.path.join(dirname, filename))\n",
    "RANDOM_STATE=55\n",
    "# You can write up to 20GB to the current directory (/kaggle/working/) that gets preserved as output when you create a version using \"Save & Run All\" \n",
    "# You can also write temporary files to /kaggle/temp/, but they won't be saved outside of the current session"
   ]
  },
  {
   "cell_type": "code",
   "execution_count": 2,
   "id": "e9b6ac5c",
   "metadata": {
    "execution": {
     "iopub.execute_input": "2023-08-11T11:55:25.969178Z",
     "iopub.status.busy": "2023-08-11T11:55:25.967768Z",
     "iopub.status.idle": "2023-08-11T11:55:25.997561Z",
     "shell.execute_reply": "2023-08-11T11:55:25.996033Z"
    },
    "papermill": {
     "duration": 0.041296,
     "end_time": "2023-08-11T11:55:25.999912",
     "exception": false,
     "start_time": "2023-08-11T11:55:25.958616",
     "status": "completed"
    },
    "tags": []
   },
   "outputs": [],
   "source": [
    "df = pd.read_csv(\"/kaggle/input/heart-disease-dataset/heart.csv\")"
   ]
  },
  {
   "cell_type": "code",
   "execution_count": 3,
   "id": "868b6ff4",
   "metadata": {
    "execution": {
     "iopub.execute_input": "2023-08-11T11:55:26.017535Z",
     "iopub.status.busy": "2023-08-11T11:55:26.017193Z",
     "iopub.status.idle": "2023-08-11T11:55:26.040805Z",
     "shell.execute_reply": "2023-08-11T11:55:26.039301Z"
    },
    "papermill": {
     "duration": 0.035844,
     "end_time": "2023-08-11T11:55:26.043122",
     "exception": false,
     "start_time": "2023-08-11T11:55:26.007278",
     "status": "completed"
    },
    "tags": []
   },
   "outputs": [
    {
     "data": {
      "text/html": [
       "<div>\n",
       "<style scoped>\n",
       "    .dataframe tbody tr th:only-of-type {\n",
       "        vertical-align: middle;\n",
       "    }\n",
       "\n",
       "    .dataframe tbody tr th {\n",
       "        vertical-align: top;\n",
       "    }\n",
       "\n",
       "    .dataframe thead th {\n",
       "        text-align: right;\n",
       "    }\n",
       "</style>\n",
       "<table border=\"1\" class=\"dataframe\">\n",
       "  <thead>\n",
       "    <tr style=\"text-align: right;\">\n",
       "      <th></th>\n",
       "      <th>age</th>\n",
       "      <th>sex</th>\n",
       "      <th>cp</th>\n",
       "      <th>trestbps</th>\n",
       "      <th>chol</th>\n",
       "      <th>fbs</th>\n",
       "      <th>restecg</th>\n",
       "      <th>thalach</th>\n",
       "      <th>exang</th>\n",
       "      <th>oldpeak</th>\n",
       "      <th>slope</th>\n",
       "      <th>ca</th>\n",
       "      <th>thal</th>\n",
       "      <th>target</th>\n",
       "    </tr>\n",
       "  </thead>\n",
       "  <tbody>\n",
       "    <tr>\n",
       "      <th>0</th>\n",
       "      <td>52</td>\n",
       "      <td>1</td>\n",
       "      <td>0</td>\n",
       "      <td>125</td>\n",
       "      <td>212</td>\n",
       "      <td>0</td>\n",
       "      <td>1</td>\n",
       "      <td>168</td>\n",
       "      <td>0</td>\n",
       "      <td>1.0</td>\n",
       "      <td>2</td>\n",
       "      <td>2</td>\n",
       "      <td>3</td>\n",
       "      <td>0</td>\n",
       "    </tr>\n",
       "    <tr>\n",
       "      <th>1</th>\n",
       "      <td>53</td>\n",
       "      <td>1</td>\n",
       "      <td>0</td>\n",
       "      <td>140</td>\n",
       "      <td>203</td>\n",
       "      <td>1</td>\n",
       "      <td>0</td>\n",
       "      <td>155</td>\n",
       "      <td>1</td>\n",
       "      <td>3.1</td>\n",
       "      <td>0</td>\n",
       "      <td>0</td>\n",
       "      <td>3</td>\n",
       "      <td>0</td>\n",
       "    </tr>\n",
       "    <tr>\n",
       "      <th>2</th>\n",
       "      <td>70</td>\n",
       "      <td>1</td>\n",
       "      <td>0</td>\n",
       "      <td>145</td>\n",
       "      <td>174</td>\n",
       "      <td>0</td>\n",
       "      <td>1</td>\n",
       "      <td>125</td>\n",
       "      <td>1</td>\n",
       "      <td>2.6</td>\n",
       "      <td>0</td>\n",
       "      <td>0</td>\n",
       "      <td>3</td>\n",
       "      <td>0</td>\n",
       "    </tr>\n",
       "    <tr>\n",
       "      <th>3</th>\n",
       "      <td>61</td>\n",
       "      <td>1</td>\n",
       "      <td>0</td>\n",
       "      <td>148</td>\n",
       "      <td>203</td>\n",
       "      <td>0</td>\n",
       "      <td>1</td>\n",
       "      <td>161</td>\n",
       "      <td>0</td>\n",
       "      <td>0.0</td>\n",
       "      <td>2</td>\n",
       "      <td>1</td>\n",
       "      <td>3</td>\n",
       "      <td>0</td>\n",
       "    </tr>\n",
       "    <tr>\n",
       "      <th>4</th>\n",
       "      <td>62</td>\n",
       "      <td>0</td>\n",
       "      <td>0</td>\n",
       "      <td>138</td>\n",
       "      <td>294</td>\n",
       "      <td>1</td>\n",
       "      <td>1</td>\n",
       "      <td>106</td>\n",
       "      <td>0</td>\n",
       "      <td>1.9</td>\n",
       "      <td>1</td>\n",
       "      <td>3</td>\n",
       "      <td>2</td>\n",
       "      <td>0</td>\n",
       "    </tr>\n",
       "  </tbody>\n",
       "</table>\n",
       "</div>"
      ],
      "text/plain": [
       "   age  sex  cp  trestbps  chol  fbs  restecg  thalach  exang  oldpeak  slope  \\\n",
       "0   52    1   0       125   212    0        1      168      0      1.0      2   \n",
       "1   53    1   0       140   203    1        0      155      1      3.1      0   \n",
       "2   70    1   0       145   174    0        1      125      1      2.6      0   \n",
       "3   61    1   0       148   203    0        1      161      0      0.0      2   \n",
       "4   62    0   0       138   294    1        1      106      0      1.9      1   \n",
       "\n",
       "   ca  thal  target  \n",
       "0   2     3       0  \n",
       "1   0     3       0  \n",
       "2   0     3       0  \n",
       "3   1     3       0  \n",
       "4   3     2       0  "
      ]
     },
     "execution_count": 3,
     "metadata": {},
     "output_type": "execute_result"
    }
   ],
   "source": [
    "df.head()"
   ]
  },
  {
   "cell_type": "code",
   "execution_count": 4,
   "id": "5dbc708c",
   "metadata": {
    "execution": {
     "iopub.execute_input": "2023-08-11T11:55:26.056897Z",
     "iopub.status.busy": "2023-08-11T11:55:26.056467Z",
     "iopub.status.idle": "2023-08-11T11:55:26.063529Z",
     "shell.execute_reply": "2023-08-11T11:55:26.061220Z"
    },
    "papermill": {
     "duration": 0.017222,
     "end_time": "2023-08-11T11:55:26.066482",
     "exception": false,
     "start_time": "2023-08-11T11:55:26.049260",
     "status": "completed"
    },
    "tags": []
   },
   "outputs": [],
   "source": [
    "features = [x for x in df.columns if x not in \"target\"]"
   ]
  },
  {
   "cell_type": "code",
   "execution_count": 5,
   "id": "75179521",
   "metadata": {
    "execution": {
     "iopub.execute_input": "2023-08-11T11:55:26.084505Z",
     "iopub.status.busy": "2023-08-11T11:55:26.084114Z",
     "iopub.status.idle": "2023-08-11T11:55:26.090767Z",
     "shell.execute_reply": "2023-08-11T11:55:26.089683Z"
    },
    "papermill": {
     "duration": 0.019138,
     "end_time": "2023-08-11T11:55:26.093041",
     "exception": false,
     "start_time": "2023-08-11T11:55:26.073903",
     "status": "completed"
    },
    "tags": []
   },
   "outputs": [
    {
     "data": {
      "text/plain": [
       "['age',\n",
       " 'sex',\n",
       " 'cp',\n",
       " 'trestbps',\n",
       " 'chol',\n",
       " 'fbs',\n",
       " 'restecg',\n",
       " 'thalach',\n",
       " 'exang',\n",
       " 'oldpeak',\n",
       " 'slope',\n",
       " 'ca',\n",
       " 'thal']"
      ]
     },
     "execution_count": 5,
     "metadata": {},
     "output_type": "execute_result"
    }
   ],
   "source": [
    "features"
   ]
  },
  {
   "cell_type": "code",
   "execution_count": 6,
   "id": "fe8fc1db",
   "metadata": {
    "execution": {
     "iopub.execute_input": "2023-08-11T11:55:26.111565Z",
     "iopub.status.busy": "2023-08-11T11:55:26.111236Z",
     "iopub.status.idle": "2023-08-11T11:55:26.116794Z",
     "shell.execute_reply": "2023-08-11T11:55:26.116005Z"
    },
    "papermill": {
     "duration": 0.017621,
     "end_time": "2023-08-11T11:55:26.118908",
     "exception": false,
     "start_time": "2023-08-11T11:55:26.101287",
     "status": "completed"
    },
    "tags": []
   },
   "outputs": [
    {
     "data": {
      "text/plain": [
       "13"
      ]
     },
     "execution_count": 6,
     "metadata": {},
     "output_type": "execute_result"
    }
   ],
   "source": [
    "len(features)"
   ]
  },
  {
   "cell_type": "code",
   "execution_count": 7,
   "id": "c4176b6b",
   "metadata": {
    "execution": {
     "iopub.execute_input": "2023-08-11T11:55:26.132579Z",
     "iopub.status.busy": "2023-08-11T11:55:26.132255Z",
     "iopub.status.idle": "2023-08-11T11:55:27.411873Z",
     "shell.execute_reply": "2023-08-11T11:55:27.409449Z"
    },
    "papermill": {
     "duration": 1.289555,
     "end_time": "2023-08-11T11:55:27.414544",
     "exception": false,
     "start_time": "2023-08-11T11:55:26.124989",
     "status": "completed"
    },
    "tags": []
   },
   "outputs": [
    {
     "name": "stderr",
     "output_type": "stream",
     "text": [
      "/opt/conda/lib/python3.10/site-packages/scipy/__init__.py:146: UserWarning: A NumPy version >=1.16.5 and <1.23.0 is required for this version of SciPy (detected version 1.23.5\n",
      "  warnings.warn(f\"A NumPy version >={np_minversion} and <{np_maxversion}\"\n"
     ]
    },
    {
     "name": "stdout",
     "output_type": "stream",
     "text": [
      "X train size (820, 13)\n",
      "y train size (820,)\n",
      "X validation size (205, 13)\n",
      "X validation size (205,)\n"
     ]
    }
   ],
   "source": [
    "from sklearn.model_selection import train_test_split\n",
    "x_train,x_val,y_train,y_val = train_test_split(df[features],df[\"target\"],train_size=0.8,random_state=55)\n",
    "print(\"X train size\",x_train.shape)\n",
    "print(\"y train size\",y_train.shape)\n",
    "print(\"X validation size\",x_val.shape)\n",
    "print(\"X validation size\",y_val.shape)"
   ]
  },
  {
   "cell_type": "code",
   "execution_count": 8,
   "id": "bbc28474",
   "metadata": {
    "execution": {
     "iopub.execute_input": "2023-08-11T11:55:27.430313Z",
     "iopub.status.busy": "2023-08-11T11:55:27.429873Z",
     "iopub.status.idle": "2023-08-11T11:55:27.436929Z",
     "shell.execute_reply": "2023-08-11T11:55:27.435830Z"
    },
    "papermill": {
     "duration": 0.017021,
     "end_time": "2023-08-11T11:55:27.439358",
     "exception": false,
     "start_time": "2023-08-11T11:55:27.422337",
     "status": "completed"
    },
    "tags": []
   },
   "outputs": [],
   "source": [
    "min_samples_split_list = [2,10,30,50,100,200,300,400,500,600,700,800]\n",
    "max_depth_list= [1,2,3,4,8,16,32,64,None]"
   ]
  },
  {
   "cell_type": "code",
   "execution_count": 9,
   "id": "f757fddd",
   "metadata": {
    "execution": {
     "iopub.execute_input": "2023-08-11T11:55:27.453676Z",
     "iopub.status.busy": "2023-08-11T11:55:27.453342Z",
     "iopub.status.idle": "2023-08-11T11:55:27.735249Z",
     "shell.execute_reply": "2023-08-11T11:55:27.733647Z"
    },
    "papermill": {
     "duration": 0.29217,
     "end_time": "2023-08-11T11:55:27.737866",
     "exception": false,
     "start_time": "2023-08-11T11:55:27.445696",
     "status": "completed"
    },
    "tags": []
   },
   "outputs": [],
   "source": [
    "from sklearn.tree import DecisionTreeClassifier\n",
    "from sklearn.metrics import accuracy_score\n",
    "\n",
    "import matplotlib.pyplot as plt"
   ]
  },
  {
   "cell_type": "code",
   "execution_count": 10,
   "id": "51fec32f",
   "metadata": {
    "execution": {
     "iopub.execute_input": "2023-08-11T11:55:27.751875Z",
     "iopub.status.busy": "2023-08-11T11:55:27.751499Z",
     "iopub.status.idle": "2023-08-11T11:55:28.130029Z",
     "shell.execute_reply": "2023-08-11T11:55:28.129274Z"
    },
    "papermill": {
     "duration": 0.387842,
     "end_time": "2023-08-11T11:55:28.132031",
     "exception": false,
     "start_time": "2023-08-11T11:55:27.744189",
     "status": "completed"
    },
    "tags": []
   },
   "outputs": [
    {
     "data": {
      "text/plain": [
       "<matplotlib.legend.Legend at 0x7a88e1e56260>"
      ]
     },
     "execution_count": 10,
     "metadata": {},
     "output_type": "execute_result"
    },
    {
     "data": {
      "image/png": "[encoded data removed]",
      "text/plain": [
       "<Figure size 640x480 with 1 Axes>"
      ]
     },
     "metadata": {},
     "output_type": "display_data"
    }
   ],
   "source": [
    "train_accuracy_list = []\n",
    "val_accuracy_list = []\n",
    "for min_sample_split in min_samples_split_list:\n",
    "    model = DecisionTreeClassifier(min_samples_split= min_sample_split, random_state = RANDOM_STATE)\n",
    "    model.fit(x_train,y_train)\n",
    "    train_prediction = model.predict(x_train)\n",
    "    val_prediction = model.predict(x_val)\n",
    "    train_accuracy_list.append(accuracy_score(train_prediction,y_train))\n",
    "    val_accuracy_list.append(accuracy_score(val_prediction,y_val))\n",
    "\n",
    "plt.title(\"Train x validation metrics\")\n",
    "plt.xlabel(\"min sample split\")\n",
    "plt.ylabel(\"accuracy\")\n",
    "plt.xticks(ticks=range(len(min_samples_split_list)), labels=min_samples_split_list)\n",
    "plt.plot(train_accuracy_list)\n",
    "plt.plot(val_accuracy_list)\n",
    "plt.legend([\"Train\",\"validation\"])"
   ]
  },
  {
   "cell_type": "code",
   "execution_count": 11,
   "id": "c444a7de",
   "metadata": {
    "execution": {
     "iopub.execute_input": "2023-08-11T11:55:28.147295Z",
     "iopub.status.busy": "2023-08-11T11:55:28.146339Z",
     "iopub.status.idle": "2023-08-11T11:55:28.468296Z",
     "shell.execute_reply": "2023-08-11T11:55:28.466868Z"
    },
    "papermill": {
     "duration": 0.331785,
     "end_time": "2023-08-11T11:55:28.470487",
     "exception": false,
     "start_time": "2023-08-11T11:55:28.138702",
     "status": "completed"
    },
    "tags": []
   },
   "outputs": [
    {
     "data": {
      "text/plain": [
       "<matplotlib.legend.Legend at 0x7a88f3b5ded0>"
      ]
     },
     "execution_count": 11,
     "metadata": {},
     "output_type": "execute_result"
    },
    {
     "data": {
      "image/png": "[encoded data removed]",
      "text/plain": [
       "<Figure size 640x480 with 1 Axes>"
      ]
     },
     "metadata": {},
     "output_type": "display_data"
    }
   ],
   "source": [
    "train_accuracy_list = []\n",
    "val_accuracy_list = []\n",
    "for max_depth in max_depth_list:\n",
    "    model = DecisionTreeClassifier(max_depth= max_depth, random_state = RANDOM_STATE)\n",
    "    model.fit(x_train,y_train)\n",
    "    train_prediction = model.predict(x_train)\n",
    "    val_prediction = model.predict(x_val)\n",
    "    train_accuracy_list.append(accuracy_score(train_prediction,y_train))\n",
    "    val_accuracy_list.append(accuracy_score(val_prediction,y_val))\n",
    "\n",
    "plt.title(\"Train x validation metrics\")\n",
    "plt.xlabel(\"max depth\")\n",
    "plt.ylabel(\"accuracy\")\n",
    "plt.xticks(ticks=range(len(max_depth_list)), labels=max_depth_list)\n",
    "plt.plot(train_accuracy_list)\n",
    "plt.plot(val_accuracy_list)\n",
    "plt.legend([\"Train\",\"validation\"])"
   ]
  },
  {
   "cell_type": "code",
   "execution_count": 12,
   "id": "2d34be7d",
   "metadata": {
    "execution": {
     "iopub.execute_input": "2023-08-11T11:55:28.487234Z",
     "iopub.status.busy": "2023-08-11T11:55:28.486833Z",
     "iopub.status.idle": "2023-08-11T11:55:28.504292Z",
     "shell.execute_reply": "2023-08-11T11:55:28.502405Z"
    },
    "papermill": {
     "duration": 0.028265,
     "end_time": "2023-08-11T11:55:28.506348",
     "exception": false,
     "start_time": "2023-08-11T11:55:28.478083",
     "status": "completed"
    },
    "tags": []
   },
   "outputs": [
    {
     "name": "stdout",
     "output_type": "stream",
     "text": [
      "0.8597560975609756\n",
      "0.8536585365853658\n"
     ]
    }
   ],
   "source": [
    "model = DecisionTreeClassifier(min_samples_split=100,max_depth= 5, random_state = 55)\n",
    "model.fit(x_train,y_train)\n",
    "train_prediction = model.predict(x_train)\n",
    "val_prediction = model.predict(x_val)\n",
    "print(accuracy_score(train_prediction,y_train))\n",
    "print(accuracy_score(val_prediction,y_val))"
   ]
  },
  {
   "cell_type": "markdown",
   "id": "47837685",
   "metadata": {
    "papermill": {
     "duration": 0.007302,
     "end_time": "2023-08-11T11:55:28.520770",
     "exception": false,
     "start_time": "2023-08-11T11:55:28.513468",
     "status": "completed"
    },
    "tags": []
   },
   "source": [
    "### **Random Forest**"
   ]
  },
  {
   "cell_type": "code",
   "execution_count": 13,
   "id": "9b1ebb42",
   "metadata": {
    "execution": {
     "iopub.execute_input": "2023-08-11T11:55:28.536680Z",
     "iopub.status.busy": "2023-08-11T11:55:28.536369Z",
     "iopub.status.idle": "2023-08-11T11:55:28.663590Z",
     "shell.execute_reply": "2023-08-11T11:55:28.662488Z"
    },
    "papermill": {
     "duration": 0.138166,
     "end_time": "2023-08-11T11:55:28.666300",
     "exception": false,
     "start_time": "2023-08-11T11:55:28.528134",
     "status": "completed"
    },
    "tags": []
   },
   "outputs": [],
   "source": [
    "from sklearn.ensemble import RandomForestClassifier"
   ]
  },
  {
   "cell_type": "code",
   "execution_count": 14,
   "id": "63dc893e",
   "metadata": {
    "execution": {
     "iopub.execute_input": "2023-08-11T11:55:28.683344Z",
     "iopub.status.busy": "2023-08-11T11:55:28.682976Z",
     "iopub.status.idle": "2023-08-11T11:55:28.689068Z",
     "shell.execute_reply": "2023-08-11T11:55:28.687729Z"
    },
    "papermill": {
     "duration": 0.018508,
     "end_time": "2023-08-11T11:55:28.692198",
     "exception": false,
     "start_time": "2023-08-11T11:55:28.673690",
     "status": "completed"
    },
    "tags": []
   },
   "outputs": [],
   "source": [
    "min_samples_split_list = [2,10,30,50,100,300,700,800]\n",
    "max_depth_list = [2,4,8,16,32,64,None]\n",
    "n_estimaters_list = [10,50,100,500]"
   ]
  },
  {
   "cell_type": "code",
   "execution_count": 15,
   "id": "9f2f51b1",
   "metadata": {
    "execution": {
     "iopub.execute_input": "2023-08-11T11:55:28.709130Z",
     "iopub.status.busy": "2023-08-11T11:55:28.708710Z",
     "iopub.status.idle": "2023-08-11T11:55:30.446556Z",
     "shell.execute_reply": "2023-08-11T11:55:30.445236Z"
    },
    "papermill": {
     "duration": 1.749555,
     "end_time": "2023-08-11T11:55:30.449487",
     "exception": false,
     "start_time": "2023-08-11T11:55:28.699932",
     "status": "completed"
    },
    "tags": []
   },
   "outputs": [
    {
     "data": {
      "text/plain": [
       "<matplotlib.legend.Legend at 0x7a88dfc07400>"
      ]
     },
     "execution_count": 15,
     "metadata": {},
     "output_type": "execute_result"
    },
    {
     "data": {
      "image/png": "[encoded data removed]",
      "text/plain": [
       "<Figure size 640x480 with 1 Axes>"
      ]
     },
     "metadata": {},
     "output_type": "display_data"
    }
   ],
   "source": [
    "accuracy_list_train = []\n",
    "accuracy_list_val = []\n",
    "\n",
    "for min_samples_split in min_samples_split_list:\n",
    "    model = RandomForestClassifier(min_samples_split=min_samples_split,random_state=RANDOM_STATE)\n",
    "    model.fit(x_train,y_train)\n",
    "    predictions_train = model.predict(x_train)\n",
    "    predictions_val = model.predict(x_val)\n",
    "    accuracy_train = accuracy_score(predictions_train,y_train)\n",
    "    accuracy_val = accuracy_score(predictions_val,y_val)\n",
    "    accuracy_list_train.append(accuracy_train)\n",
    "    accuracy_list_val.append(accuracy_val)\n",
    "plt.title(\"Train x Validation metrics\")\n",
    "plt.xlabel(\"min samples split\")\n",
    "plt.ylabel(\"accuracy\")\n",
    "plt.xticks(ticks=range(len(min_samples_split_list)),labels=min_samples_split_list)\n",
    "plt.plot(accuracy_list_train)\n",
    "plt.plot(accuracy_list_val)\n",
    "plt.legend([\"Train\",\"Validation\"])"
   ]
  },
  {
   "cell_type": "code",
   "execution_count": 16,
   "id": "a5d2ac14",
   "metadata": {
    "execution": {
     "iopub.execute_input": "2023-08-11T11:55:30.466550Z",
     "iopub.status.busy": "2023-08-11T11:55:30.466144Z",
     "iopub.status.idle": "2023-08-11T11:55:32.141328Z",
     "shell.execute_reply": "2023-08-11T11:55:32.139790Z"
    },
    "papermill": {
     "duration": 1.686537,
     "end_time": "2023-08-11T11:55:32.143785",
     "exception": false,
     "start_time": "2023-08-11T11:55:30.457248",
     "status": "completed"
    },
    "tags": []
   },
   "outputs": [
    {
     "data": {
      "text/plain": [
       "<matplotlib.legend.Legend at 0x7a88dfd85840>"
      ]
     },
     "execution_count": 16,
     "metadata": {},
     "output_type": "execute_result"
    },
    {
     "data": {
      "image/png": "[encoded data removed]",
      "text/plain": [
       "<Figure size 640x480 with 1 Axes>"
      ]
     },
     "metadata": {},
     "output_type": "display_data"
    }
   ],
   "source": [
    "train_accuracy_list = []\n",
    "val_accuracy_list = []\n",
    "for max_depth in max_depth_list:\n",
    "    model = RandomForestClassifier(max_depth= max_depth, random_state = RANDOM_STATE)\n",
    "    model.fit(x_train,y_train)\n",
    "    train_prediction = model.predict(x_train)\n",
    "    val_prediction = model.predict(x_val)\n",
    "    train_accuracy_list.append(accuracy_score(train_prediction,y_train))\n",
    "    val_accuracy_list.append(accuracy_score(val_prediction,y_val))\n",
    "\n",
    "plt.title(\"Train x validation metrics\")\n",
    "plt.xlabel(\"max depth\")\n",
    "plt.ylabel(\"accuracy\")\n",
    "plt.xticks(ticks=range(len(max_depth_list)), labels=max_depth_list)\n",
    "plt.plot(train_accuracy_list)\n",
    "plt.plot(val_accuracy_list)\n",
    "plt.legend([\"Train\",\"validation\"])"
   ]
  },
  {
   "cell_type": "code",
   "execution_count": 17,
   "id": "1b64a6ed",
   "metadata": {
    "execution": {
     "iopub.execute_input": "2023-08-11T11:55:32.163460Z",
     "iopub.status.busy": "2023-08-11T11:55:32.161960Z",
     "iopub.status.idle": "2023-08-11T11:55:33.734923Z",
     "shell.execute_reply": "2023-08-11T11:55:33.734026Z"
    },
    "papermill": {
     "duration": 1.584633,
     "end_time": "2023-08-11T11:55:33.736975",
     "exception": false,
     "start_time": "2023-08-11T11:55:32.152342",
     "status": "completed"
    },
    "tags": []
   },
   "outputs": [
    {
     "name": "stdout",
     "output_type": "stream",
     "text": [
      "[1.0, 1.0, 1.0, 1.0]\n",
      "[1.0, 1.0, 1.0, 1.0]\n"
     ]
    },
    {
     "data": {
      "image/png": "[encoded data removed]",
      "text/plain": [
       "<Figure size 640x480 with 1 Axes>"
      ]
     },
     "metadata": {},
     "output_type": "display_data"
    }
   ],
   "source": [
    "train_accuracy_list = []\n",
    "val_accuracy_list = []\n",
    "for n_estimater in n_estimaters_list:\n",
    "    model = RandomForestClassifier(n_estimators= n_estimater, random_state = RANDOM_STATE)\n",
    "    model.fit(x_train,y_train)\n",
    "    train_prediction = model.predict(x_train)\n",
    "    val_prediction = model.predict(x_val)\n",
    "    train_accuracy_list.append(accuracy_score(train_prediction,y_train))\n",
    "    val_accuracy_list.append(accuracy_score(val_prediction,y_val))\n",
    "\n",
    "plt.title(\"Train x validation metrics\")\n",
    "plt.xlabel(\"n estimators\")\n",
    "plt.ylabel(\"accuracy\")\n",
    "plt.xticks(ticks=range(len(n_estimaters_list)), labels=n_estimaters_list)\n",
    "plt.plot(train_accuracy_list)\n",
    "plt.plot(val_accuracy_list)\n",
    "plt.legend([\"Train\",\"validation\"])\n",
    "print(train_accuracy_list)\n",
    "print(val_accuracy_list)"
   ]
  },
  {
   "cell_type": "code",
   "execution_count": 18,
   "id": "a6859620",
   "metadata": {
    "execution": {
     "iopub.execute_input": "2023-08-11T11:55:33.755825Z",
     "iopub.status.busy": "2023-08-11T11:55:33.755360Z",
     "iopub.status.idle": "2023-08-11T11:55:33.967803Z",
     "shell.execute_reply": "2023-08-11T11:55:33.966203Z"
    },
    "papermill": {
     "duration": 0.225233,
     "end_time": "2023-08-11T11:55:33.970689",
     "exception": false,
     "start_time": "2023-08-11T11:55:33.745456",
     "status": "completed"
    },
    "tags": []
   },
   "outputs": [
    {
     "name": "stdout",
     "output_type": "stream",
     "text": [
      "Train Accuracy 0.9085365853658537\n",
      "Validation Accuracy 0.8731707317073171\n"
     ]
    }
   ],
   "source": [
    "random_fores_model = RandomForestClassifier(n_estimators=100,max_depth=16,min_samples_split=50)\n",
    "random_fores_model.fit(x_train,y_train)\n",
    "print(\"Train Accuracy\",accuracy_score(random_fores_model.predict(x_train),y_train))\n",
    "print(\"Validation Accuracy\",accuracy_score(random_fores_model.predict(x_val),y_val))"
   ]
  },
  {
   "cell_type": "markdown",
   "id": "839696aa",
   "metadata": {
    "papermill": {
     "duration": 0.008115,
     "end_time": "2023-08-11T11:55:33.987346",
     "exception": false,
     "start_time": "2023-08-11T11:55:33.979231",
     "status": "completed"
    },
    "tags": []
   },
   "source": [
    "### **XGBoost** "
   ]
  },
  {
   "cell_type": "code",
   "execution_count": 19,
   "id": "ccaf9b71",
   "metadata": {
    "execution": {
     "iopub.execute_input": "2023-08-11T11:55:34.007083Z",
     "iopub.status.busy": "2023-08-11T11:55:34.005981Z",
     "iopub.status.idle": "2023-08-11T11:55:34.211262Z",
     "shell.execute_reply": "2023-08-11T11:55:34.209293Z"
    },
    "papermill": {
     "duration": 0.218482,
     "end_time": "2023-08-11T11:55:34.214214",
     "exception": false,
     "start_time": "2023-08-11T11:55:33.995732",
     "status": "completed"
    },
    "tags": []
   },
   "outputs": [],
   "source": [
    "from xgboost import XGBClassifier"
   ]
  },
  {
   "cell_type": "code",
   "execution_count": 20,
   "id": "d13c6f5e",
   "metadata": {
    "execution": {
     "iopub.execute_input": "2023-08-11T11:55:34.233337Z",
     "iopub.status.busy": "2023-08-11T11:55:34.232936Z",
     "iopub.status.idle": "2023-08-11T11:55:35.853961Z",
     "shell.execute_reply": "2023-08-11T11:55:35.853040Z"
    },
    "papermill": {
     "duration": 1.633326,
     "end_time": "2023-08-11T11:55:35.856104",
     "exception": false,
     "start_time": "2023-08-11T11:55:34.222778",
     "status": "completed"
    },
    "tags": []
   },
   "outputs": [
    {
     "name": "stdout",
     "output_type": "stream",
     "text": [
      "[0]\tvalidation_0-logloss:0.62410\n",
      "[1]\tvalidation_0-logloss:0.56344\n",
      "[2]\tvalidation_0-logloss:0.51742\n",
      "[3]\tvalidation_0-logloss:0.47369\n",
      "[4]\tvalidation_0-logloss:0.43976\n",
      "[5]\tvalidation_0-logloss:0.40536\n",
      "[6]\tvalidation_0-logloss:0.37788\n",
      "[7]\tvalidation_0-logloss:0.35420\n",
      "[8]\tvalidation_0-logloss:0.33322\n",
      "[9]\tvalidation_0-logloss:0.31085\n",
      "[10]\tvalidation_0-logloss:0.29476\n",
      "[11]\tvalidation_0-logloss:0.27547\n",
      "[12]\tvalidation_0-logloss:0.26217\n",
      "[13]\tvalidation_0-logloss:0.24938\n",
      "[14]\tvalidation_0-logloss:0.23830\n",
      "[15]\tvalidation_0-logloss:0.22464\n",
      "[16]\tvalidation_0-logloss:0.21575\n",
      "[17]\tvalidation_0-logloss:0.20616\n",
      "[18]\tvalidation_0-logloss:0.19469\n",
      "[19]\tvalidation_0-logloss:0.18293\n",
      "[20]\tvalidation_0-logloss:0.17431\n",
      "[21]\tvalidation_0-logloss:0.16400\n",
      "[22]\tvalidation_0-logloss:0.15456\n",
      "[23]\tvalidation_0-logloss:0.14839\n",
      "[24]\tvalidation_0-logloss:0.14061\n",
      "[25]\tvalidation_0-logloss:0.13481\n",
      "[26]\tvalidation_0-logloss:0.12817\n",
      "[27]\tvalidation_0-logloss:0.12215\n",
      "[28]\tvalidation_0-logloss:0.11659\n",
      "[29]\tvalidation_0-logloss:0.11219\n",
      "[30]\tvalidation_0-logloss:0.10777\n",
      "[31]\tvalidation_0-logloss:0.10357\n",
      "[32]\tvalidation_0-logloss:0.09963\n",
      "[33]\tvalidation_0-logloss:0.09583\n",
      "[34]\tvalidation_0-logloss:0.09276\n",
      "[35]\tvalidation_0-logloss:0.08973\n",
      "[36]\tvalidation_0-logloss:0.08672\n",
      "[37]\tvalidation_0-logloss:0.08401\n",
      "[38]\tvalidation_0-logloss:0.08120\n",
      "[39]\tvalidation_0-logloss:0.07872\n",
      "[40]\tvalidation_0-logloss:0.07629\n",
      "[41]\tvalidation_0-logloss:0.07431\n",
      "[42]\tvalidation_0-logloss:0.07206\n",
      "[43]\tvalidation_0-logloss:0.07078\n",
      "[44]\tvalidation_0-logloss:0.06914\n"
     ]
    },
    {
     "name": "stderr",
     "output_type": "stream",
     "text": [
      "/opt/conda/lib/python3.10/site-packages/xgboost/sklearn.py:835: UserWarning: `early_stopping_rounds` in `fit` method is deprecated for better compatibility with scikit-learn, use `early_stopping_rounds` in constructor or`set_params` instead.\n",
      "  warnings.warn(\n"
     ]
    },
    {
     "name": "stdout",
     "output_type": "stream",
     "text": [
      "[45]\tvalidation_0-logloss:0.06738\n",
      "[46]\tvalidation_0-logloss:0.06553\n",
      "[47]\tvalidation_0-logloss:0.06332\n",
      "[48]\tvalidation_0-logloss:0.06114\n",
      "[49]\tvalidation_0-logloss:0.05983\n",
      "[50]\tvalidation_0-logloss:0.05875\n",
      "[51]\tvalidation_0-logloss:0.05679\n",
      "[52]\tvalidation_0-logloss:0.05518\n",
      "[53]\tvalidation_0-logloss:0.05398\n",
      "[54]\tvalidation_0-logloss:0.05256\n",
      "[55]\tvalidation_0-logloss:0.05159\n",
      "[56]\tvalidation_0-logloss:0.05056\n",
      "[57]\tvalidation_0-logloss:0.04956\n",
      "[58]\tvalidation_0-logloss:0.04827\n",
      "[59]\tvalidation_0-logloss:0.04738\n",
      "[60]\tvalidation_0-logloss:0.04669\n",
      "[61]\tvalidation_0-logloss:0.04539\n",
      "[62]\tvalidation_0-logloss:0.04423\n",
      "[63]\tvalidation_0-logloss:0.04349\n",
      "[64]\tvalidation_0-logloss:0.04255\n",
      "[65]\tvalidation_0-logloss:0.04183\n",
      "[66]\tvalidation_0-logloss:0.04115\n",
      "[67]\tvalidation_0-logloss:0.04019\n",
      "[68]\tvalidation_0-logloss:0.03969\n",
      "[69]\tvalidation_0-logloss:0.03907\n",
      "[70]\tvalidation_0-logloss:0.03824\n",
      "[71]\tvalidation_0-logloss:0.03773\n",
      "[72]\tvalidation_0-logloss:0.03723\n",
      "[73]\tvalidation_0-logloss:0.03652\n",
      "[74]\tvalidation_0-logloss:0.03621\n",
      "[75]\tvalidation_0-logloss:0.03586\n",
      "[76]\tvalidation_0-logloss:0.03545\n",
      "[77]\tvalidation_0-logloss:0.03497\n",
      "[78]\tvalidation_0-logloss:0.03442\n",
      "[79]\tvalidation_0-logloss:0.03394\n",
      "[80]\tvalidation_0-logloss:0.03339\n",
      "[81]\tvalidation_0-logloss:0.03314\n",
      "[82]\tvalidation_0-logloss:0.03289\n",
      "[83]\tvalidation_0-logloss:0.03260\n",
      "[84]\tvalidation_0-logloss:0.03211\n",
      "[85]\tvalidation_0-logloss:0.03180\n",
      "[86]\tvalidation_0-logloss:0.03154\n",
      "[87]\tvalidation_0-logloss:0.03132\n",
      "[88]\tvalidation_0-logloss:0.03107\n",
      "[89]\tvalidation_0-logloss:0.03069\n",
      "[90]\tvalidation_0-logloss:0.03034\n",
      "[91]\tvalidation_0-logloss:0.02982\n",
      "[92]\tvalidation_0-logloss:0.02937\n",
      "[93]\tvalidation_0-logloss:0.02907\n",
      "[94]\tvalidation_0-logloss:0.02860\n",
      "[95]\tvalidation_0-logloss:0.02834\n",
      "[96]\tvalidation_0-logloss:0.02818\n",
      "[97]\tvalidation_0-logloss:0.02770\n",
      "[98]\tvalidation_0-logloss:0.02745\n",
      "[99]\tvalidation_0-logloss:0.02704\n",
      "[100]\tvalidation_0-logloss:0.02673\n",
      "[101]\tvalidation_0-logloss:0.02645\n",
      "[102]\tvalidation_0-logloss:0.02638\n",
      "[103]\tvalidation_0-logloss:0.02626\n",
      "[104]\tvalidation_0-logloss:0.02612\n",
      "[105]\tvalidation_0-logloss:0.02588\n",
      "[106]\tvalidation_0-logloss:0.02564\n",
      "[107]\tvalidation_0-logloss:0.02530\n",
      "[108]\tvalidation_0-logloss:0.02524\n",
      "[109]\tvalidation_0-logloss:0.02495\n",
      "[110]\tvalidation_0-logloss:0.02484\n",
      "[111]\tvalidation_0-logloss:0.02469\n",
      "[112]\tvalidation_0-logloss:0.02455\n",
      "[113]\tvalidation_0-logloss:0.02440\n",
      "[114]\tvalidation_0-logloss:0.02406\n",
      "[115]\tvalidation_0-logloss:0.02391\n",
      "[116]\tvalidation_0-logloss:0.02358\n",
      "[117]\tvalidation_0-logloss:0.02346\n",
      "[118]\tvalidation_0-logloss:0.02327\n",
      "[119]\tvalidation_0-logloss:0.02317\n",
      "[120]\tvalidation_0-logloss:0.02313\n",
      "[121]\tvalidation_0-logloss:0.02299\n",
      "[122]\tvalidation_0-logloss:0.02280\n",
      "[123]\tvalidation_0-logloss:0.02255\n",
      "[124]\tvalidation_0-logloss:0.02233\n",
      "[125]\tvalidation_0-logloss:0.02215\n",
      "[126]\tvalidation_0-logloss:0.02194\n",
      "[127]\tvalidation_0-logloss:0.02186\n",
      "[128]\tvalidation_0-logloss:0.02164\n",
      "[129]\tvalidation_0-logloss:0.02145\n",
      "[130]\tvalidation_0-logloss:0.02137\n",
      "[131]\tvalidation_0-logloss:0.02113\n",
      "[132]\tvalidation_0-logloss:0.02096\n",
      "[133]\tvalidation_0-logloss:0.02090\n",
      "[134]\tvalidation_0-logloss:0.02089\n",
      "[135]\tvalidation_0-logloss:0.02071\n",
      "[136]\tvalidation_0-logloss:0.02051\n",
      "[137]\tvalidation_0-logloss:0.02046\n",
      "[138]\tvalidation_0-logloss:0.02025\n",
      "[139]\tvalidation_0-logloss:0.02017\n",
      "[140]\tvalidation_0-logloss:0.02018\n",
      "[141]\tvalidation_0-logloss:0.02003\n",
      "[142]\tvalidation_0-logloss:0.01984\n",
      "[143]\tvalidation_0-logloss:0.01979\n",
      "[144]\tvalidation_0-logloss:0.01961\n",
      "[145]\tvalidation_0-logloss:0.01945\n",
      "[146]\tvalidation_0-logloss:0.01944\n",
      "[147]\tvalidation_0-logloss:0.01928\n",
      "[148]\tvalidation_0-logloss:0.01914\n",
      "[149]\tvalidation_0-logloss:0.01912\n",
      "[150]\tvalidation_0-logloss:0.01904\n",
      "[151]\tvalidation_0-logloss:0.01901\n",
      "[152]\tvalidation_0-logloss:0.01886\n",
      "[153]\tvalidation_0-logloss:0.01875\n",
      "[154]\tvalidation_0-logloss:0.01864\n",
      "[155]\tvalidation_0-logloss:0.01860\n",
      "[156]\tvalidation_0-logloss:0.01844\n",
      "[157]\tvalidation_0-logloss:0.01842\n",
      "[158]\tvalidation_0-logloss:0.01830\n",
      "[159]\tvalidation_0-logloss:0.01822\n",
      "[160]\tvalidation_0-logloss:0.01816\n",
      "[161]\tvalidation_0-logloss:0.01802\n",
      "[162]\tvalidation_0-logloss:0.01793\n",
      "[163]\tvalidation_0-logloss:0.01785\n",
      "[164]\tvalidation_0-logloss:0.01782\n",
      "[165]\tvalidation_0-logloss:0.01773\n",
      "[166]\tvalidation_0-logloss:0.01771\n",
      "[167]\tvalidation_0-logloss:0.01762\n",
      "[168]\tvalidation_0-logloss:0.01756\n",
      "[169]\tvalidation_0-logloss:0.01745\n",
      "[170]\tvalidation_0-logloss:0.01748\n",
      "[171]\tvalidation_0-logloss:0.01751\n",
      "[172]\tvalidation_0-logloss:0.01741\n",
      "[173]\tvalidation_0-logloss:0.01732\n",
      "[174]\tvalidation_0-logloss:0.01720\n",
      "[175]\tvalidation_0-logloss:0.01704\n",
      "[176]\tvalidation_0-logloss:0.01698\n",
      "[177]\tvalidation_0-logloss:0.01691\n",
      "[178]\tvalidation_0-logloss:0.01682\n",
      "[179]\tvalidation_0-logloss:0.01672\n",
      "[180]\tvalidation_0-logloss:0.01668\n",
      "[181]\tvalidation_0-logloss:0.01661\n",
      "[182]\tvalidation_0-logloss:0.01657\n",
      "[183]\tvalidation_0-logloss:0.01654\n",
      "[184]\tvalidation_0-logloss:0.01646\n",
      "[185]\tvalidation_0-logloss:0.01641\n",
      "[186]\tvalidation_0-logloss:0.01636\n",
      "[187]\tvalidation_0-logloss:0.01624\n",
      "[188]\tvalidation_0-logloss:0.01614\n",
      "[189]\tvalidation_0-logloss:0.01609\n",
      "[190]\tvalidation_0-logloss:0.01604\n",
      "[191]\tvalidation_0-logloss:0.01596\n",
      "[192]\tvalidation_0-logloss:0.01594\n",
      "[193]\tvalidation_0-logloss:0.01582\n",
      "[194]\tvalidation_0-logloss:0.01575\n",
      "[195]\tvalidation_0-logloss:0.01576\n",
      "[196]\tvalidation_0-logloss:0.01570\n",
      "[197]\tvalidation_0-logloss:0.01559\n",
      "[198]\tvalidation_0-logloss:0.01552\n",
      "[199]\tvalidation_0-logloss:0.01543\n",
      "[200]\tvalidation_0-logloss:0.01534\n",
      "[201]\tvalidation_0-logloss:0.01533\n",
      "[202]\tvalidation_0-logloss:0.01532\n",
      "[203]\tvalidation_0-logloss:0.01525\n",
      "[204]\tvalidation_0-logloss:0.01513\n",
      "[205]\tvalidation_0-logloss:0.01513\n",
      "[206]\tvalidation_0-logloss:0.01505\n",
      "[207]\tvalidation_0-logloss:0.01492\n",
      "[208]\tvalidation_0-logloss:0.01493\n",
      "[209]\tvalidation_0-logloss:0.01488\n",
      "[210]\tvalidation_0-logloss:0.01481\n",
      "[211]\tvalidation_0-logloss:0.01481\n",
      "[212]\tvalidation_0-logloss:0.01480\n",
      "[213]\tvalidation_0-logloss:0.01479\n",
      "[214]\tvalidation_0-logloss:0.01473\n",
      "[215]\tvalidation_0-logloss:0.01472\n",
      "[216]\tvalidation_0-logloss:0.01469\n",
      "[217]\tvalidation_0-logloss:0.01461\n",
      "[218]\tvalidation_0-logloss:0.01460\n",
      "[219]\tvalidation_0-logloss:0.01459\n",
      "[220]\tvalidation_0-logloss:0.01454\n",
      "[221]\tvalidation_0-logloss:0.01449\n",
      "[222]\tvalidation_0-logloss:0.01449\n",
      "[223]\tvalidation_0-logloss:0.01448\n",
      "[224]\tvalidation_0-logloss:0.01439\n",
      "[225]\tvalidation_0-logloss:0.01437\n",
      "[226]\tvalidation_0-logloss:0.01432\n",
      "[227]\tvalidation_0-logloss:0.01430\n",
      "[228]\tvalidation_0-logloss:0.01422\n",
      "[229]\tvalidation_0-logloss:0.01417\n",
      "[230]\tvalidation_0-logloss:0.01416\n",
      "[231]\tvalidation_0-logloss:0.01412\n",
      "[232]\tvalidation_0-logloss:0.01412\n",
      "[233]\tvalidation_0-logloss:0.01406\n",
      "[234]\tvalidation_0-logloss:0.01401\n",
      "[235]\tvalidation_0-logloss:0.01397\n",
      "[236]\tvalidation_0-logloss:0.01389\n",
      "[237]\tvalidation_0-logloss:0.01382\n",
      "[238]\tvalidation_0-logloss:0.01376\n",
      "[239]\tvalidation_0-logloss:0.01374\n",
      "[240]\tvalidation_0-logloss:0.01373\n",
      "[241]\tvalidation_0-logloss:0.01370\n",
      "[242]\tvalidation_0-logloss:0.01367\n",
      "[243]\tvalidation_0-logloss:0.01364\n",
      "[244]\tvalidation_0-logloss:0.01365\n",
      "[245]\tvalidation_0-logloss:0.01358\n",
      "[246]\tvalidation_0-logloss:0.01357\n",
      "[247]\tvalidation_0-logloss:0.01355\n",
      "[248]\tvalidation_0-logloss:0.01351\n",
      "[249]\tvalidation_0-logloss:0.01350\n",
      "[250]\tvalidation_0-logloss:0.01341\n",
      "[251]\tvalidation_0-logloss:0.01338\n",
      "[252]\tvalidation_0-logloss:0.01339\n",
      "[253]\tvalidation_0-logloss:0.01335\n",
      "[254]\tvalidation_0-logloss:0.01326\n",
      "[255]\tvalidation_0-logloss:0.01320\n",
      "[256]\tvalidation_0-logloss:0.01320\n",
      "[257]\tvalidation_0-logloss:0.01320\n",
      "[258]\tvalidation_0-logloss:0.01317\n",
      "[259]\tvalidation_0-logloss:0.01313\n",
      "[260]\tvalidation_0-logloss:0.01304\n",
      "[261]\tvalidation_0-logloss:0.01306\n",
      "[262]\tvalidation_0-logloss:0.01300\n",
      "[263]\tvalidation_0-logloss:0.01301\n",
      "[264]\tvalidation_0-logloss:0.01295\n",
      "[265]\tvalidation_0-logloss:0.01298\n",
      "[266]\tvalidation_0-logloss:0.01295\n",
      "[267]\tvalidation_0-logloss:0.01284\n",
      "[268]\tvalidation_0-logloss:0.01284\n",
      "[269]\tvalidation_0-logloss:0.01280\n",
      "[270]\tvalidation_0-logloss:0.01272\n",
      "[271]\tvalidation_0-logloss:0.01274\n",
      "[272]\tvalidation_0-logloss:0.01274\n",
      "[273]\tvalidation_0-logloss:0.01265\n",
      "[274]\tvalidation_0-logloss:0.01266\n",
      "[275]\tvalidation_0-logloss:0.01263\n",
      "[276]\tvalidation_0-logloss:0.01265\n",
      "[277]\tvalidation_0-logloss:0.01262\n",
      "[278]\tvalidation_0-logloss:0.01254\n",
      "[279]\tvalidation_0-logloss:0.01257\n",
      "[280]\tvalidation_0-logloss:0.01253\n",
      "[281]\tvalidation_0-logloss:0.01242\n",
      "[282]\tvalidation_0-logloss:0.01242\n",
      "[283]\tvalidation_0-logloss:0.01241\n",
      "[284]\tvalidation_0-logloss:0.01234\n",
      "[285]\tvalidation_0-logloss:0.01228\n",
      "[286]\tvalidation_0-logloss:0.01226\n",
      "[287]\tvalidation_0-logloss:0.01229\n",
      "[288]\tvalidation_0-logloss:0.01224\n",
      "[289]\tvalidation_0-logloss:0.01218\n",
      "[290]\tvalidation_0-logloss:0.01219\n",
      "[291]\tvalidation_0-logloss:0.01216\n",
      "[292]\tvalidation_0-logloss:0.01217\n",
      "[293]\tvalidation_0-logloss:0.01210\n",
      "[294]\tvalidation_0-logloss:0.01208\n",
      "[295]\tvalidation_0-logloss:0.01210\n",
      "[296]\tvalidation_0-logloss:0.01205\n",
      "[297]\tvalidation_0-logloss:0.01204\n",
      "[298]\tvalidation_0-logloss:0.01199\n",
      "[299]\tvalidation_0-logloss:0.01199\n",
      "[300]\tvalidation_0-logloss:0.01198\n",
      "[301]\tvalidation_0-logloss:0.01193\n",
      "[302]\tvalidation_0-logloss:0.01194\n",
      "[303]\tvalidation_0-logloss:0.01188\n",
      "[304]\tvalidation_0-logloss:0.01191\n",
      "[305]\tvalidation_0-logloss:0.01186\n",
      "[306]\tvalidation_0-logloss:0.01185\n",
      "[307]\tvalidation_0-logloss:0.01185\n",
      "[308]\tvalidation_0-logloss:0.01186\n",
      "[309]\tvalidation_0-logloss:0.01180\n",
      "[310]\tvalidation_0-logloss:0.01180\n",
      "[311]\tvalidation_0-logloss:0.01176\n",
      "[312]\tvalidation_0-logloss:0.01172\n",
      "[313]\tvalidation_0-logloss:0.01168\n",
      "[314]\tvalidation_0-logloss:0.01163\n",
      "[315]\tvalidation_0-logloss:0.01163\n",
      "[316]\tvalidation_0-logloss:0.01166\n",
      "[317]\tvalidation_0-logloss:0.01164\n",
      "[318]\tvalidation_0-logloss:0.01162\n",
      "[319]\tvalidation_0-logloss:0.01159\n",
      "[320]\tvalidation_0-logloss:0.01156\n",
      "[321]\tvalidation_0-logloss:0.01157\n",
      "[322]\tvalidation_0-logloss:0.01158\n",
      "[323]\tvalidation_0-logloss:0.01153\n",
      "[324]\tvalidation_0-logloss:0.01152\n",
      "[325]\tvalidation_0-logloss:0.01146\n",
      "[326]\tvalidation_0-logloss:0.01148\n",
      "[327]\tvalidation_0-logloss:0.01144\n",
      "[328]\tvalidation_0-logloss:0.01144\n",
      "[329]\tvalidation_0-logloss:0.01146\n",
      "[330]\tvalidation_0-logloss:0.01142\n",
      "[331]\tvalidation_0-logloss:0.01141\n",
      "[332]\tvalidation_0-logloss:0.01136\n",
      "[333]\tvalidation_0-logloss:0.01135\n",
      "[334]\tvalidation_0-logloss:0.01134\n",
      "[335]\tvalidation_0-logloss:0.01128\n",
      "[336]\tvalidation_0-logloss:0.01130\n",
      "[337]\tvalidation_0-logloss:0.01128\n",
      "[338]\tvalidation_0-logloss:0.01127\n",
      "[339]\tvalidation_0-logloss:0.01126\n",
      "[340]\tvalidation_0-logloss:0.01123\n",
      "[341]\tvalidation_0-logloss:0.01122\n",
      "[342]\tvalidation_0-logloss:0.01121\n",
      "[343]\tvalidation_0-logloss:0.01116\n",
      "[344]\tvalidation_0-logloss:0.01114\n",
      "[345]\tvalidation_0-logloss:0.01113\n",
      "[346]\tvalidation_0-logloss:0.01108\n",
      "[347]\tvalidation_0-logloss:0.01109\n",
      "[348]\tvalidation_0-logloss:0.01111\n",
      "[349]\tvalidation_0-logloss:0.01107\n",
      "[350]\tvalidation_0-logloss:0.01109\n",
      "[351]\tvalidation_0-logloss:0.01107\n",
      "[352]\tvalidation_0-logloss:0.01103\n",
      "[353]\tvalidation_0-logloss:0.01099\n",
      "[354]\tvalidation_0-logloss:0.01098\n",
      "[355]\tvalidation_0-logloss:0.01097\n",
      "[356]\tvalidation_0-logloss:0.01095\n",
      "[357]\tvalidation_0-logloss:0.01090\n",
      "[358]\tvalidation_0-logloss:0.01087\n",
      "[359]\tvalidation_0-logloss:0.01083\n",
      "[360]\tvalidation_0-logloss:0.01079\n",
      "[361]\tvalidation_0-logloss:0.01078\n",
      "[362]\tvalidation_0-logloss:0.01073\n",
      "[363]\tvalidation_0-logloss:0.01074\n",
      "[364]\tvalidation_0-logloss:0.01073\n",
      "[365]\tvalidation_0-logloss:0.01072\n",
      "[366]\tvalidation_0-logloss:0.01069\n",
      "[367]\tvalidation_0-logloss:0.01068\n",
      "[368]\tvalidation_0-logloss:0.01068\n",
      "[369]\tvalidation_0-logloss:0.01064\n",
      "[370]\tvalidation_0-logloss:0.01065\n",
      "[371]\tvalidation_0-logloss:0.01065\n",
      "[372]\tvalidation_0-logloss:0.01068\n",
      "[373]\tvalidation_0-logloss:0.01066\n",
      "[374]\tvalidation_0-logloss:0.01067\n",
      "[375]\tvalidation_0-logloss:0.01063\n",
      "[376]\tvalidation_0-logloss:0.01060\n",
      "[377]\tvalidation_0-logloss:0.01059\n",
      "[378]\tvalidation_0-logloss:0.01055\n",
      "[379]\tvalidation_0-logloss:0.01057\n",
      "[380]\tvalidation_0-logloss:0.01055\n",
      "[381]\tvalidation_0-logloss:0.01053\n",
      "[382]\tvalidation_0-logloss:0.01054\n",
      "[383]\tvalidation_0-logloss:0.01051\n",
      "[384]\tvalidation_0-logloss:0.01051\n",
      "[385]\tvalidation_0-logloss:0.01047\n",
      "[386]\tvalidation_0-logloss:0.01046\n",
      "[387]\tvalidation_0-logloss:0.01043\n",
      "[388]\tvalidation_0-logloss:0.01039\n",
      "[389]\tvalidation_0-logloss:0.01037\n",
      "[390]\tvalidation_0-logloss:0.01039\n",
      "[391]\tvalidation_0-logloss:0.01035\n",
      "[392]\tvalidation_0-logloss:0.01033\n",
      "[393]\tvalidation_0-logloss:0.01029\n",
      "[394]\tvalidation_0-logloss:0.01026\n",
      "[395]\tvalidation_0-logloss:0.01027\n",
      "[396]\tvalidation_0-logloss:0.01027\n",
      "[397]\tvalidation_0-logloss:0.01022\n",
      "[398]\tvalidation_0-logloss:0.01023\n",
      "[399]\tvalidation_0-logloss:0.01021\n",
      "[400]\tvalidation_0-logloss:0.01023\n",
      "[401]\tvalidation_0-logloss:0.01021\n",
      "[402]\tvalidation_0-logloss:0.01018\n",
      "[403]\tvalidation_0-logloss:0.01018\n",
      "[404]\tvalidation_0-logloss:0.01014\n",
      "[405]\tvalidation_0-logloss:0.01012\n",
      "[406]\tvalidation_0-logloss:0.01009\n",
      "[407]\tvalidation_0-logloss:0.01005\n",
      "[408]\tvalidation_0-logloss:0.01007\n",
      "[409]\tvalidation_0-logloss:0.01005\n",
      "[410]\tvalidation_0-logloss:0.01001\n",
      "[411]\tvalidation_0-logloss:0.00998\n",
      "[412]\tvalidation_0-logloss:0.00999\n",
      "[413]\tvalidation_0-logloss:0.00997\n",
      "[414]\tvalidation_0-logloss:0.00996\n",
      "[415]\tvalidation_0-logloss:0.00992\n",
      "[416]\tvalidation_0-logloss:0.00993\n",
      "[417]\tvalidation_0-logloss:0.00995\n",
      "[418]\tvalidation_0-logloss:0.00991\n",
      "[419]\tvalidation_0-logloss:0.00994\n",
      "[420]\tvalidation_0-logloss:0.00991\n",
      "[421]\tvalidation_0-logloss:0.00989\n",
      "[422]\tvalidation_0-logloss:0.00986\n",
      "[423]\tvalidation_0-logloss:0.00986\n",
      "[424]\tvalidation_0-logloss:0.00984\n",
      "[425]\tvalidation_0-logloss:0.00984\n",
      "[426]\tvalidation_0-logloss:0.00986\n",
      "[427]\tvalidation_0-logloss:0.00983\n",
      "[428]\tvalidation_0-logloss:0.00981\n",
      "[429]\tvalidation_0-logloss:0.00980\n",
      "[430]\tvalidation_0-logloss:0.00980\n",
      "[431]\tvalidation_0-logloss:0.00979\n",
      "[432]\tvalidation_0-logloss:0.00977\n",
      "[433]\tvalidation_0-logloss:0.00976\n",
      "[434]\tvalidation_0-logloss:0.00973\n",
      "[435]\tvalidation_0-logloss:0.00975\n",
      "[436]\tvalidation_0-logloss:0.00972\n",
      "[437]\tvalidation_0-logloss:0.00970\n",
      "[438]\tvalidation_0-logloss:0.00972\n",
      "[439]\tvalidation_0-logloss:0.00970\n",
      "[440]\tvalidation_0-logloss:0.00966\n",
      "[441]\tvalidation_0-logloss:0.00965\n",
      "[442]\tvalidation_0-logloss:0.00967\n",
      "[443]\tvalidation_0-logloss:0.00965\n",
      "[444]\tvalidation_0-logloss:0.00965\n",
      "[445]\tvalidation_0-logloss:0.00963\n",
      "[446]\tvalidation_0-logloss:0.00961\n",
      "[447]\tvalidation_0-logloss:0.00958\n",
      "[448]\tvalidation_0-logloss:0.00955\n",
      "[449]\tvalidation_0-logloss:0.00957\n",
      "[450]\tvalidation_0-logloss:0.00954\n",
      "[451]\tvalidation_0-logloss:0.00953\n",
      "[452]\tvalidation_0-logloss:0.00950\n",
      "[453]\tvalidation_0-logloss:0.00952\n",
      "[454]\tvalidation_0-logloss:0.00949\n",
      "[455]\tvalidation_0-logloss:0.00947\n",
      "[456]\tvalidation_0-logloss:0.00947\n",
      "[457]\tvalidation_0-logloss:0.00946\n",
      "[458]\tvalidation_0-logloss:0.00943\n",
      "[459]\tvalidation_0-logloss:0.00942\n",
      "[460]\tvalidation_0-logloss:0.00940\n",
      "[461]\tvalidation_0-logloss:0.00937\n",
      "[462]\tvalidation_0-logloss:0.00935\n",
      "[463]\tvalidation_0-logloss:0.00935\n",
      "[464]\tvalidation_0-logloss:0.00935\n",
      "[465]\tvalidation_0-logloss:0.00931\n",
      "[466]\tvalidation_0-logloss:0.00933\n",
      "[467]\tvalidation_0-logloss:0.00934\n",
      "[468]\tvalidation_0-logloss:0.00932\n",
      "[469]\tvalidation_0-logloss:0.00929\n",
      "[470]\tvalidation_0-logloss:0.00928\n",
      "[471]\tvalidation_0-logloss:0.00929\n",
      "[472]\tvalidation_0-logloss:0.00929\n",
      "[473]\tvalidation_0-logloss:0.00929\n",
      "[474]\tvalidation_0-logloss:0.00926\n",
      "[475]\tvalidation_0-logloss:0.00926\n",
      "[476]\tvalidation_0-logloss:0.00927\n",
      "[477]\tvalidation_0-logloss:0.00924\n",
      "[478]\tvalidation_0-logloss:0.00924\n",
      "[479]\tvalidation_0-logloss:0.00923\n",
      "[480]\tvalidation_0-logloss:0.00925\n",
      "[481]\tvalidation_0-logloss:0.00924\n",
      "[482]\tvalidation_0-logloss:0.00923\n",
      "[483]\tvalidation_0-logloss:0.00921\n",
      "[484]\tvalidation_0-logloss:0.00920\n",
      "[485]\tvalidation_0-logloss:0.00921\n",
      "[486]\tvalidation_0-logloss:0.00919\n",
      "[487]\tvalidation_0-logloss:0.00919\n",
      "[488]\tvalidation_0-logloss:0.00917\n",
      "[489]\tvalidation_0-logloss:0.00916\n",
      "[490]\tvalidation_0-logloss:0.00914\n",
      "[491]\tvalidation_0-logloss:0.00915\n",
      "[492]\tvalidation_0-logloss:0.00915\n",
      "[493]\tvalidation_0-logloss:0.00912\n",
      "[494]\tvalidation_0-logloss:0.00911\n",
      "[495]\tvalidation_0-logloss:0.00909\n",
      "[496]\tvalidation_0-logloss:0.00908\n",
      "[497]\tvalidation_0-logloss:0.00905\n",
      "[498]\tvalidation_0-logloss:0.00906\n",
      "[499]\tvalidation_0-logloss:0.00908\n"
     ]
    },
    {
     "data": {
      "text/html": [
       "<style>#sk-container-id-1 {color: black;background-color: white;}#sk-container-id-1 pre{padding: 0;}#sk-container-id-1 div.sk-toggleable {background-color: white;}#sk-container-id-1 label.sk-toggleable__label {cursor: pointer;display: block;width: 100%;margin-bottom: 0;padding: 0.3em;box-sizing: border-box;text-align: center;}#sk-container-id-1 label.sk-toggleable__label-arrow:before {content: \"▸\";float: left;margin-right: 0.25em;color: #696969;}#sk-container-id-1 label.sk-toggleable__label-arrow:hover:before {color: black;}#sk-container-id-1 div.sk-estimator:hover label.sk-toggleable__label-arrow:before {color: black;}#sk-container-id-1 div.sk-toggleable__content {max-height: 0;max-width: 0;overflow: hidden;text-align: left;background-color: #f0f8ff;}#sk-container-id-1 div.sk-toggleable__content pre {margin: 0.2em;color: black;border-radius: 0.25em;background-color: #f0f8ff;}#sk-container-id-1 input.sk-toggleable__control:checked~div.sk-toggleable__content {max-height: 200px;max-width: 100%;overflow: auto;}#sk-container-id-1 input.sk-toggleable__control:checked~label.sk-toggleable__label-arrow:before {content: \"▾\";}#sk-container-id-1 div.sk-estimator input.sk-toggleable__control:checked~label.sk-toggleable__label {background-color: #d4ebff;}#sk-container-id-1 div.sk-label input.sk-toggleable__control:checked~label.sk-toggleable__label {background-color: #d4ebff;}#sk-container-id-1 input.sk-hidden--visually {border: 0;clip: rect(1px 1px 1px 1px);clip: rect(1px, 1px, 1px, 1px);height: 1px;margin: -1px;overflow: hidden;padding: 0;position: absolute;width: 1px;}#sk-container-id-1 div.sk-estimator {font-family: monospace;background-color: #f0f8ff;border: 1px dotted black;border-radius: 0.25em;box-sizing: border-box;margin-bottom: 0.5em;}#sk-container-id-1 div.sk-estimator:hover {background-color: #d4ebff;}#sk-container-id-1 div.sk-parallel-item::after {content: \"\";width: 100%;border-bottom: 1px solid gray;flex-grow: 1;}#sk-container-id-1 div.sk-label:hover label.sk-toggleable__label {background-color: #d4ebff;}#sk-container-id-1 div.sk-serial::before {content: \"\";position: absolute;border-left: 1px solid gray;box-sizing: border-box;top: 0;bottom: 0;left: 50%;z-index: 0;}#sk-container-id-1 div.sk-serial {display: flex;flex-direction: column;align-items: center;background-color: white;padding-right: 0.2em;padding-left: 0.2em;position: relative;}#sk-container-id-1 div.sk-item {position: relative;z-index: 1;}#sk-container-id-1 div.sk-parallel {display: flex;align-items: stretch;justify-content: center;background-color: white;position: relative;}#sk-container-id-1 div.sk-item::before, #sk-container-id-1 div.sk-parallel-item::before {content: \"\";position: absolute;border-left: 1px solid gray;box-sizing: border-box;top: 0;bottom: 0;left: 50%;z-index: -1;}#sk-container-id-1 div.sk-parallel-item {display: flex;flex-direction: column;z-index: 1;position: relative;background-color: white;}#sk-container-id-1 div.sk-parallel-item:first-child::after {align-self: flex-end;width: 50%;}#sk-container-id-1 div.sk-parallel-item:last-child::after {align-self: flex-start;width: 50%;}#sk-container-id-1 div.sk-parallel-item:only-child::after {width: 0;}#sk-container-id-1 div.sk-dashed-wrapped {border: 1px dashed gray;margin: 0 0.4em 0.5em 0.4em;box-sizing: border-box;padding-bottom: 0.4em;background-color: white;}#sk-container-id-1 div.sk-label label {font-family: monospace;font-weight: bold;display: inline-block;line-height: 1.2em;}#sk-container-id-1 div.sk-label-container {text-align: center;}#sk-container-id-1 div.sk-container {/* jupyter's `normalize.less` sets `[hidden] { display: none; }` but bootstrap.min.css set `[hidden] { display: none !important; }` so we also need the `!important` here to be able to override the default hidden behavior on the sphinx rendered scikit-learn.org. See: https://github.com/scikit-learn/scikit-learn/issues/21755 */display: inline-block !important;position: relative;}#sk-container-id-1 div.sk-text-repr-fallback {display: none;}</style><div id=\"sk-container-id-1\" class=\"sk-top-container\"><div class=\"sk-text-repr-fallback\"><pre>XGBClassifier(base_score=None, booster=None, callbacks=None,\n",
       "              colsample_bylevel=None, colsample_bynode=None,\n",
       "              colsample_bytree=None, early_stopping_rounds=None,\n",
       "              enable_categorical=False, eval_metric=None, feature_types=None,\n",
       "              gamma=None, gpu_id=None, grow_policy=None, importance_type=None,\n",
       "              interaction_constraints=None, learning_rate=0.1, max_bin=None,\n",
       "              max_cat_threshold=None, max_cat_to_onehot=None,\n",
       "              max_delta_step=None, max_depth=None, max_leaves=None,\n",
       "              min_child_weight=None, missing=nan, monotone_constraints=None,\n",
       "              n_estimators=500, n_jobs=None, num_parallel_tree=None,\n",
       "              predictor=None, random_state=55, ...)</pre><b>In a Jupyter environment, please rerun this cell to show the HTML representation or trust the notebook. <br />On GitHub, the HTML representation is unable to render, please try loading this page with nbviewer.org.</b></div><div class=\"sk-container\" hidden><div class=\"sk-item\"><div class=\"sk-estimator sk-toggleable\"><input class=\"sk-toggleable__control sk-hidden--visually\" id=\"sk-estimator-id-1\" type=\"checkbox\" checked><label for=\"sk-estimator-id-1\" class=\"sk-toggleable__label sk-toggleable__label-arrow\">XGBClassifier</label><div class=\"sk-toggleable__content\"><pre>XGBClassifier(base_score=None, booster=None, callbacks=None,\n",
       "              colsample_bylevel=None, colsample_bynode=None,\n",
       "              colsample_bytree=None, early_stopping_rounds=None,\n",
       "              enable_categorical=False, eval_metric=None, feature_types=None,\n",
       "              gamma=None, gpu_id=None, grow_policy=None, importance_type=None,\n",
       "              interaction_constraints=None, learning_rate=0.1, max_bin=None,\n",
       "              max_cat_threshold=None, max_cat_to_onehot=None,\n",
       "              max_delta_step=None, max_depth=None, max_leaves=None,\n",
       "              min_child_weight=None, missing=nan, monotone_constraints=None,\n",
       "              n_estimators=500, n_jobs=None, num_parallel_tree=None,\n",
       "              predictor=None, random_state=55, ...)</pre></div></div></div></div></div>"
      ],
      "text/plain": [
       "XGBClassifier(base_score=None, booster=None, callbacks=None,\n",
       "              colsample_bylevel=None, colsample_bynode=None,\n",
       "              colsample_bytree=None, early_stopping_rounds=None,\n",
       "              enable_categorical=False, eval_metric=None, feature_types=None,\n",
       "              gamma=None, gpu_id=None, grow_policy=None, importance_type=None,\n",
       "              interaction_constraints=None, learning_rate=0.1, max_bin=None,\n",
       "              max_cat_threshold=None, max_cat_to_onehot=None,\n",
       "              max_delta_step=None, max_depth=None, max_leaves=None,\n",
       "              min_child_weight=None, missing=nan, monotone_constraints=None,\n",
       "              n_estimators=500, n_jobs=None, num_parallel_tree=None,\n",
       "              predictor=None, random_state=55, ...)"
      ]
     },
     "execution_count": 20,
     "metadata": {},
     "output_type": "execute_result"
    }
   ],
   "source": [
    "xgb_model  = XGBClassifier(n_estimators=500,learning_rate=0.1,verbosity=1,random_state=RANDOM_STATE)\n",
    "xgb_model.fit(x_train,y_train,eval_set=[(x_val,y_val)],early_stopping_rounds=10)"
   ]
  },
  {
   "cell_type": "code",
   "execution_count": 21,
   "id": "31ea1984",
   "metadata": {
    "execution": {
     "iopub.execute_input": "2023-08-11T11:55:35.949178Z",
     "iopub.status.busy": "2023-08-11T11:55:35.948814Z",
     "iopub.status.idle": "2023-08-11T11:55:35.955874Z",
     "shell.execute_reply": "2023-08-11T11:55:35.953904Z"
    },
    "papermill": {
     "duration": 0.057159,
     "end_time": "2023-08-11T11:55:35.959095",
     "exception": false,
     "start_time": "2023-08-11T11:55:35.901936",
     "status": "completed"
    },
    "tags": []
   },
   "outputs": [
    {
     "data": {
      "text/plain": [
       "497"
      ]
     },
     "execution_count": 21,
     "metadata": {},
     "output_type": "execute_result"
    }
   ],
   "source": [
    "xgb_model.best_iteration"
   ]
  },
  {
   "cell_type": "code",
   "execution_count": 22,
   "id": "815daa94",
   "metadata": {
    "execution": {
     "iopub.execute_input": "2023-08-11T11:55:36.054711Z",
     "iopub.status.busy": "2023-08-11T11:55:36.054324Z",
     "iopub.status.idle": "2023-08-11T11:55:36.089731Z",
     "shell.execute_reply": "2023-08-11T11:55:36.084917Z"
    },
    "papermill": {
     "duration": 0.085712,
     "end_time": "2023-08-11T11:55:36.092420",
     "exception": false,
     "start_time": "2023-08-11T11:55:36.006708",
     "status": "completed"
    },
    "tags": []
   },
   "outputs": [
    {
     "name": "stdout",
     "output_type": "stream",
     "text": [
      "Train set accuracy 1.0\n",
      "Validation set accuracy 1.0\n"
     ]
    }
   ],
   "source": [
    "print(\"Train set accuracy\",accuracy_score(xgb_model.predict(x_train),y_train))\n",
    "print(\"Validation set accuracy\",accuracy_score(xgb_model.predict(x_val),y_val))"
   ]
  },
  {
   "cell_type": "code",
   "execution_count": 23,
   "id": "8fd5c62a",
   "metadata": {
    "execution": {
     "iopub.execute_input": "2023-08-11T11:55:36.195829Z",
     "iopub.status.busy": "2023-08-11T11:55:36.193756Z",
     "iopub.status.idle": "2023-08-11T11:55:36.208679Z",
     "shell.execute_reply": "2023-08-11T11:55:36.206921Z"
    },
    "papermill": {
     "duration": 0.064389,
     "end_time": "2023-08-11T11:55:36.211175",
     "exception": false,
     "start_time": "2023-08-11T11:55:36.146786",
     "status": "completed"
    },
    "tags": []
   },
   "outputs": [
    {
     "name": "stdout",
     "output_type": "stream",
     "text": [
      "[0 0 1 0 1]\n",
      "546    0\n",
      "554    0\n",
      "922    1\n",
      "593    0\n",
      "870    1\n",
      "Name: target, dtype: int64\n"
     ]
    }
   ],
   "source": [
    "print(xgb_model.predict(x_val.tail()))\n",
    "print(y_val.tail())\n"
   ]
  },
  {
   "cell_type": "code",
   "execution_count": null,
   "id": "38079591",
   "metadata": {
    "papermill": {
     "duration": 0.044518,
     "end_time": "2023-08-11T11:55:36.300835",
     "exception": false,
     "start_time": "2023-08-11T11:55:36.256317",
     "status": "completed"
    },
    "tags": []
   },
   "outputs": [],
   "source": []
  }
 ],
 "metadata": {
  "kernelspec": {
   "display_name": "Python 3",
   "language": "python",
   "name": "python3"
  },
  "language_info": {
   "codemirror_mode": {
    "name": "ipython",
    "version": 3
   },
   "file_extension": ".py",
   "mimetype": "text/x-python",
   "name": "python",
   "nbconvert_exporter": "python",
   "pygments_lexer": "ipython3",
   "version": "3.10.12"
  },
  "papermill": {
   "default_parameters": {},
   "duration": 20.428281,
   "end_time": "2023-08-11T11:55:37.369575",
   "environment_variables": {},
   "exception": null,
   "input_path": "__notebook__.ipynb",
   "output_path": "__notebook__.ipynb",
   "parameters": {},
   "start_time": "2023-08-11T11:55:16.941294",
   "version": "2.4.0"
  }
 },
 "nbformat": 4,
 "nbformat_minor": 5
}
