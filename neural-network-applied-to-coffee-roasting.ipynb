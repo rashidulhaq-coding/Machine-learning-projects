{
 "cells": [
  {
   "cell_type": "code",
   "execution_count": 1,
   "id": "526b573e",
   "metadata": {
    "_cell_guid": "b1076dfc-b9ad-4769-8c92-a6c4dae69d19",
    "_uuid": "8f2839f25d086af736a60e9eeb907d3b93b6e0e5",
    "execution": {
     "iopub.execute_input": "2023-07-24T06:47:40.199824Z",
     "iopub.status.busy": "2023-07-24T06:47:40.198935Z",
     "iopub.status.idle": "2023-07-24T06:47:50.769530Z",
     "shell.execute_reply": "2023-07-24T06:47:50.767939Z"
    },
    "papermill": {
     "duration": 10.581536,
     "end_time": "2023-07-24T06:47:50.772560",
     "exception": false,
     "start_time": "2023-07-24T06:47:40.191024",
     "status": "completed"
    },
    "tags": []
   },
   "outputs": [
    {
     "name": "stderr",
     "output_type": "stream",
     "text": [
      "/opt/conda/lib/python3.10/site-packages/scipy/__init__.py:146: UserWarning: A NumPy version >=1.16.5 and <1.23.0 is required for this version of SciPy (detected version 1.23.5\n",
      "  warnings.warn(f\"A NumPy version >={np_minversion} and <{np_maxversion}\"\n",
      "/opt/conda/lib/python3.10/site-packages/tensorflow_io/python/ops/__init__.py:98: UserWarning: unable to load libtensorflow_io_plugins.so: unable to open file: libtensorflow_io_plugins.so, from paths: ['/opt/conda/lib/python3.10/site-packages/tensorflow_io/python/ops/libtensorflow_io_plugins.so']\n",
      "caused by: ['/opt/conda/lib/python3.10/site-packages/tensorflow_io/python/ops/libtensorflow_io_plugins.so: undefined symbol: _ZN3tsl6StatusC1EN10tensorflow5error4CodeESt17basic_string_viewIcSt11char_traitsIcEENS_14SourceLocationE']\n",
      "  warnings.warn(f\"unable to load libtensorflow_io_plugins.so: {e}\")\n",
      "/opt/conda/lib/python3.10/site-packages/tensorflow_io/python/ops/__init__.py:104: UserWarning: file system plugins are not loaded: unable to open file: libtensorflow_io.so, from paths: ['/opt/conda/lib/python3.10/site-packages/tensorflow_io/python/ops/libtensorflow_io.so']\n",
      "caused by: ['/opt/conda/lib/python3.10/site-packages/tensorflow_io/python/ops/libtensorflow_io.so: undefined symbol: _ZTVN10tensorflow13GcsFileSystemE']\n",
      "  warnings.warn(f\"file system plugins are not loaded: {e}\")\n"
     ]
    },
    {
     "name": "stdout",
     "output_type": "stream",
     "text": [
      "/kaggle/input/coffee-roasting-dataset/Coffee_Roasting.csv\n"
     ]
    }
   ],
   "source": [
    "# This Python 3 environment comes with many helpful analytics libraries installed\n",
    "# It is defined by the kaggle/python Docker image: https://github.com/kaggle/docker-python\n",
    "# For example, here's several helpful packages to load\n",
    "\n",
    "import numpy as np # linear algebra\n",
    "import pandas as pd # data processing, CSV file I/O (e.g. pd.read_csv)\n",
    "import tensorflow as tf\n",
    "from tensorflow.keras.layers import Dense, Input\n",
    "from tensorflow.keras.models import Sequential\n",
    "import warnings\n",
    "warnings.filterwarnings(\"ignore\")\n",
    "# Input data files are available in the read-only \"../input/\" directory\n",
    "# For example, running this (by clicking run or pressing Shift+Enter) will list all files under the input directory\n",
    "import os\n",
    "for dirname, _, filenames in os.walk('/kaggle/input'):\n",
    "    for filename in filenames:\n",
    "        print(os.path.join(dirname, filename))\n",
    "\n",
    "# You can write up to 20GB to the current directory (/kaggle/working/) that gets preserved as output when you create a version using \"Save & Run All\" \n",
    "# You can also write temporary files to /kaggle/temp/, but they won't be saved outside of the current session"
   ]
  },
  {
   "cell_type": "markdown",
   "id": "ff9adfa6",
   "metadata": {
    "papermill": {
     "duration": 0.005649,
     "end_time": "2023-07-24T06:47:50.784862",
     "exception": false,
     "start_time": "2023-07-24T06:47:50.779213",
     "status": "completed"
    },
    "tags": []
   },
   "source": [
    "## **Dataset Source**\n",
    "> This dataset is from the DeepLearning.ai coursera [Advance Learning Algorithms](https://www.coursera.org/learn/advanced-learning-algorithms) course. It is normalized and does not contain any null values."
   ]
  },
  {
   "cell_type": "code",
   "execution_count": 2,
   "id": "3d261c55",
   "metadata": {
    "execution": {
     "iopub.execute_input": "2023-07-24T06:47:50.799536Z",
     "iopub.status.busy": "2023-07-24T06:47:50.797972Z",
     "iopub.status.idle": "2023-07-24T06:47:51.047234Z",
     "shell.execute_reply": "2023-07-24T06:47:51.045936Z"
    },
    "papermill": {
     "duration": 0.259569,
     "end_time": "2023-07-24T06:47:51.050272",
     "exception": false,
     "start_time": "2023-07-24T06:47:50.790703",
     "status": "completed"
    },
    "tags": []
   },
   "outputs": [],
   "source": [
    "df=pd.read_csv(\"/kaggle/input/coffee-roasting-dataset/Coffee_Roasting.csv\")\n",
    "df.drop(columns=df.columns[0], axis=1, inplace=True)"
   ]
  },
  {
   "cell_type": "code",
   "execution_count": 3,
   "id": "56b3dd63",
   "metadata": {
    "execution": {
     "iopub.execute_input": "2023-07-24T06:47:51.063970Z",
     "iopub.status.busy": "2023-07-24T06:47:51.063558Z",
     "iopub.status.idle": "2023-07-24T06:47:51.084929Z",
     "shell.execute_reply": "2023-07-24T06:47:51.083539Z"
    },
    "papermill": {
     "duration": 0.031903,
     "end_time": "2023-07-24T06:47:51.088060",
     "exception": false,
     "start_time": "2023-07-24T06:47:51.056157",
     "status": "completed"
    },
    "tags": []
   },
   "outputs": [
    {
     "data": {
      "text/html": [
       "<div>\n",
       "<style scoped>\n",
       "    .dataframe tbody tr th:only-of-type {\n",
       "        vertical-align: middle;\n",
       "    }\n",
       "\n",
       "    .dataframe tbody tr th {\n",
       "        vertical-align: top;\n",
       "    }\n",
       "\n",
       "    .dataframe thead th {\n",
       "        text-align: right;\n",
       "    }\n",
       "</style>\n",
       "<table border=\"1\" class=\"dataframe\">\n",
       "  <thead>\n",
       "    <tr style=\"text-align: right;\">\n",
       "      <th></th>\n",
       "      <th>Temperature</th>\n",
       "      <th>Duration</th>\n",
       "      <th>Target</th>\n",
       "    </tr>\n",
       "  </thead>\n",
       "  <tbody>\n",
       "    <tr>\n",
       "      <th>199990</th>\n",
       "      <td>0.768273</td>\n",
       "      <td>0.519035</td>\n",
       "      <td>0.0</td>\n",
       "    </tr>\n",
       "    <tr>\n",
       "      <th>199991</th>\n",
       "      <td>-1.680748</td>\n",
       "      <td>-1.019054</td>\n",
       "      <td>0.0</td>\n",
       "    </tr>\n",
       "    <tr>\n",
       "      <th>199992</th>\n",
       "      <td>-1.672765</td>\n",
       "      <td>1.504299</td>\n",
       "      <td>0.0</td>\n",
       "    </tr>\n",
       "    <tr>\n",
       "      <th>199993</th>\n",
       "      <td>-0.919506</td>\n",
       "      <td>-1.104734</td>\n",
       "      <td>1.0</td>\n",
       "    </tr>\n",
       "    <tr>\n",
       "      <th>199994</th>\n",
       "      <td>0.249709</td>\n",
       "      <td>-0.991014</td>\n",
       "      <td>1.0</td>\n",
       "    </tr>\n",
       "    <tr>\n",
       "      <th>199995</th>\n",
       "      <td>0.127972</td>\n",
       "      <td>1.655843</td>\n",
       "      <td>0.0</td>\n",
       "    </tr>\n",
       "    <tr>\n",
       "      <th>199996</th>\n",
       "      <td>1.200146</td>\n",
       "      <td>-0.842043</td>\n",
       "      <td>0.0</td>\n",
       "    </tr>\n",
       "    <tr>\n",
       "      <th>199997</th>\n",
       "      <td>1.376723</td>\n",
       "      <td>-0.295213</td>\n",
       "      <td>0.0</td>\n",
       "    </tr>\n",
       "    <tr>\n",
       "      <th>199998</th>\n",
       "      <td>0.048600</td>\n",
       "      <td>-0.559008</td>\n",
       "      <td>1.0</td>\n",
       "    </tr>\n",
       "    <tr>\n",
       "      <th>199999</th>\n",
       "      <td>1.659754</td>\n",
       "      <td>-0.622457</td>\n",
       "      <td>0.0</td>\n",
       "    </tr>\n",
       "  </tbody>\n",
       "</table>\n",
       "</div>"
      ],
      "text/plain": [
       "        Temperature  Duration  Target\n",
       "199990     0.768273  0.519035     0.0\n",
       "199991    -1.680748 -1.019054     0.0\n",
       "199992    -1.672765  1.504299     0.0\n",
       "199993    -0.919506 -1.104734     1.0\n",
       "199994     0.249709 -0.991014     1.0\n",
       "199995     0.127972  1.655843     0.0\n",
       "199996     1.200146 -0.842043     0.0\n",
       "199997     1.376723 -0.295213     0.0\n",
       "199998     0.048600 -0.559008     1.0\n",
       "199999     1.659754 -0.622457     0.0"
      ]
     },
     "execution_count": 3,
     "metadata": {},
     "output_type": "execute_result"
    }
   ],
   "source": [
    "df.tail(10)"
   ]
  },
  {
   "cell_type": "code",
   "execution_count": 4,
   "id": "d989b1b5",
   "metadata": {
    "execution": {
     "iopub.execute_input": "2023-07-24T06:47:51.102006Z",
     "iopub.status.busy": "2023-07-24T06:47:51.101568Z",
     "iopub.status.idle": "2023-07-24T06:47:51.157611Z",
     "shell.execute_reply": "2023-07-24T06:47:51.156388Z"
    },
    "papermill": {
     "duration": 0.066225,
     "end_time": "2023-07-24T06:47:51.160226",
     "exception": false,
     "start_time": "2023-07-24T06:47:51.094001",
     "status": "completed"
    },
    "tags": []
   },
   "outputs": [
    {
     "data": {
      "text/html": [
       "<div>\n",
       "<style scoped>\n",
       "    .dataframe tbody tr th:only-of-type {\n",
       "        vertical-align: middle;\n",
       "    }\n",
       "\n",
       "    .dataframe tbody tr th {\n",
       "        vertical-align: top;\n",
       "    }\n",
       "\n",
       "    .dataframe thead th {\n",
       "        text-align: right;\n",
       "    }\n",
       "</style>\n",
       "<table border=\"1\" class=\"dataframe\">\n",
       "  <thead>\n",
       "    <tr style=\"text-align: right;\">\n",
       "      <th></th>\n",
       "      <th>Temperature</th>\n",
       "      <th>Duration</th>\n",
       "      <th>Target</th>\n",
       "    </tr>\n",
       "  </thead>\n",
       "  <tbody>\n",
       "    <tr>\n",
       "      <th>count</th>\n",
       "      <td>2.000000e+05</td>\n",
       "      <td>2.000000e+05</td>\n",
       "      <td>200000.000000</td>\n",
       "    </tr>\n",
       "    <tr>\n",
       "      <th>mean</th>\n",
       "      <td>-3.471650e-07</td>\n",
       "      <td>-1.268900e-07</td>\n",
       "      <td>0.215000</td>\n",
       "    </tr>\n",
       "    <tr>\n",
       "      <th>std</th>\n",
       "      <td>1.000002e+00</td>\n",
       "      <td>1.000003e+00</td>\n",
       "      <td>0.410823</td>\n",
       "    </tr>\n",
       "    <tr>\n",
       "      <th>min</th>\n",
       "      <td>-1.685219e+00</td>\n",
       "      <td>-1.699671e+00</td>\n",
       "      <td>0.000000</td>\n",
       "    </tr>\n",
       "    <tr>\n",
       "      <th>25%</th>\n",
       "      <td>-8.490226e-01</td>\n",
       "      <td>-8.505646e-01</td>\n",
       "      <td>0.000000</td>\n",
       "    </tr>\n",
       "    <tr>\n",
       "      <th>50%</th>\n",
       "      <td>3.965173e-02</td>\n",
       "      <td>-1.424916e-01</td>\n",
       "      <td>0.000000</td>\n",
       "    </tr>\n",
       "    <tr>\n",
       "      <th>75%</th>\n",
       "      <td>8.518358e-01</td>\n",
       "      <td>8.696861e-01</td>\n",
       "      <td>0.000000</td>\n",
       "    </tr>\n",
       "    <tr>\n",
       "      <th>max</th>\n",
       "      <td>1.659754e+00</td>\n",
       "      <td>1.793239e+00</td>\n",
       "      <td>1.000000</td>\n",
       "    </tr>\n",
       "  </tbody>\n",
       "</table>\n",
       "</div>"
      ],
      "text/plain": [
       "        Temperature      Duration         Target\n",
       "count  2.000000e+05  2.000000e+05  200000.000000\n",
       "mean  -3.471650e-07 -1.268900e-07       0.215000\n",
       "std    1.000002e+00  1.000003e+00       0.410823\n",
       "min   -1.685219e+00 -1.699671e+00       0.000000\n",
       "25%   -8.490226e-01 -8.505646e-01       0.000000\n",
       "50%    3.965173e-02 -1.424916e-01       0.000000\n",
       "75%    8.518358e-01  8.696861e-01       0.000000\n",
       "max    1.659754e+00  1.793239e+00       1.000000"
      ]
     },
     "execution_count": 4,
     "metadata": {},
     "output_type": "execute_result"
    }
   ],
   "source": [
    "df.describe()"
   ]
  },
  {
   "cell_type": "code",
   "execution_count": 5,
   "id": "181c6469",
   "metadata": {
    "execution": {
     "iopub.execute_input": "2023-07-24T06:47:51.175306Z",
     "iopub.status.busy": "2023-07-24T06:47:51.174128Z",
     "iopub.status.idle": "2023-07-24T06:47:51.196308Z",
     "shell.execute_reply": "2023-07-24T06:47:51.194863Z"
    },
    "papermill": {
     "duration": 0.032927,
     "end_time": "2023-07-24T06:47:51.199368",
     "exception": false,
     "start_time": "2023-07-24T06:47:51.166441",
     "status": "completed"
    },
    "tags": []
   },
   "outputs": [
    {
     "name": "stdout",
     "output_type": "stream",
     "text": [
      "<class 'pandas.core.frame.DataFrame'>\n",
      "RangeIndex: 200000 entries, 0 to 199999\n",
      "Data columns (total 3 columns):\n",
      " #   Column       Non-Null Count   Dtype  \n",
      "---  ------       --------------   -----  \n",
      " 0   Temperature  200000 non-null  float64\n",
      " 1   Duration     200000 non-null  float64\n",
      " 2   Target       200000 non-null  float64\n",
      "dtypes: float64(3)\n",
      "memory usage: 4.6 MB\n"
     ]
    }
   ],
   "source": [
    "df.info()"
   ]
  },
  {
   "cell_type": "code",
   "execution_count": 6,
   "id": "e3b68664",
   "metadata": {
    "execution": {
     "iopub.execute_input": "2023-07-24T06:47:51.214814Z",
     "iopub.status.busy": "2023-07-24T06:47:51.214362Z",
     "iopub.status.idle": "2023-07-24T06:47:51.427332Z",
     "shell.execute_reply": "2023-07-24T06:47:51.426251Z"
    },
    "papermill": {
     "duration": 0.224289,
     "end_time": "2023-07-24T06:47:51.430259",
     "exception": false,
     "start_time": "2023-07-24T06:47:51.205970",
     "status": "completed"
    },
    "tags": []
   },
   "outputs": [],
   "source": [
    "tf.random.set_seed(1234)\n",
    "model = Sequential([\n",
    "    tf.keras.Input(shape=(2,)),\n",
    "    Dense(3,activation=\"sigmoid\",name=\"layer1\"),\n",
    "    Dense(1,activation=\"sigmoid\",name=\"layer2\"),\n",
    "])"
   ]
  },
  {
   "cell_type": "code",
   "execution_count": 7,
   "id": "a9eebaeb",
   "metadata": {
    "execution": {
     "iopub.execute_input": "2023-07-24T06:47:51.445340Z",
     "iopub.status.busy": "2023-07-24T06:47:51.444880Z",
     "iopub.status.idle": "2023-07-24T06:47:51.466031Z",
     "shell.execute_reply": "2023-07-24T06:47:51.464524Z"
    },
    "papermill": {
     "duration": 0.037062,
     "end_time": "2023-07-24T06:47:51.473817",
     "exception": false,
     "start_time": "2023-07-24T06:47:51.436755",
     "status": "completed"
    },
    "tags": []
   },
   "outputs": [
    {
     "name": "stdout",
     "output_type": "stream",
     "text": [
      "Model: \"sequential\"\n",
      "_________________________________________________________________\n",
      " Layer (type)                Output Shape              Param #   \n",
      "=================================================================\n",
      " layer1 (Dense)              (None, 3)                 9         \n",
      "                                                                 \n",
      " layer2 (Dense)              (None, 1)                 4         \n",
      "                                                                 \n",
      "=================================================================\n",
      "Total params: 13\n",
      "Trainable params: 13\n",
      "Non-trainable params: 0\n",
      "_________________________________________________________________\n"
     ]
    }
   ],
   "source": [
    "model.summary()"
   ]
  },
  {
   "cell_type": "code",
   "execution_count": 8,
   "id": "3e7b3fe1",
   "metadata": {
    "execution": {
     "iopub.execute_input": "2023-07-24T06:47:51.490892Z",
     "iopub.status.busy": "2023-07-24T06:47:51.490467Z",
     "iopub.status.idle": "2023-07-24T06:47:51.507967Z",
     "shell.execute_reply": "2023-07-24T06:47:51.506542Z"
    },
    "papermill": {
     "duration": 0.029635,
     "end_time": "2023-07-24T06:47:51.510846",
     "exception": false,
     "start_time": "2023-07-24T06:47:51.481211",
     "status": "completed"
    },
    "tags": []
   },
   "outputs": [
    {
     "name": "stdout",
     "output_type": "stream",
     "text": [
      "W1(2, 3):\n",
      " [[-0.97378564 -0.88692945  0.46751046]\n",
      " [ 0.7680259  -0.7703824  -0.66889   ]] \n",
      "b1(3,): [0. 0. 0.]\n",
      "W2(3, 1):\n",
      " [[-0.1073606]\n",
      " [-1.023407 ]\n",
      " [-0.3291884]] \n",
      "b2(1,): [0.]\n"
     ]
    }
   ],
   "source": [
    "W1,b1 = model.get_layer(\"layer1\").get_weights()\n",
    "W2,b2 = model.get_layer(\"layer2\").get_weights()\n",
    "print(f\"W1{W1.shape}:\\n\",W1,f\"\\nb1{b1.shape}:\",b1)\n",
    "print(f\"W2{W2.shape}:\\n\",W2,f\"\\nb2{b2.shape}:\",b2)"
   ]
  },
  {
   "cell_type": "code",
   "execution_count": 9,
   "id": "5595a9bc",
   "metadata": {
    "execution": {
     "iopub.execute_input": "2023-07-24T06:47:51.527953Z",
     "iopub.status.busy": "2023-07-24T06:47:51.527499Z",
     "iopub.status.idle": "2023-07-24T06:47:51.536641Z",
     "shell.execute_reply": "2023-07-24T06:47:51.535651Z"
    },
    "papermill": {
     "duration": 0.020517,
     "end_time": "2023-07-24T06:47:51.539032",
     "exception": false,
     "start_time": "2023-07-24T06:47:51.518515",
     "status": "completed"
    },
    "tags": []
   },
   "outputs": [],
   "source": [
    "df.head()\n",
    "X = df[[\"Temperature\",\"Duration\"]]\n",
    "Y = df[[\"Target\"]]\n"
   ]
  },
  {
   "cell_type": "code",
   "execution_count": 10,
   "id": "3717624a",
   "metadata": {
    "execution": {
     "iopub.execute_input": "2023-07-24T06:47:51.558024Z",
     "iopub.status.busy": "2023-07-24T06:47:51.557551Z",
     "iopub.status.idle": "2023-07-24T06:49:24.854297Z",
     "shell.execute_reply": "2023-07-24T06:49:24.853280Z"
    },
    "papermill": {
     "duration": 93.310305,
     "end_time": "2023-07-24T06:49:24.857061",
     "exception": false,
     "start_time": "2023-07-24T06:47:51.546756",
     "status": "completed"
    },
    "tags": []
   },
   "outputs": [
    {
     "name": "stdout",
     "output_type": "stream",
     "text": [
      "Epoch 1/10\n",
      "6250/6250 [==============================] - 11s 2ms/step - loss: 0.1732\n",
      "Epoch 2/10\n",
      "6250/6250 [==============================] - 9s 1ms/step - loss: 0.1142\n",
      "Epoch 3/10\n",
      "6250/6250 [==============================] - 9s 2ms/step - loss: 0.0336\n",
      "Epoch 4/10\n",
      "6250/6250 [==============================] - 9s 1ms/step - loss: 0.0152\n",
      "Epoch 5/10\n",
      "6250/6250 [==============================] - 9s 2ms/step - loss: 0.0100\n",
      "Epoch 6/10\n",
      "6250/6250 [==============================] - 9s 1ms/step - loss: 0.0071\n",
      "Epoch 7/10\n",
      "6250/6250 [==============================] - 9s 1ms/step - loss: 0.0050\n",
      "Epoch 8/10\n",
      "6250/6250 [==============================] - 9s 1ms/step - loss: 0.0036\n",
      "Epoch 9/10\n",
      "6250/6250 [==============================] - 9s 1ms/step - loss: 0.0026\n",
      "Epoch 10/10\n",
      "6250/6250 [==============================] - 9s 1ms/step - loss: 0.0019\n"
     ]
    },
    {
     "data": {
      "text/plain": [
       "<keras.callbacks.History at 0x7942985476d0>"
      ]
     },
     "execution_count": 10,
     "metadata": {},
     "output_type": "execute_result"
    }
   ],
   "source": [
    "model.compile(loss=tf.keras.losses.BinaryCrossentropy(),\n",
    "             optimizer = tf.keras.optimizers.Adam(learning_rate=0.01),\n",
    "             )\n",
    "model.fit(X,Y,epochs=10)"
   ]
  },
  {
   "cell_type": "code",
   "execution_count": 11,
   "id": "8f01adef",
   "metadata": {
    "execution": {
     "iopub.execute_input": "2023-07-24T06:49:25.206957Z",
     "iopub.status.busy": "2023-07-24T06:49:25.206167Z",
     "iopub.status.idle": "2023-07-24T06:49:25.215537Z",
     "shell.execute_reply": "2023-07-24T06:49:25.213980Z"
    },
    "papermill": {
     "duration": 0.186215,
     "end_time": "2023-07-24T06:49:25.218081",
     "exception": false,
     "start_time": "2023-07-24T06:49:25.031866",
     "status": "completed"
    },
    "tags": []
   },
   "outputs": [
    {
     "name": "stdout",
     "output_type": "stream",
     "text": [
      "W1:\n",
      " [[ 14.430299   -11.041605    -0.1226527 ]\n",
      " [ 11.963819    -0.25281817  -8.94731   ]] \n",
      "b1: [  1.7976446 -12.031823  -11.203615 ]\n",
      "W2:\n",
      " [[-42.853024]\n",
      " [-50.45287 ]\n",
      " [-46.095837]] \n",
      "b2: [26.357853]\n"
     ]
    }
   ],
   "source": [
    "W1,b1=model.get_layer(\"layer1\").get_weights()\n",
    "W2,b2=model.get_layer(\"layer2\").get_weights()\n",
    "print(\"W1:\\n\",W1,\"\\nb1:\",b1)\n",
    "print(\"W2:\\n\",W2,\"\\nb2:\",b2)"
   ]
  },
  {
   "cell_type": "code",
   "execution_count": 12,
   "id": "64ad43d2",
   "metadata": {
    "execution": {
     "iopub.execute_input": "2023-07-24T06:49:25.564160Z",
     "iopub.status.busy": "2023-07-24T06:49:25.563774Z",
     "iopub.status.idle": "2023-07-24T06:49:25.731376Z",
     "shell.execute_reply": "2023-07-24T06:49:25.729652Z"
    },
    "papermill": {
     "duration": 0.345609,
     "end_time": "2023-07-24T06:49:25.734999",
     "exception": false,
     "start_time": "2023-07-24T06:49:25.389390",
     "status": "completed"
    },
    "tags": []
   },
   "outputs": [
    {
     "name": "stdout",
     "output_type": "stream",
     "text": [
      "1/1 [==============================] - 0s 103ms/step\n",
      "decisions = \n",
      "[[1]\n",
      " [0]]\n"
     ]
    }
   ],
   "source": [
    "X_test = np.array([\n",
    "    [-0.919506,-1.104734],# positive example\n",
    "    [1.200146,-0.842043]#negative example\n",
    "])\n",
    "prediction=model.predict(X_test)\n",
    "yhat = (prediction >= 0.5).astype(int)\n",
    "print(f\"decisions = \\n{yhat}\")"
   ]
  },
  {
   "cell_type": "code",
   "execution_count": null,
   "id": "59ffe2f3",
   "metadata": {
    "papermill": {
     "duration": 0.17328,
     "end_time": "2023-07-24T06:49:26.092804",
     "exception": false,
     "start_time": "2023-07-24T06:49:25.919524",
     "status": "completed"
    },
    "tags": []
   },
   "outputs": [],
   "source": []
  }
 ],
 "metadata": {
  "kernelspec": {
   "display_name": "Python 3",
   "language": "python",
   "name": "python3"
  },
  "language_info": {
   "codemirror_mode": {
    "name": "ipython",
    "version": 3
   },
   "file_extension": ".py",
   "mimetype": "text/x-python",
   "name": "python",
   "nbconvert_exporter": "python",
   "pygments_lexer": "ipython3",
   "version": "3.10.12"
  },
  "papermill": {
   "default_parameters": {},
   "duration": 121.851977,
   "end_time": "2023-07-24T06:49:29.012561",
   "environment_variables": {},
   "exception": null,
   "input_path": "__notebook__.ipynb",
   "output_path": "__notebook__.ipynb",
   "parameters": {},
   "start_time": "2023-07-24T06:47:27.160584",
   "version": "2.4.0"
  }
 },
 "nbformat": 4,
 "nbformat_minor": 5
}
