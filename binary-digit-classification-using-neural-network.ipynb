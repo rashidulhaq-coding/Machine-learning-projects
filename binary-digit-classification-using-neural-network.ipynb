{
 "cells": [
  {
   "cell_type": "code",
   "execution_count": 1,
   "id": "4d0aeeae",
   "metadata": {
    "_cell_guid": "b1076dfc-b9ad-4769-8c92-a6c4dae69d19",
    "_uuid": "8f2839f25d086af736a60e9eeb907d3b93b6e0e5",
    "execution": {
     "iopub.execute_input": "2023-07-25T09:27:37.463888Z",
     "iopub.status.busy": "2023-07-25T09:27:37.463225Z",
     "iopub.status.idle": "2023-07-25T09:27:37.480372Z",
     "shell.execute_reply": "2023-07-25T09:27:37.478628Z"
    },
    "papermill": {
     "duration": 0.026467,
     "end_time": "2023-07-25T09:27:37.482873",
     "exception": false,
     "start_time": "2023-07-25T09:27:37.456406",
     "status": "completed"
    },
    "tags": []
   },
   "outputs": [
    {
     "name": "stdout",
     "output_type": "stream",
     "text": [
      "/kaggle/input/binary-digits-mnist-portion/y.npy\n",
      "/kaggle/input/binary-digits-mnist-portion/X.npy\n"
     ]
    }
   ],
   "source": [
    "# This Python 3 environment comes with many helpful analytics libraries installed\n",
    "# It is defined by the kaggle/python Docker image: https://github.com/kaggle/docker-python\n",
    "# For example, here's several helpful packages to load\n",
    "\n",
    "import numpy as np # linear algebra\n",
    "import pandas as pd # data processing, CSV file I/O (e.g. pd.read_csv)\n",
    "\n",
    "# Input data files are available in the read-only \"../input/\" directory\n",
    "# For example, running this (by clicking run or pressing Shift+Enter) will list all files under the input directory\n",
    "\n",
    "import os\n",
    "for dirname, _, filenames in os.walk('/kaggle/input'):\n",
    "    for filename in filenames:\n",
    "        print(os.path.join(dirname, filename))\n",
    "\n",
    "# You can write up to 20GB to the current directory (/kaggle/working/) that gets preserved as output when you create a version using \"Save & Run All\" \n",
    "# You can also write temporary files to /kaggle/temp/, but they won't be saved outside of the current session"
   ]
  },
  {
   "cell_type": "markdown",
   "id": "dfd3c859",
   "metadata": {
    "papermill": {
     "duration": 0.004365,
     "end_time": "2023-07-25T09:27:37.492128",
     "exception": false,
     "start_time": "2023-07-25T09:27:37.487763",
     "status": "completed"
    },
    "tags": []
   },
   "source": [
    "### **Dataset**\n",
    "This dataset is taken from the course Advanced Learning Algorithms of Machine Learning Specialization. It is purely used for Educational and practice purpose.\n",
    "- The data set contains 1000 training examples of handwritten digits, here limited to zero and one.  \n",
    "\n",
    "    - Each training example is a 20-pixel x 20-pixel grayscale image of the digit. \n",
    "        - Each pixel is represented by a floating-point number indicating the grayscale intensity at that location. \n",
    "        - The 20 by 20 grid of pixels is “unrolled” into a 400-dimensional vector. \n",
    "        - Each training example becomes a single row in our data matrix `X`. \n",
    "        - This gives us a 1000 x 400 matrix `X` where every row is a training example of a handwritten digit image.\n",
    "\n",
    "\n",
    "- The second part of the training set is a 1000 x 1 dimensional vector `y` that contains labels for the training set\n",
    "\n",
    "> This is a subset of the MNIST handwritten digit dataset (http://yann.lecun.com/exdb/mnist/)"
   ]
  },
  {
   "cell_type": "code",
   "execution_count": 2,
   "id": "5c1d0f83",
   "metadata": {
    "execution": {
     "iopub.execute_input": "2023-07-25T09:27:37.503631Z",
     "iopub.status.busy": "2023-07-25T09:27:37.502843Z",
     "iopub.status.idle": "2023-07-25T09:27:37.641712Z",
     "shell.execute_reply": "2023-07-25T09:27:37.640396Z"
    },
    "papermill": {
     "duration": 0.146945,
     "end_time": "2023-07-25T09:27:37.644130",
     "exception": false,
     "start_time": "2023-07-25T09:27:37.497185",
     "status": "completed"
    },
    "tags": []
   },
   "outputs": [],
   "source": [
    "X = np.load(\"/kaggle/input/binary-digits-mnist-portion/X.npy\")[0:1000]\n",
    "y = np.load(\"/kaggle/input/binary-digits-mnist-portion/y.npy\")[0:1000]\n"
   ]
  },
  {
   "cell_type": "markdown",
   "id": "50771237",
   "metadata": {
    "papermill": {
     "duration": 0.004328,
     "end_time": "2023-07-25T09:27:37.653091",
     "exception": false,
     "start_time": "2023-07-25T09:27:37.648763",
     "status": "completed"
    },
    "tags": []
   },
   "source": [
    "### **Shape of X and y**"
   ]
  },
  {
   "cell_type": "code",
   "execution_count": 3,
   "id": "18866b0f",
   "metadata": {
    "execution": {
     "iopub.execute_input": "2023-07-25T09:27:37.663559Z",
     "iopub.status.busy": "2023-07-25T09:27:37.663165Z",
     "iopub.status.idle": "2023-07-25T09:27:37.670719Z",
     "shell.execute_reply": "2023-07-25T09:27:37.669626Z"
    },
    "papermill": {
     "duration": 0.01531,
     "end_time": "2023-07-25T09:27:37.672680",
     "exception": false,
     "start_time": "2023-07-25T09:27:37.657370",
     "status": "completed"
    },
    "tags": []
   },
   "outputs": [
    {
     "data": {
      "text/plain": [
       "(1000, 400)"
      ]
     },
     "execution_count": 3,
     "metadata": {},
     "output_type": "execute_result"
    }
   ],
   "source": [
    "X.shape"
   ]
  },
  {
   "cell_type": "code",
   "execution_count": 4,
   "id": "4d28febd",
   "metadata": {
    "execution": {
     "iopub.execute_input": "2023-07-25T09:27:37.683727Z",
     "iopub.status.busy": "2023-07-25T09:27:37.683358Z",
     "iopub.status.idle": "2023-07-25T09:27:37.689810Z",
     "shell.execute_reply": "2023-07-25T09:27:37.688897Z"
    },
    "papermill": {
     "duration": 0.014149,
     "end_time": "2023-07-25T09:27:37.691616",
     "exception": false,
     "start_time": "2023-07-25T09:27:37.677467",
     "status": "completed"
    },
    "tags": []
   },
   "outputs": [
    {
     "data": {
      "text/plain": [
       "(1000, 1)"
      ]
     },
     "execution_count": 4,
     "metadata": {},
     "output_type": "execute_result"
    }
   ],
   "source": [
    "y.shape"
   ]
  },
  {
   "cell_type": "code",
   "execution_count": 5,
   "id": "d7fcd3e1",
   "metadata": {
    "execution": {
     "iopub.execute_input": "2023-07-25T09:27:37.702591Z",
     "iopub.status.busy": "2023-07-25T09:27:37.702280Z",
     "iopub.status.idle": "2023-07-25T09:27:37.707008Z",
     "shell.execute_reply": "2023-07-25T09:27:37.706254Z"
    },
    "papermill": {
     "duration": 0.012958,
     "end_time": "2023-07-25T09:27:37.709303",
     "exception": false,
     "start_time": "2023-07-25T09:27:37.696345",
     "status": "completed"
    },
    "tags": []
   },
   "outputs": [
    {
     "name": "stdout",
     "output_type": "stream",
     "text": [
      "The first element of y is:  0\n",
      "The last element of y is:  1\n"
     ]
    }
   ],
   "source": [
    "print ('The first element of y is: ', y[0,0])\n",
    "print ('The last element of y is: ', y[-1,0])"
   ]
  },
  {
   "cell_type": "markdown",
   "id": "f299036e",
   "metadata": {
    "papermill": {
     "duration": 0.004406,
     "end_time": "2023-07-25T09:27:37.718544",
     "exception": false,
     "start_time": "2023-07-25T09:27:37.714138",
     "status": "completed"
    },
    "tags": []
   },
   "source": [
    "### **Importing Libraries**"
   ]
  },
  {
   "cell_type": "code",
   "execution_count": 6,
   "id": "0e2fa431",
   "metadata": {
    "execution": {
     "iopub.execute_input": "2023-07-25T09:27:37.730454Z",
     "iopub.status.busy": "2023-07-25T09:27:37.730154Z",
     "iopub.status.idle": "2023-07-25T09:27:45.920914Z",
     "shell.execute_reply": "2023-07-25T09:27:45.920205Z"
    },
    "papermill": {
     "duration": 8.198753,
     "end_time": "2023-07-25T09:27:45.923088",
     "exception": false,
     "start_time": "2023-07-25T09:27:37.724335",
     "status": "completed"
    },
    "tags": []
   },
   "outputs": [
    {
     "name": "stderr",
     "output_type": "stream",
     "text": [
      "/opt/conda/lib/python3.10/site-packages/scipy/__init__.py:146: UserWarning: A NumPy version >=1.16.5 and <1.23.0 is required for this version of SciPy (detected version 1.23.5\n",
      "  warnings.warn(f\"A NumPy version >={np_minversion} and <{np_maxversion}\"\n",
      "/opt/conda/lib/python3.10/site-packages/tensorflow_io/python/ops/__init__.py:98: UserWarning: unable to load libtensorflow_io_plugins.so: unable to open file: libtensorflow_io_plugins.so, from paths: ['/opt/conda/lib/python3.10/site-packages/tensorflow_io/python/ops/libtensorflow_io_plugins.so']\n",
      "caused by: ['/opt/conda/lib/python3.10/site-packages/tensorflow_io/python/ops/libtensorflow_io_plugins.so: undefined symbol: _ZN3tsl6StatusC1EN10tensorflow5error4CodeESt17basic_string_viewIcSt11char_traitsIcEENS_14SourceLocationE']\n",
      "  warnings.warn(f\"unable to load libtensorflow_io_plugins.so: {e}\")\n",
      "/opt/conda/lib/python3.10/site-packages/tensorflow_io/python/ops/__init__.py:104: UserWarning: file system plugins are not loaded: unable to open file: libtensorflow_io.so, from paths: ['/opt/conda/lib/python3.10/site-packages/tensorflow_io/python/ops/libtensorflow_io.so']\n",
      "caused by: ['/opt/conda/lib/python3.10/site-packages/tensorflow_io/python/ops/libtensorflow_io.so: undefined symbol: _ZTVN10tensorflow13GcsFileSystemE']\n",
      "  warnings.warn(f\"file system plugins are not loaded: {e}\")\n"
     ]
    }
   ],
   "source": [
    "import matplotlib.pyplot as plt\n",
    "import tensorflow as tf\n",
    "from tensorflow.keras.layers import Dense,Input\n",
    "from tensorflow.keras.models import Sequential\n",
    "import warnings\n",
    "warnings.filterwarnings(\"ignore\")"
   ]
  },
  {
   "cell_type": "markdown",
   "id": "aa86a441",
   "metadata": {
    "papermill": {
     "duration": 0.004671,
     "end_time": "2023-07-25T09:27:45.933175",
     "exception": false,
     "start_time": "2023-07-25T09:27:45.928504",
     "status": "completed"
    },
    "tags": []
   },
   "source": [
    "### **Visualization of One Image**"
   ]
  },
  {
   "cell_type": "code",
   "execution_count": 7,
   "id": "a7bf649c",
   "metadata": {
    "execution": {
     "iopub.execute_input": "2023-07-25T09:27:45.945131Z",
     "iopub.status.busy": "2023-07-25T09:27:45.943850Z",
     "iopub.status.idle": "2023-07-25T09:27:46.238015Z",
     "shell.execute_reply": "2023-07-25T09:27:46.236888Z"
    },
    "papermill": {
     "duration": 0.302235,
     "end_time": "2023-07-25T09:27:46.240121",
     "exception": false,
     "start_time": "2023-07-25T09:27:45.937886",
     "status": "completed"
    },
    "tags": []
   },
   "outputs": [
    {
     "data": {
      "text/plain": [
       "Text(0.5, 1.0, '1')"
      ]
     },
     "execution_count": 7,
     "metadata": {},
     "output_type": "execute_result"
    },
    {
     "data": {
      "image/png": "[encoded data removed]",
      "text/plain": [
       "<Figure size 640x480 with 1 Axes>"
      ]
     },
     "metadata": {},
     "output_type": "display_data"
    }
   ],
   "source": [
    "x1 = X[0].reshape(20,20).T\n",
    "plt.imshow(x1, cmap='gray')\n",
    "plt.title(y[0,0])\n",
    "x1 = X[-1].reshape(20,20).T\n",
    "plt.imshow(x1, cmap='gray')\n",
    "plt.title(y[-1,0])\n"
   ]
  },
  {
   "cell_type": "markdown",
   "id": "ddc7fac4",
   "metadata": {
    "papermill": {
     "duration": 0.004719,
     "end_time": "2023-07-25T09:27:46.250090",
     "exception": false,
     "start_time": "2023-07-25T09:27:46.245371",
     "status": "completed"
    },
    "tags": []
   },
   "source": [
    "### **Model building**"
   ]
  },
  {
   "cell_type": "code",
   "execution_count": 8,
   "id": "4b14ba5e",
   "metadata": {
    "execution": {
     "iopub.execute_input": "2023-07-25T09:27:46.261456Z",
     "iopub.status.busy": "2023-07-25T09:27:46.261125Z",
     "iopub.status.idle": "2023-07-25T09:27:46.429852Z",
     "shell.execute_reply": "2023-07-25T09:27:46.428497Z"
    },
    "papermill": {
     "duration": 0.177147,
     "end_time": "2023-07-25T09:27:46.432108",
     "exception": false,
     "start_time": "2023-07-25T09:27:46.254961",
     "status": "completed"
    },
    "tags": []
   },
   "outputs": [],
   "source": [
    "model = Sequential([\n",
    "    Input(shape=(400,)),\n",
    "    Dense(25,activation=\"sigmoid\",name=\"layer1\"),\n",
    "    Dense(15,activation=\"sigmoid\",name=\"layer2\"),\n",
    "    Dense(1,activation=\"sigmoid\",name=\"layer3\"),\n",
    "])"
   ]
  },
  {
   "cell_type": "code",
   "execution_count": 9,
   "id": "a526e6f4",
   "metadata": {
    "execution": {
     "iopub.execute_input": "2023-07-25T09:27:46.444209Z",
     "iopub.status.busy": "2023-07-25T09:27:46.443807Z",
     "iopub.status.idle": "2023-07-25T09:27:46.462766Z",
     "shell.execute_reply": "2023-07-25T09:27:46.461560Z"
    },
    "papermill": {
     "duration": 0.02765,
     "end_time": "2023-07-25T09:27:46.465015",
     "exception": false,
     "start_time": "2023-07-25T09:27:46.437365",
     "status": "completed"
    },
    "tags": []
   },
   "outputs": [
    {
     "name": "stdout",
     "output_type": "stream",
     "text": [
      "Model: \"sequential\"\n",
      "_________________________________________________________________\n",
      " Layer (type)                Output Shape              Param #   \n",
      "=================================================================\n",
      " layer1 (Dense)              (None, 25)                10025     \n",
      "                                                                 \n",
      " layer2 (Dense)              (None, 15)                390       \n",
      "                                                                 \n",
      " layer3 (Dense)              (None, 1)                 16        \n",
      "                                                                 \n",
      "=================================================================\n",
      "Total params: 10,431\n",
      "Trainable params: 10,431\n",
      "Non-trainable params: 0\n",
      "_________________________________________________________________\n"
     ]
    }
   ],
   "source": [
    "model.summary()"
   ]
  },
  {
   "cell_type": "code",
   "execution_count": 10,
   "id": "011a709a",
   "metadata": {
    "execution": {
     "iopub.execute_input": "2023-07-25T09:27:46.478799Z",
     "iopub.status.busy": "2023-07-25T09:27:46.478465Z",
     "iopub.status.idle": "2023-07-25T09:27:46.494255Z",
     "shell.execute_reply": "2023-07-25T09:27:46.493218Z"
    },
    "papermill": {
     "duration": 0.024933,
     "end_time": "2023-07-25T09:27:46.496010",
     "exception": false,
     "start_time": "2023-07-25T09:27:46.471077",
     "status": "completed"
    },
    "tags": []
   },
   "outputs": [
    {
     "data": {
      "text/plain": [
       "array([[-0.45683253],\n",
       "       [-0.14729455],\n",
       "       [-0.10266757],\n",
       "       [-0.22066063],\n",
       "       [ 0.15258694],\n",
       "       [ 0.41986328],\n",
       "       [-0.14026853],\n",
       "       [-0.06399077],\n",
       "       [ 0.17357194],\n",
       "       [-0.24704811],\n",
       "       [ 0.23092419],\n",
       "       [ 0.57914406],\n",
       "       [ 0.29649282],\n",
       "       [-0.5492288 ],\n",
       "       [ 0.51660067]], dtype=float32)"
      ]
     },
     "execution_count": 10,
     "metadata": {},
     "output_type": "execute_result"
    }
   ],
   "source": [
    "[layer1,layer2,layer3] = model.layers\n",
    "W1,b1= layer1.get_weights()\n",
    "W2,b2= layer2.get_weights()\n",
    "W3,b3= layer3.get_weights()\n",
    "W3"
   ]
  },
  {
   "cell_type": "markdown",
   "id": "66ed5cde",
   "metadata": {
    "papermill": {
     "duration": 0.006082,
     "end_time": "2023-07-25T09:27:46.508331",
     "exception": false,
     "start_time": "2023-07-25T09:27:46.502249",
     "status": "completed"
    },
    "tags": []
   },
   "source": [
    "### **Compiling and Fitting** "
   ]
  },
  {
   "cell_type": "code",
   "execution_count": 11,
   "id": "f0e9d708",
   "metadata": {
    "execution": {
     "iopub.execute_input": "2023-07-25T09:27:46.522273Z",
     "iopub.status.busy": "2023-07-25T09:27:46.521811Z",
     "iopub.status.idle": "2023-07-25T09:27:46.538008Z",
     "shell.execute_reply": "2023-07-25T09:27:46.537073Z"
    },
    "papermill": {
     "duration": 0.025826,
     "end_time": "2023-07-25T09:27:46.540179",
     "exception": false,
     "start_time": "2023-07-25T09:27:46.514353",
     "status": "completed"
    },
    "tags": []
   },
   "outputs": [],
   "source": [
    "model.compile(loss=tf.keras.losses.BinaryCrossentropy(),optimizer=tf.keras.optimizers.Adam(0.001))"
   ]
  },
  {
   "cell_type": "code",
   "execution_count": 12,
   "id": "69d5d551",
   "metadata": {
    "execution": {
     "iopub.execute_input": "2023-07-25T09:27:46.554504Z",
     "iopub.status.busy": "2023-07-25T09:27:46.554114Z",
     "iopub.status.idle": "2023-07-25T09:27:48.671931Z",
     "shell.execute_reply": "2023-07-25T09:27:48.670824Z"
    },
    "papermill": {
     "duration": 2.127676,
     "end_time": "2023-07-25T09:27:48.674126",
     "exception": false,
     "start_time": "2023-07-25T09:27:46.546450",
     "status": "completed"
    },
    "tags": []
   },
   "outputs": [
    {
     "name": "stdout",
     "output_type": "stream",
     "text": [
      "Epoch 1/20\n",
      "32/32 [==============================] - 1s 2ms/step - loss: 0.6257\n",
      "Epoch 2/20\n",
      "32/32 [==============================] - 0s 2ms/step - loss: 0.4777\n",
      "Epoch 3/20\n",
      "32/32 [==============================] - 0s 1ms/step - loss: 0.3295\n",
      "Epoch 4/20\n",
      "32/32 [==============================] - 0s 2ms/step - loss: 0.2252\n",
      "Epoch 5/20\n",
      "32/32 [==============================] - 0s 2ms/step - loss: 0.1613\n",
      "Epoch 6/20\n",
      "32/32 [==============================] - 0s 1ms/step - loss: 0.1214\n",
      "Epoch 7/20\n",
      "32/32 [==============================] - 0s 1ms/step - loss: 0.0951\n",
      "Epoch 8/20\n",
      "32/32 [==============================] - 0s 2ms/step - loss: 0.0769\n",
      "Epoch 9/20\n",
      "32/32 [==============================] - 0s 1ms/step - loss: 0.0640\n",
      "Epoch 10/20\n",
      "32/32 [==============================] - 0s 1ms/step - loss: 0.0542\n",
      "Epoch 11/20\n",
      "32/32 [==============================] - 0s 1ms/step - loss: 0.0469\n",
      "Epoch 12/20\n",
      "32/32 [==============================] - 0s 2ms/step - loss: 0.0411\n",
      "Epoch 13/20\n",
      "32/32 [==============================] - 0s 1ms/step - loss: 0.0366\n",
      "Epoch 14/20\n",
      "32/32 [==============================] - 0s 1ms/step - loss: 0.0330\n",
      "Epoch 15/20\n",
      "32/32 [==============================] - 0s 1ms/step - loss: 0.0299\n",
      "Epoch 16/20\n",
      "32/32 [==============================] - 0s 2ms/step - loss: 0.0274\n",
      "Epoch 17/20\n",
      "32/32 [==============================] - 0s 1ms/step - loss: 0.0253\n",
      "Epoch 18/20\n",
      "32/32 [==============================] - 0s 1ms/step - loss: 0.0235\n",
      "Epoch 19/20\n",
      "32/32 [==============================] - 0s 2ms/step - loss: 0.0220\n",
      "Epoch 20/20\n",
      "32/32 [==============================] - 0s 2ms/step - loss: 0.0207\n"
     ]
    },
    {
     "data": {
      "text/plain": [
       "<keras.callbacks.History at 0x7ad58e5e8940>"
      ]
     },
     "execution_count": 12,
     "metadata": {},
     "output_type": "execute_result"
    }
   ],
   "source": [
    "model.fit(X,y,epochs=20)"
   ]
  },
  {
   "cell_type": "markdown",
   "id": "f06a4722",
   "metadata": {
    "papermill": {
     "duration": 0.009159,
     "end_time": "2023-07-25T09:27:48.693121",
     "exception": false,
     "start_time": "2023-07-25T09:27:48.683962",
     "status": "completed"
    },
    "tags": []
   },
   "source": [
    "### **Prediction**"
   ]
  },
  {
   "cell_type": "code",
   "execution_count": 13,
   "id": "d2a8b434",
   "metadata": {
    "execution": {
     "iopub.execute_input": "2023-07-25T09:27:48.713684Z",
     "iopub.status.busy": "2023-07-25T09:27:48.713368Z",
     "iopub.status.idle": "2023-07-25T09:27:48.834273Z",
     "shell.execute_reply": "2023-07-25T09:27:48.833206Z"
    },
    "papermill": {
     "duration": 0.13344,
     "end_time": "2023-07-25T09:27:48.836001",
     "exception": false,
     "start_time": "2023-07-25T09:27:48.702561",
     "status": "completed"
    },
    "tags": []
   },
   "outputs": [
    {
     "name": "stdout",
     "output_type": "stream",
     "text": [
      "1/1 [==============================] - 0s 76ms/step\n",
      "prediction 0.9854044 actual 1\n"
     ]
    }
   ],
   "source": [
    "print(\"prediction\",np.squeeze(model.predict(X[500].reshape(1,400))),\"actual\",y[500,0])"
   ]
  },
  {
   "cell_type": "code",
   "execution_count": 14,
   "id": "fdc0ca6d",
   "metadata": {
    "execution": {
     "iopub.execute_input": "2023-07-25T09:27:48.858778Z",
     "iopub.status.busy": "2023-07-25T09:27:48.858401Z",
     "iopub.status.idle": "2023-07-25T09:27:49.121680Z",
     "shell.execute_reply": "2023-07-25T09:27:49.120557Z"
    },
    "papermill": {
     "duration": 0.27745,
     "end_time": "2023-07-25T09:27:49.124065",
     "exception": false,
     "start_time": "2023-07-25T09:27:48.846615",
     "status": "completed"
    },
    "tags": []
   },
   "outputs": [
    {
     "name": "stdout",
     "output_type": "stream",
     "text": [
      "1/1 [==============================] - 0s 18ms/step\n"
     ]
    },
    {
     "data": {
      "image/png": "[encoded data removed]",
      "text/plain": [
       "<Figure size 640x480 with 1 Axes>"
      ]
     },
     "metadata": {},
     "output_type": "display_data"
    }
   ],
   "source": [
    "plt.imshow(X[500].reshape(20,20).T)\n",
    "plt.title(1 if np.squeeze(model.predict(X[500].reshape(1,400)))>0.5 else 0)\n",
    "plt.show()"
   ]
  },
  {
   "cell_type": "code",
   "execution_count": null,
   "id": "3f7996d6",
   "metadata": {
    "papermill": {
     "duration": 0.009972,
     "end_time": "2023-07-25T09:27:49.144379",
     "exception": false,
     "start_time": "2023-07-25T09:27:49.134407",
     "status": "completed"
    },
    "tags": []
   },
   "outputs": [],
   "source": []
  }
 ],
 "metadata": {
  "kernelspec": {
   "display_name": "Python 3",
   "language": "python",
   "name": "python3"
  },
  "language_info": {
   "codemirror_mode": {
    "name": "ipython",
    "version": 3
   },
   "file_extension": ".py",
   "mimetype": "text/x-python",
   "name": "python",
   "nbconvert_exporter": "python",
   "pygments_lexer": "ipython3",
   "version": "3.10.12"
  },
  "papermill": {
   "default_parameters": {},
   "duration": 21.270079,
   "end_time": "2023-07-25T09:27:50.877221",
   "environment_variables": {},
   "exception": null,
   "input_path": "__notebook__.ipynb",
   "output_path": "__notebook__.ipynb",
   "parameters": {},
   "start_time": "2023-07-25T09:27:29.607142",
   "version": "2.4.0"
  }
 },
 "nbformat": 4,
 "nbformat_minor": 5
}
