{
 "cells": [
  {
   "cell_type": "code",
   "execution_count": 1,
   "id": "d21bc607",
   "metadata": {
    "_cell_guid": "b1076dfc-b9ad-4769-8c92-a6c4dae69d19",
    "_uuid": "8f2839f25d086af736a60e9eeb907d3b93b6e0e5",
    "execution": {
     "iopub.execute_input": "2023-07-27T17:53:16.576360Z",
     "iopub.status.busy": "2023-07-27T17:53:16.575966Z",
     "iopub.status.idle": "2023-07-27T17:53:25.678862Z",
     "shell.execute_reply": "2023-07-27T17:53:25.677681Z"
    },
    "papermill": {
     "duration": 9.114121,
     "end_time": "2023-07-27T17:53:25.681821",
     "exception": false,
     "start_time": "2023-07-27T17:53:16.567700",
     "status": "completed"
    },
    "tags": []
   },
   "outputs": [
    {
     "name": "stderr",
     "output_type": "stream",
     "text": [
      "/opt/conda/lib/python3.10/site-packages/scipy/__init__.py:146: UserWarning: A NumPy version >=1.16.5 and <1.23.0 is required for this version of SciPy (detected version 1.23.5\n",
      "  warnings.warn(f\"A NumPy version >={np_minversion} and <{np_maxversion}\"\n",
      "/opt/conda/lib/python3.10/site-packages/tensorflow_io/python/ops/__init__.py:98: UserWarning: unable to load libtensorflow_io_plugins.so: unable to open file: libtensorflow_io_plugins.so, from paths: ['/opt/conda/lib/python3.10/site-packages/tensorflow_io/python/ops/libtensorflow_io_plugins.so']\n",
      "caused by: ['/opt/conda/lib/python3.10/site-packages/tensorflow_io/python/ops/libtensorflow_io_plugins.so: undefined symbol: _ZN3tsl6StatusC1EN10tensorflow5error4CodeESt17basic_string_viewIcSt11char_traitsIcEENS_14SourceLocationE']\n",
      "  warnings.warn(f\"unable to load libtensorflow_io_plugins.so: {e}\")\n",
      "/opt/conda/lib/python3.10/site-packages/tensorflow_io/python/ops/__init__.py:104: UserWarning: file system plugins are not loaded: unable to open file: libtensorflow_io.so, from paths: ['/opt/conda/lib/python3.10/site-packages/tensorflow_io/python/ops/libtensorflow_io.so']\n",
      "caused by: ['/opt/conda/lib/python3.10/site-packages/tensorflow_io/python/ops/libtensorflow_io.so: undefined symbol: _ZTVN10tensorflow13GcsFileSystemE']\n",
      "  warnings.warn(f\"file system plugins are not loaded: {e}\")\n"
     ]
    }
   ],
   "source": [
    "# This Python 3 environment comes with many helpful analytics libraries installed\n",
    "# It is defined by the kaggle/python Docker image: https://github.com/kaggle/docker-python\n",
    "# For example, here's several helpful packages to load\n",
    "\n",
    "import numpy as np # linear algebra\n",
    "import pandas as pd # data processing, CSV file I/O (e.g. pd.read_csv)\n",
    "import tensorflow as tf\n",
    "from tensorflow.keras.layers import Dense, Input\n",
    "from tensorflow.keras.models import Sequential\n",
    "from tensorflow.keras.datasets import mnist\n",
    "import matplotlib.pyplot as plt\n",
    "\n",
    "import warnings\n",
    "warnings.filterwarnings(\"ignore\")\n",
    "# Input data files are available in the read-only \"../input/\" directory\n",
    "# For example, running this (by clicking run or pressing Shift+Enter) will list all files under the input directory\n",
    "\n",
    "import os\n",
    "for dirname, _, filenames in os.walk('/kaggle/input'):\n",
    "    for filename in filenames:\n",
    "        print(os.path.join(dirname, filename))\n",
    "\n",
    "# You can write up to 20GB to the current directory (/kaggle/working/) that gets preserved as output when you create a version using \"Save & Run All\" \n",
    "# You can also write temporary files to /kaggle/temp/, but they won't be saved outside of the current session"
   ]
  },
  {
   "cell_type": "code",
   "execution_count": 2,
   "id": "fc7e7621",
   "metadata": {
    "execution": {
     "iopub.execute_input": "2023-07-27T17:53:25.696008Z",
     "iopub.status.busy": "2023-07-27T17:53:25.695188Z",
     "iopub.status.idle": "2023-07-27T17:53:27.116376Z",
     "shell.execute_reply": "2023-07-27T17:53:27.115377Z"
    },
    "papermill": {
     "duration": 1.43111,
     "end_time": "2023-07-27T17:53:27.119034",
     "exception": false,
     "start_time": "2023-07-27T17:53:25.687924",
     "status": "completed"
    },
    "tags": []
   },
   "outputs": [
    {
     "name": "stdout",
     "output_type": "stream",
     "text": [
      "Downloading data from https://storage.googleapis.com/tensorflow/tf-keras-datasets/mnist.npz\n",
      "11490434/11490434 [==============================] - 1s 0us/step\n"
     ]
    }
   ],
   "source": [
    "(x_train, y_train), (x_test, y_test) = mnist.load_data()"
   ]
  },
  {
   "cell_type": "code",
   "execution_count": 3,
   "id": "55c3b5af",
   "metadata": {
    "execution": {
     "iopub.execute_input": "2023-07-27T17:53:27.136253Z",
     "iopub.status.busy": "2023-07-27T17:53:27.135413Z",
     "iopub.status.idle": "2023-07-27T17:53:27.143090Z",
     "shell.execute_reply": "2023-07-27T17:53:27.141942Z"
    },
    "papermill": {
     "duration": 0.019046,
     "end_time": "2023-07-27T17:53:27.145552",
     "exception": false,
     "start_time": "2023-07-27T17:53:27.126506",
     "status": "completed"
    },
    "tags": []
   },
   "outputs": [
    {
     "data": {
      "text/plain": [
       "(60000, 28, 28)"
      ]
     },
     "execution_count": 3,
     "metadata": {},
     "output_type": "execute_result"
    }
   ],
   "source": [
    "x_train.shape"
   ]
  },
  {
   "cell_type": "code",
   "execution_count": 4,
   "id": "f3abb790",
   "metadata": {
    "execution": {
     "iopub.execute_input": "2023-07-27T17:53:27.162516Z",
     "iopub.status.busy": "2023-07-27T17:53:27.162105Z",
     "iopub.status.idle": "2023-07-27T17:53:27.170027Z",
     "shell.execute_reply": "2023-07-27T17:53:27.168773Z"
    },
    "papermill": {
     "duration": 0.019197,
     "end_time": "2023-07-27T17:53:27.172398",
     "exception": false,
     "start_time": "2023-07-27T17:53:27.153201",
     "status": "completed"
    },
    "tags": []
   },
   "outputs": [
    {
     "data": {
      "text/plain": [
       "(10000, 28, 28)"
      ]
     },
     "execution_count": 4,
     "metadata": {},
     "output_type": "execute_result"
    }
   ],
   "source": [
    "x_test.shape"
   ]
  },
  {
   "cell_type": "code",
   "execution_count": 5,
   "id": "21d60c85",
   "metadata": {
    "execution": {
     "iopub.execute_input": "2023-07-27T17:53:27.190401Z",
     "iopub.status.busy": "2023-07-27T17:53:27.189478Z",
     "iopub.status.idle": "2023-07-27T17:53:27.520020Z",
     "shell.execute_reply": "2023-07-27T17:53:27.518674Z"
    },
    "papermill": {
     "duration": 0.342494,
     "end_time": "2023-07-27T17:53:27.522686",
     "exception": false,
     "start_time": "2023-07-27T17:53:27.180192",
     "status": "completed"
    },
    "tags": []
   },
   "outputs": [
    {
     "data": {
      "text/plain": [
       "<matplotlib.image.AxesImage at 0x7e3f0db82470>"
      ]
     },
     "execution_count": 5,
     "metadata": {},
     "output_type": "execute_result"
    },
    {
     "data": {
      "image/png": "[encoded data removed]",
      "text/plain": [
       "<Figure size 640x480 with 1 Axes>"
      ]
     },
     "metadata": {},
     "output_type": "display_data"
    }
   ],
   "source": [
    "x_train[0]\n",
    "plt.imshow(x_train[5])"
   ]
  },
  {
   "cell_type": "markdown",
   "id": "bfdf0dfe",
   "metadata": {
    "papermill": {
     "duration": 0.007924,
     "end_time": "2023-07-27T17:53:27.539088",
     "exception": false,
     "start_time": "2023-07-27T17:53:27.531164",
     "status": "completed"
    },
    "tags": []
   },
   "source": [
    "### Data preprocessing"
   ]
  },
  {
   "cell_type": "code",
   "execution_count": 6,
   "id": "1d4cb8b3",
   "metadata": {
    "execution": {
     "iopub.execute_input": "2023-07-27T17:53:27.557061Z",
     "iopub.status.busy": "2023-07-27T17:53:27.556599Z",
     "iopub.status.idle": "2023-07-27T17:53:27.564925Z",
     "shell.execute_reply": "2023-07-27T17:53:27.563672Z"
    },
    "papermill": {
     "duration": 0.02002,
     "end_time": "2023-07-27T17:53:27.567178",
     "exception": false,
     "start_time": "2023-07-27T17:53:27.547158",
     "status": "completed"
    },
    "tags": []
   },
   "outputs": [
    {
     "data": {
      "text/plain": [
       "784"
      ]
     },
     "execution_count": 6,
     "metadata": {},
     "output_type": "execute_result"
    }
   ],
   "source": [
    "size = x_train.shape[1]\n",
    "input_size = size*size\n",
    "input_size"
   ]
  },
  {
   "cell_type": "code",
   "execution_count": 7,
   "id": "a5e457cb",
   "metadata": {
    "execution": {
     "iopub.execute_input": "2023-07-27T17:53:27.585496Z",
     "iopub.status.busy": "2023-07-27T17:53:27.585049Z",
     "iopub.status.idle": "2023-07-27T17:53:27.680274Z",
     "shell.execute_reply": "2023-07-27T17:53:27.678965Z"
    },
    "papermill": {
     "duration": 0.107609,
     "end_time": "2023-07-27T17:53:27.683052",
     "exception": false,
     "start_time": "2023-07-27T17:53:27.575443",
     "status": "completed"
    },
    "tags": []
   },
   "outputs": [],
   "source": [
    "x_train = x_train.reshape(-1,input_size)\n",
    "x_train = x_train.astype(\"float32\")/255\n",
    "x_test =x_test.reshape(-1,input_size)\n",
    "x_test = x_test.astype(\"float32\")/255"
   ]
  },
  {
   "cell_type": "code",
   "execution_count": 8,
   "id": "ce0a7542",
   "metadata": {
    "execution": {
     "iopub.execute_input": "2023-07-27T17:53:27.703168Z",
     "iopub.status.busy": "2023-07-27T17:53:27.702745Z",
     "iopub.status.idle": "2023-07-27T17:53:27.709307Z",
     "shell.execute_reply": "2023-07-27T17:53:27.708152Z"
    },
    "papermill": {
     "duration": 0.020357,
     "end_time": "2023-07-27T17:53:27.711707",
     "exception": false,
     "start_time": "2023-07-27T17:53:27.691350",
     "status": "completed"
    },
    "tags": []
   },
   "outputs": [
    {
     "data": {
      "text/plain": [
       "(60000, 784)"
      ]
     },
     "execution_count": 8,
     "metadata": {},
     "output_type": "execute_result"
    }
   ],
   "source": [
    "x_train.shape"
   ]
  },
  {
   "cell_type": "code",
   "execution_count": 9,
   "id": "61732c80",
   "metadata": {
    "execution": {
     "iopub.execute_input": "2023-07-27T17:53:27.730315Z",
     "iopub.status.busy": "2023-07-27T17:53:27.729880Z",
     "iopub.status.idle": "2023-07-27T17:53:27.925315Z",
     "shell.execute_reply": "2023-07-27T17:53:27.924254Z"
    },
    "papermill": {
     "duration": 0.208085,
     "end_time": "2023-07-27T17:53:27.928150",
     "exception": false,
     "start_time": "2023-07-27T17:53:27.720065",
     "status": "completed"
    },
    "tags": []
   },
   "outputs": [],
   "source": [
    "model = Sequential([\n",
    "    Input(shape=(784,)),\n",
    "    Dense(50,activation=\"relu\",name=\"layer1\"),\n",
    "    Dense(25,activation=\"relu\",name=\"layer2\"),\n",
    "    Dense(10,activation=\"softmax\",name=\"layer3\"),\n",
    "])"
   ]
  },
  {
   "cell_type": "code",
   "execution_count": 10,
   "id": "cd1a553e",
   "metadata": {
    "execution": {
     "iopub.execute_input": "2023-07-27T17:53:27.946900Z",
     "iopub.status.busy": "2023-07-27T17:53:27.946327Z",
     "iopub.status.idle": "2023-07-27T17:53:27.968051Z",
     "shell.execute_reply": "2023-07-27T17:53:27.966856Z"
    },
    "papermill": {
     "duration": 0.034086,
     "end_time": "2023-07-27T17:53:27.970816",
     "exception": false,
     "start_time": "2023-07-27T17:53:27.936730",
     "status": "completed"
    },
    "tags": []
   },
   "outputs": [],
   "source": [
    "model.compile(optimizer=tf.keras.optimizers.Adam(0.01),loss=tf.keras.losses.SparseCategoricalCrossentropy(),metrics=['accuracy'])"
   ]
  },
  {
   "cell_type": "code",
   "execution_count": 11,
   "id": "0a012e5a",
   "metadata": {
    "execution": {
     "iopub.execute_input": "2023-07-27T17:53:27.989747Z",
     "iopub.status.busy": "2023-07-27T17:53:27.989142Z",
     "iopub.status.idle": "2023-07-27T17:54:54.976036Z",
     "shell.execute_reply": "2023-07-27T17:54:54.974676Z"
    },
    "papermill": {
     "duration": 86.999989,
     "end_time": "2023-07-27T17:54:54.979239",
     "exception": false,
     "start_time": "2023-07-27T17:53:27.979250",
     "status": "completed"
    },
    "tags": []
   },
   "outputs": [
    {
     "name": "stdout",
     "output_type": "stream",
     "text": [
      "Epoch 1/20\n",
      "1875/1875 [==============================] - 5s 2ms/step - loss: 0.2774 - accuracy: 0.9170\n",
      "Epoch 2/20\n",
      "1875/1875 [==============================] - 4s 2ms/step - loss: 0.1780 - accuracy: 0.9496\n",
      "Epoch 3/20\n",
      "1875/1875 [==============================] - 4s 2ms/step - loss: 0.1591 - accuracy: 0.9549\n",
      "Epoch 4/20\n",
      "1875/1875 [==============================] - 4s 2ms/step - loss: 0.1471 - accuracy: 0.9586\n",
      "Epoch 5/20\n",
      "1875/1875 [==============================] - 4s 2ms/step - loss: 0.1378 - accuracy: 0.9622\n",
      "Epoch 6/20\n",
      "1875/1875 [==============================] - 4s 2ms/step - loss: 0.1283 - accuracy: 0.9644\n",
      "Epoch 7/20\n",
      "1875/1875 [==============================] - 4s 2ms/step - loss: 0.1227 - accuracy: 0.9670\n",
      "Epoch 8/20\n",
      "1875/1875 [==============================] - 4s 2ms/step - loss: 0.1193 - accuracy: 0.9685\n",
      "Epoch 9/20\n",
      "1875/1875 [==============================] - 4s 2ms/step - loss: 0.1125 - accuracy: 0.9697\n",
      "Epoch 10/20\n",
      "1875/1875 [==============================] - 4s 2ms/step - loss: 0.1084 - accuracy: 0.9717\n",
      "Epoch 11/20\n",
      "1875/1875 [==============================] - 4s 2ms/step - loss: 0.1055 - accuracy: 0.9717\n",
      "Epoch 12/20\n",
      "1875/1875 [==============================] - 4s 2ms/step - loss: 0.1050 - accuracy: 0.9726\n",
      "Epoch 13/20\n",
      "1875/1875 [==============================] - 4s 2ms/step - loss: 0.0984 - accuracy: 0.9751\n",
      "Epoch 14/20\n",
      "1875/1875 [==============================] - 4s 2ms/step - loss: 0.0958 - accuracy: 0.9756\n",
      "Epoch 15/20\n",
      "1875/1875 [==============================] - 4s 2ms/step - loss: 0.0951 - accuracy: 0.9759\n",
      "Epoch 16/20\n",
      "1875/1875 [==============================] - 4s 2ms/step - loss: 0.0900 - accuracy: 0.9771\n",
      "Epoch 17/20\n",
      "1875/1875 [==============================] - 4s 2ms/step - loss: 0.0881 - accuracy: 0.9783\n",
      "Epoch 18/20\n",
      "1875/1875 [==============================] - 4s 2ms/step - loss: 0.0894 - accuracy: 0.9770\n",
      "Epoch 19/20\n",
      "1875/1875 [==============================] - 4s 2ms/step - loss: 0.0858 - accuracy: 0.9785\n",
      "Epoch 20/20\n",
      "1875/1875 [==============================] - 4s 2ms/step - loss: 0.0836 - accuracy: 0.9792\n"
     ]
    },
    {
     "data": {
      "text/plain": [
       "<keras.callbacks.History at 0x7e3eace43ac0>"
      ]
     },
     "execution_count": 11,
     "metadata": {},
     "output_type": "execute_result"
    }
   ],
   "source": [
    "model.fit(x_train,y_train,epochs=20)"
   ]
  },
  {
   "cell_type": "code",
   "execution_count": 12,
   "id": "bb0381de",
   "metadata": {
    "execution": {
     "iopub.execute_input": "2023-07-27T17:54:55.308737Z",
     "iopub.status.busy": "2023-07-27T17:54:55.308311Z",
     "iopub.status.idle": "2023-07-27T17:54:56.144327Z",
     "shell.execute_reply": "2023-07-27T17:54:56.142985Z"
    },
    "papermill": {
     "duration": 1.004267,
     "end_time": "2023-07-27T17:54:56.147099",
     "exception": false,
     "start_time": "2023-07-27T17:54:55.142832",
     "status": "completed"
    },
    "tags": []
   },
   "outputs": [
    {
     "name": "stdout",
     "output_type": "stream",
     "text": [
      "313/313 [==============================] - 1s 2ms/step - loss: 0.2567 - accuracy: 0.9583\n"
     ]
    }
   ],
   "source": [
    "loss,accuracy = model.evaluate(x_test, y_test, batch_size=32)"
   ]
  },
  {
   "cell_type": "code",
   "execution_count": 13,
   "id": "40434922",
   "metadata": {
    "execution": {
     "iopub.execute_input": "2023-07-27T17:54:56.480211Z",
     "iopub.status.busy": "2023-07-27T17:54:56.478710Z",
     "iopub.status.idle": "2023-07-27T17:54:56.486457Z",
     "shell.execute_reply": "2023-07-27T17:54:56.484700Z"
    },
    "papermill": {
     "duration": 0.176298,
     "end_time": "2023-07-27T17:54:56.489167",
     "exception": false,
     "start_time": "2023-07-27T17:54:56.312869",
     "status": "completed"
    },
    "tags": []
   },
   "outputs": [
    {
     "name": "stdout",
     "output_type": "stream",
     "text": [
      "Accuracy: 95.8299994468689%\n"
     ]
    }
   ],
   "source": [
    "print(f\"Accuracy: {accuracy*100}%\")"
   ]
  },
  {
   "cell_type": "code",
   "execution_count": null,
   "id": "567d8695",
   "metadata": {
    "papermill": {
     "duration": 0.164852,
     "end_time": "2023-07-27T17:54:56.820648",
     "exception": false,
     "start_time": "2023-07-27T17:54:56.655796",
     "status": "completed"
    },
    "tags": []
   },
   "outputs": [],
   "source": []
  }
 ],
 "metadata": {
  "kernelspec": {
   "display_name": "Python 3",
   "language": "python",
   "name": "python3"
  },
  "language_info": {
   "codemirror_mode": {
    "name": "ipython",
    "version": 3
   },
   "file_extension": ".py",
   "mimetype": "text/x-python",
   "name": "python",
   "nbconvert_exporter": "python",
   "pygments_lexer": "ipython3",
   "version": "3.10.12"
  },
  "papermill": {
   "default_parameters": {},
   "duration": 115.554575,
   "end_time": "2023-07-27T17:54:59.313675",
   "environment_variables": {},
   "exception": null,
   "input_path": "__notebook__.ipynb",
   "output_path": "__notebook__.ipynb",
   "parameters": {},
   "start_time": "2023-07-27T17:53:03.759100",
   "version": "2.4.0"
  }
 },
 "nbformat": 4,
 "nbformat_minor": 5
}
