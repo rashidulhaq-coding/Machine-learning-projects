{
 "cells": [
  {
   "cell_type": "code",
   "execution_count": 1,
   "id": "f83b23bb",
   "metadata": {
    "_cell_guid": "b1076dfc-b9ad-4769-8c92-a6c4dae69d19",
    "_uuid": "8f2839f25d086af736a60e9eeb907d3b93b6e0e5",
    "execution": {
     "iopub.execute_input": "2023-08-02T16:15:07.441824Z",
     "iopub.status.busy": "2023-08-02T16:15:07.441416Z",
     "iopub.status.idle": "2023-08-02T16:15:16.016452Z",
     "shell.execute_reply": "2023-08-02T16:15:16.015395Z"
    },
    "papermill": {
     "duration": 8.585982,
     "end_time": "2023-08-02T16:15:16.019312",
     "exception": false,
     "start_time": "2023-08-02T16:15:07.433330",
     "status": "completed"
    },
    "tags": []
   },
   "outputs": [],
   "source": [
    "# This Python 3 environment comes with many helpful analytics libraries installed\n",
    "# It is defined by the kaggle/python Docker image: https://github.com/kaggle/docker-python\n",
    "# For example, here's several helpful packages to load\n",
    "import warnings\n",
    "warnings.filterwarnings(\"ignore\")\n",
    "import numpy as np # linear algebra\n",
    "import pandas as pd # data processing, CSV file I/O (e.g. pd.read_csv)\n",
    "import tensorflow as tf\n",
    "from tensorflow.keras.layers import Dense, Input\n",
    "from tensorflow.keras.models import Sequential\n",
    "from tensorflow.keras.datasets import mnist\n",
    "import matplotlib.pyplot as plt\n",
    "\n",
    "\n",
    "# Input data files are available in the read-only \"../input/\" directory\n",
    "# For example, running this (by clicking run or pressing Shift+Enter) will list all files under the input directory\n",
    "\n",
    "import os\n",
    "for dirname, _, filenames in os.walk('/kaggle/input'):\n",
    "    for filename in filenames:\n",
    "        print(os.path.join(dirname, filename))\n",
    "\n",
    "# You can write up to 20GB to the current directory (/kaggle/working/) that gets preserved as output when you create a version using \"Save & Run All\" \n",
    "# You can also write temporary files to /kaggle/temp/, but they won't be saved outside of the current session"
   ]
  },
  {
   "cell_type": "code",
   "execution_count": 2,
   "id": "950974c1",
   "metadata": {
    "execution": {
     "iopub.execute_input": "2023-08-02T16:15:16.033620Z",
     "iopub.status.busy": "2023-08-02T16:15:16.032762Z",
     "iopub.status.idle": "2023-08-02T16:15:16.514844Z",
     "shell.execute_reply": "2023-08-02T16:15:16.513640Z"
    },
    "papermill": {
     "duration": 0.491976,
     "end_time": "2023-08-02T16:15:16.517572",
     "exception": false,
     "start_time": "2023-08-02T16:15:16.025596",
     "status": "completed"
    },
    "tags": []
   },
   "outputs": [
    {
     "name": "stdout",
     "output_type": "stream",
     "text": [
      "Downloading data from https://storage.googleapis.com/tensorflow/tf-keras-datasets/mnist.npz\n",
      "11490434/11490434 [==============================] - 0s 0us/step\n"
     ]
    }
   ],
   "source": [
    "(x_train, y_train), (x_test, y_test) = mnist.load_data()"
   ]
  },
  {
   "cell_type": "code",
   "execution_count": 3,
   "id": "acb658ac",
   "metadata": {
    "execution": {
     "iopub.execute_input": "2023-08-02T16:15:16.531780Z",
     "iopub.status.busy": "2023-08-02T16:15:16.531408Z",
     "iopub.status.idle": "2023-08-02T16:15:16.539160Z",
     "shell.execute_reply": "2023-08-02T16:15:16.538125Z"
    },
    "papermill": {
     "duration": 0.017388,
     "end_time": "2023-08-02T16:15:16.541534",
     "exception": false,
     "start_time": "2023-08-02T16:15:16.524146",
     "status": "completed"
    },
    "tags": []
   },
   "outputs": [
    {
     "data": {
      "text/plain": [
       "(60000, 28, 28)"
      ]
     },
     "execution_count": 3,
     "metadata": {},
     "output_type": "execute_result"
    }
   ],
   "source": [
    "x_train.shape"
   ]
  },
  {
   "cell_type": "code",
   "execution_count": 4,
   "id": "52be9d79",
   "metadata": {
    "execution": {
     "iopub.execute_input": "2023-08-02T16:15:16.555386Z",
     "iopub.status.busy": "2023-08-02T16:15:16.555046Z",
     "iopub.status.idle": "2023-08-02T16:15:16.561470Z",
     "shell.execute_reply": "2023-08-02T16:15:16.560407Z"
    },
    "papermill": {
     "duration": 0.016105,
     "end_time": "2023-08-02T16:15:16.563921",
     "exception": false,
     "start_time": "2023-08-02T16:15:16.547816",
     "status": "completed"
    },
    "tags": []
   },
   "outputs": [
    {
     "data": {
      "text/plain": [
       "(10000, 28, 28)"
      ]
     },
     "execution_count": 4,
     "metadata": {},
     "output_type": "execute_result"
    }
   ],
   "source": [
    "x_test.shape"
   ]
  },
  {
   "cell_type": "code",
   "execution_count": 5,
   "id": "9fef3df7",
   "metadata": {
    "execution": {
     "iopub.execute_input": "2023-08-02T16:15:16.579014Z",
     "iopub.status.busy": "2023-08-02T16:15:16.578616Z",
     "iopub.status.idle": "2023-08-02T16:15:16.885448Z",
     "shell.execute_reply": "2023-08-02T16:15:16.884336Z"
    },
    "papermill": {
     "duration": 0.316944,
     "end_time": "2023-08-02T16:15:16.887790",
     "exception": false,
     "start_time": "2023-08-02T16:15:16.570846",
     "status": "completed"
    },
    "tags": []
   },
   "outputs": [
    {
     "data": {
      "text/plain": [
       "<matplotlib.image.AxesImage at 0x7d581d396470>"
      ]
     },
     "execution_count": 5,
     "metadata": {},
     "output_type": "execute_result"
    },
    {
     "data": {
      "image/png": "[encoded data removed]",
      "text/plain": [
       "<Figure size 640x480 with 1 Axes>"
      ]
     },
     "metadata": {},
     "output_type": "display_data"
    }
   ],
   "source": [
    "x_train[0]\n",
    "plt.imshow(x_train[5])"
   ]
  },
  {
   "cell_type": "markdown",
   "id": "d99a8ae9",
   "metadata": {
    "papermill": {
     "duration": 0.006652,
     "end_time": "2023-08-02T16:15:16.901486",
     "exception": false,
     "start_time": "2023-08-02T16:15:16.894834",
     "status": "completed"
    },
    "tags": []
   },
   "source": [
    "### Data preprocessing"
   ]
  },
  {
   "cell_type": "code",
   "execution_count": 6,
   "id": "a6ad99d1",
   "metadata": {
    "execution": {
     "iopub.execute_input": "2023-08-02T16:15:16.916502Z",
     "iopub.status.busy": "2023-08-02T16:15:16.916112Z",
     "iopub.status.idle": "2023-08-02T16:15:16.923580Z",
     "shell.execute_reply": "2023-08-02T16:15:16.922503Z"
    },
    "papermill": {
     "duration": 0.017673,
     "end_time": "2023-08-02T16:15:16.925723",
     "exception": false,
     "start_time": "2023-08-02T16:15:16.908050",
     "status": "completed"
    },
    "tags": []
   },
   "outputs": [
    {
     "data": {
      "text/plain": [
       "784"
      ]
     },
     "execution_count": 6,
     "metadata": {},
     "output_type": "execute_result"
    }
   ],
   "source": [
    "size = x_train.shape[1]\n",
    "input_size = size*size\n",
    "input_size"
   ]
  },
  {
   "cell_type": "code",
   "execution_count": 7,
   "id": "617bf475",
   "metadata": {
    "execution": {
     "iopub.execute_input": "2023-08-02T16:15:16.941363Z",
     "iopub.status.busy": "2023-08-02T16:15:16.941008Z",
     "iopub.status.idle": "2023-08-02T16:15:17.053289Z",
     "shell.execute_reply": "2023-08-02T16:15:17.052078Z"
    },
    "papermill": {
     "duration": 0.123154,
     "end_time": "2023-08-02T16:15:17.055952",
     "exception": false,
     "start_time": "2023-08-02T16:15:16.932798",
     "status": "completed"
    },
    "tags": []
   },
   "outputs": [],
   "source": [
    "x_train = x_train.reshape(-1,input_size)\n",
    "x_train = x_train.astype(\"float32\")/255\n",
    "x_test =x_test.reshape(-1,input_size)\n",
    "x_test = x_test.astype(\"float32\")/255"
   ]
  },
  {
   "cell_type": "code",
   "execution_count": 8,
   "id": "e35e6265",
   "metadata": {
    "execution": {
     "iopub.execute_input": "2023-08-02T16:15:17.073305Z",
     "iopub.status.busy": "2023-08-02T16:15:17.072889Z",
     "iopub.status.idle": "2023-08-02T16:15:17.079312Z",
     "shell.execute_reply": "2023-08-02T16:15:17.078446Z"
    },
    "papermill": {
     "duration": 0.018191,
     "end_time": "2023-08-02T16:15:17.081484",
     "exception": false,
     "start_time": "2023-08-02T16:15:17.063293",
     "status": "completed"
    },
    "tags": []
   },
   "outputs": [
    {
     "data": {
      "text/plain": [
       "(60000, 784)"
      ]
     },
     "execution_count": 8,
     "metadata": {},
     "output_type": "execute_result"
    }
   ],
   "source": [
    "x_train.shape"
   ]
  },
  {
   "cell_type": "markdown",
   "id": "bafea19e",
   "metadata": {
    "papermill": {
     "duration": 0.006847,
     "end_time": "2023-08-02T16:15:17.095795",
     "exception": false,
     "start_time": "2023-08-02T16:15:17.088948",
     "status": "completed"
    },
    "tags": []
   },
   "source": [
    "### **Model Building**"
   ]
  },
  {
   "cell_type": "code",
   "execution_count": 9,
   "id": "4383327a",
   "metadata": {
    "execution": {
     "iopub.execute_input": "2023-08-02T16:15:17.111969Z",
     "iopub.status.busy": "2023-08-02T16:15:17.111595Z",
     "iopub.status.idle": "2023-08-02T16:15:17.297240Z",
     "shell.execute_reply": "2023-08-02T16:15:17.296070Z"
    },
    "papermill": {
     "duration": 0.196968,
     "end_time": "2023-08-02T16:15:17.300039",
     "exception": false,
     "start_time": "2023-08-02T16:15:17.103071",
     "status": "completed"
    },
    "tags": []
   },
   "outputs": [],
   "source": [
    "model = Sequential([\n",
    "    Input(shape=(784,)),\n",
    "    Dense(100,activation=\"relu\",name=\"layer1\"),\n",
    "    Dense(50,activation=\"relu\",name=\"layer2\"),\n",
    "    Dense(25,activation=\"relu\",name=\"layer3\"),\n",
    "    Dense(10,activation=\"softmax\",name=\"layer4\"),\n",
    "])"
   ]
  },
  {
   "cell_type": "code",
   "execution_count": 10,
   "id": "afba2362",
   "metadata": {
    "execution": {
     "iopub.execute_input": "2023-08-02T16:15:17.316508Z",
     "iopub.status.busy": "2023-08-02T16:15:17.316121Z",
     "iopub.status.idle": "2023-08-02T16:15:17.335296Z",
     "shell.execute_reply": "2023-08-02T16:15:17.334232Z"
    },
    "papermill": {
     "duration": 0.030241,
     "end_time": "2023-08-02T16:15:17.337765",
     "exception": false,
     "start_time": "2023-08-02T16:15:17.307524",
     "status": "completed"
    },
    "tags": []
   },
   "outputs": [],
   "source": [
    "model.compile(optimizer=tf.keras.optimizers.Adam(0.01),loss=tf.keras.losses.SparseCategoricalCrossentropy(),metrics=['accuracy'])"
   ]
  },
  {
   "cell_type": "code",
   "execution_count": 11,
   "id": "095bc3d0",
   "metadata": {
    "execution": {
     "iopub.execute_input": "2023-08-02T16:15:17.354448Z",
     "iopub.status.busy": "2023-08-02T16:15:17.353926Z",
     "iopub.status.idle": "2023-08-02T16:17:40.717026Z",
     "shell.execute_reply": "2023-08-02T16:17:40.715938Z"
    },
    "papermill": {
     "duration": 143.374624,
     "end_time": "2023-08-02T16:17:40.719802",
     "exception": false,
     "start_time": "2023-08-02T16:15:17.345178",
     "status": "completed"
    },
    "tags": []
   },
   "outputs": [
    {
     "name": "stdout",
     "output_type": "stream",
     "text": [
      "Epoch 1/20\n",
      "1313/1313 [==============================] - 6s 4ms/step - loss: 0.3238 - accuracy: 0.9029 - val_loss: 0.2370 - val_accuracy: 0.9341\n",
      "Epoch 2/20\n",
      "1313/1313 [==============================] - 4s 3ms/step - loss: 0.1955 - accuracy: 0.9468 - val_loss: 0.1905 - val_accuracy: 0.9494\n",
      "Epoch 3/20\n",
      "1313/1313 [==============================] - 4s 3ms/step - loss: 0.1708 - accuracy: 0.9524 - val_loss: 0.1774 - val_accuracy: 0.9534\n",
      "Epoch 4/20\n",
      "1313/1313 [==============================] - 4s 3ms/step - loss: 0.1584 - accuracy: 0.9594 - val_loss: 0.1588 - val_accuracy: 0.9598\n",
      "Epoch 5/20\n",
      "1313/1313 [==============================] - 5s 3ms/step - loss: 0.1442 - accuracy: 0.9625 - val_loss: 0.1707 - val_accuracy: 0.9581\n",
      "Epoch 6/20\n",
      "1313/1313 [==============================] - 4s 3ms/step - loss: 0.1314 - accuracy: 0.9666 - val_loss: 0.1653 - val_accuracy: 0.9590\n",
      "Epoch 7/20\n",
      "1313/1313 [==============================] - 5s 4ms/step - loss: 0.1198 - accuracy: 0.9704 - val_loss: 0.2278 - val_accuracy: 0.9533\n",
      "Epoch 8/20\n",
      "1313/1313 [==============================] - 4s 3ms/step - loss: 0.1171 - accuracy: 0.9699 - val_loss: 0.1949 - val_accuracy: 0.9567\n",
      "Epoch 9/20\n",
      "1313/1313 [==============================] - 5s 4ms/step - loss: 0.1176 - accuracy: 0.9715 - val_loss: 0.1991 - val_accuracy: 0.9566\n",
      "Epoch 10/20\n",
      "1313/1313 [==============================] - 4s 3ms/step - loss: 0.1166 - accuracy: 0.9723 - val_loss: 0.2355 - val_accuracy: 0.9494\n",
      "Epoch 11/20\n",
      "1313/1313 [==============================] - 4s 3ms/step - loss: 0.1091 - accuracy: 0.9738 - val_loss: 0.1769 - val_accuracy: 0.9584\n",
      "Epoch 12/20\n",
      "1313/1313 [==============================] - 4s 3ms/step - loss: 0.1027 - accuracy: 0.9749 - val_loss: 0.2194 - val_accuracy: 0.9566\n",
      "Epoch 13/20\n",
      "1313/1313 [==============================] - 4s 3ms/step - loss: 0.0919 - accuracy: 0.9771 - val_loss: 0.1880 - val_accuracy: 0.9621\n",
      "Epoch 14/20\n",
      "1313/1313 [==============================] - 4s 3ms/step - loss: 0.1069 - accuracy: 0.9758 - val_loss: 0.2162 - val_accuracy: 0.9629\n",
      "Epoch 15/20\n",
      "1313/1313 [==============================] - 4s 3ms/step - loss: 0.1011 - accuracy: 0.9774 - val_loss: 0.2096 - val_accuracy: 0.9624\n",
      "Epoch 16/20\n",
      "1313/1313 [==============================] - 5s 3ms/step - loss: 0.0924 - accuracy: 0.9788 - val_loss: 0.1932 - val_accuracy: 0.9642\n",
      "Epoch 17/20\n",
      "1313/1313 [==============================] - 4s 3ms/step - loss: 0.0939 - accuracy: 0.9787 - val_loss: 0.2135 - val_accuracy: 0.9609\n",
      "Epoch 18/20\n",
      "1313/1313 [==============================] - 4s 3ms/step - loss: 0.0882 - accuracy: 0.9803 - val_loss: 0.2129 - val_accuracy: 0.9627\n",
      "Epoch 19/20\n",
      "1313/1313 [==============================] - 4s 3ms/step - loss: 0.0804 - accuracy: 0.9811 - val_loss: 0.2198 - val_accuracy: 0.9596\n",
      "Epoch 20/20\n",
      "1313/1313 [==============================] - 4s 3ms/step - loss: 0.0775 - accuracy: 0.9817 - val_loss: 0.2381 - val_accuracy: 0.9623\n"
     ]
    }
   ],
   "source": [
    "history = model.fit(x_train,y_train,validation_split=0.3,\n",
    "    validation_data=None,\n",
    "    shuffle=True,epochs=20)"
   ]
  },
  {
   "cell_type": "markdown",
   "id": "1baaa461",
   "metadata": {
    "papermill": {
     "duration": 0.122235,
     "end_time": "2023-08-02T16:17:40.967255",
     "exception": false,
     "start_time": "2023-08-02T16:17:40.845020",
     "status": "completed"
    },
    "tags": []
   },
   "source": [
    "### **Evaluating the Model**"
   ]
  },
  {
   "cell_type": "code",
   "execution_count": 12,
   "id": "39678d21",
   "metadata": {
    "execution": {
     "iopub.execute_input": "2023-08-02T16:17:41.220236Z",
     "iopub.status.busy": "2023-08-02T16:17:41.219820Z",
     "iopub.status.idle": "2023-08-02T16:17:41.828264Z",
     "shell.execute_reply": "2023-08-02T16:17:41.827000Z"
    },
    "papermill": {
     "duration": 0.738594,
     "end_time": "2023-08-02T16:17:41.830835",
     "exception": false,
     "start_time": "2023-08-02T16:17:41.092241",
     "status": "completed"
    },
    "tags": []
   },
   "outputs": [
    {
     "name": "stdout",
     "output_type": "stream",
     "text": [
      "313/313 [==============================] - 1s 2ms/step - loss: 0.2036 - accuracy: 0.9676\n"
     ]
    }
   ],
   "source": [
    "loss,accuracy = model.evaluate(x_test, y_test, batch_size=32)"
   ]
  },
  {
   "cell_type": "code",
   "execution_count": 13,
   "id": "f8da25ab",
   "metadata": {
    "execution": {
     "iopub.execute_input": "2023-08-02T16:17:42.086677Z",
     "iopub.status.busy": "2023-08-02T16:17:42.086018Z",
     "iopub.status.idle": "2023-08-02T16:17:42.091519Z",
     "shell.execute_reply": "2023-08-02T16:17:42.090581Z"
    },
    "papermill": {
     "duration": 0.136566,
     "end_time": "2023-08-02T16:17:42.093981",
     "exception": false,
     "start_time": "2023-08-02T16:17:41.957415",
     "status": "completed"
    },
    "tags": []
   },
   "outputs": [
    {
     "name": "stdout",
     "output_type": "stream",
     "text": [
      "Accuracy: 96.75999879837036%\n"
     ]
    }
   ],
   "source": [
    "print(f\"Accuracy: {accuracy*100}%\")"
   ]
  },
  {
   "cell_type": "code",
   "execution_count": 14,
   "id": "a96b3f05",
   "metadata": {
    "execution": {
     "iopub.execute_input": "2023-08-02T16:17:42.351435Z",
     "iopub.status.busy": "2023-08-02T16:17:42.351036Z",
     "iopub.status.idle": "2023-08-02T16:17:42.388053Z",
     "shell.execute_reply": "2023-08-02T16:17:42.386831Z"
    },
    "papermill": {
     "duration": 0.169552,
     "end_time": "2023-08-02T16:17:42.390501",
     "exception": false,
     "start_time": "2023-08-02T16:17:42.220949",
     "status": "completed"
    },
    "tags": []
   },
   "outputs": [
    {
     "data": {
      "text/html": [
       "<div>\n",
       "<style scoped>\n",
       "    .dataframe tbody tr th:only-of-type {\n",
       "        vertical-align: middle;\n",
       "    }\n",
       "\n",
       "    .dataframe tbody tr th {\n",
       "        vertical-align: top;\n",
       "    }\n",
       "\n",
       "    .dataframe thead th {\n",
       "        text-align: right;\n",
       "    }\n",
       "</style>\n",
       "<table border=\"1\" class=\"dataframe\">\n",
       "  <thead>\n",
       "    <tr style=\"text-align: right;\">\n",
       "      <th></th>\n",
       "      <th>loss</th>\n",
       "      <th>accuracy</th>\n",
       "      <th>val_loss</th>\n",
       "      <th>val_accuracy</th>\n",
       "    </tr>\n",
       "  </thead>\n",
       "  <tbody>\n",
       "    <tr>\n",
       "      <th>0</th>\n",
       "      <td>0.323761</td>\n",
       "      <td>0.902929</td>\n",
       "      <td>0.237001</td>\n",
       "      <td>0.934111</td>\n",
       "    </tr>\n",
       "    <tr>\n",
       "      <th>1</th>\n",
       "      <td>0.195473</td>\n",
       "      <td>0.946762</td>\n",
       "      <td>0.190475</td>\n",
       "      <td>0.949389</td>\n",
       "    </tr>\n",
       "    <tr>\n",
       "      <th>2</th>\n",
       "      <td>0.170846</td>\n",
       "      <td>0.952429</td>\n",
       "      <td>0.177422</td>\n",
       "      <td>0.953389</td>\n",
       "    </tr>\n",
       "    <tr>\n",
       "      <th>3</th>\n",
       "      <td>0.158378</td>\n",
       "      <td>0.959381</td>\n",
       "      <td>0.158783</td>\n",
       "      <td>0.959833</td>\n",
       "    </tr>\n",
       "    <tr>\n",
       "      <th>4</th>\n",
       "      <td>0.144169</td>\n",
       "      <td>0.962524</td>\n",
       "      <td>0.170743</td>\n",
       "      <td>0.958111</td>\n",
       "    </tr>\n",
       "    <tr>\n",
       "      <th>5</th>\n",
       "      <td>0.131369</td>\n",
       "      <td>0.966619</td>\n",
       "      <td>0.165261</td>\n",
       "      <td>0.959000</td>\n",
       "    </tr>\n",
       "    <tr>\n",
       "      <th>6</th>\n",
       "      <td>0.119785</td>\n",
       "      <td>0.970405</td>\n",
       "      <td>0.227837</td>\n",
       "      <td>0.953278</td>\n",
       "    </tr>\n",
       "    <tr>\n",
       "      <th>7</th>\n",
       "      <td>0.117145</td>\n",
       "      <td>0.969905</td>\n",
       "      <td>0.194884</td>\n",
       "      <td>0.956667</td>\n",
       "    </tr>\n",
       "    <tr>\n",
       "      <th>8</th>\n",
       "      <td>0.117632</td>\n",
       "      <td>0.971452</td>\n",
       "      <td>0.199142</td>\n",
       "      <td>0.956611</td>\n",
       "    </tr>\n",
       "    <tr>\n",
       "      <th>9</th>\n",
       "      <td>0.116635</td>\n",
       "      <td>0.972310</td>\n",
       "      <td>0.235546</td>\n",
       "      <td>0.949444</td>\n",
       "    </tr>\n",
       "    <tr>\n",
       "      <th>10</th>\n",
       "      <td>0.109114</td>\n",
       "      <td>0.973833</td>\n",
       "      <td>0.176925</td>\n",
       "      <td>0.958389</td>\n",
       "    </tr>\n",
       "    <tr>\n",
       "      <th>11</th>\n",
       "      <td>0.102729</td>\n",
       "      <td>0.974857</td>\n",
       "      <td>0.219392</td>\n",
       "      <td>0.956556</td>\n",
       "    </tr>\n",
       "    <tr>\n",
       "      <th>12</th>\n",
       "      <td>0.091871</td>\n",
       "      <td>0.977143</td>\n",
       "      <td>0.187991</td>\n",
       "      <td>0.962111</td>\n",
       "    </tr>\n",
       "    <tr>\n",
       "      <th>13</th>\n",
       "      <td>0.106872</td>\n",
       "      <td>0.975833</td>\n",
       "      <td>0.216179</td>\n",
       "      <td>0.962889</td>\n",
       "    </tr>\n",
       "    <tr>\n",
       "      <th>14</th>\n",
       "      <td>0.101071</td>\n",
       "      <td>0.977405</td>\n",
       "      <td>0.209636</td>\n",
       "      <td>0.962389</td>\n",
       "    </tr>\n",
       "    <tr>\n",
       "      <th>15</th>\n",
       "      <td>0.092362</td>\n",
       "      <td>0.978762</td>\n",
       "      <td>0.193167</td>\n",
       "      <td>0.964222</td>\n",
       "    </tr>\n",
       "    <tr>\n",
       "      <th>16</th>\n",
       "      <td>0.093881</td>\n",
       "      <td>0.978691</td>\n",
       "      <td>0.213538</td>\n",
       "      <td>0.960889</td>\n",
       "    </tr>\n",
       "    <tr>\n",
       "      <th>17</th>\n",
       "      <td>0.088184</td>\n",
       "      <td>0.980310</td>\n",
       "      <td>0.212878</td>\n",
       "      <td>0.962722</td>\n",
       "    </tr>\n",
       "    <tr>\n",
       "      <th>18</th>\n",
       "      <td>0.080374</td>\n",
       "      <td>0.981071</td>\n",
       "      <td>0.219751</td>\n",
       "      <td>0.959556</td>\n",
       "    </tr>\n",
       "    <tr>\n",
       "      <th>19</th>\n",
       "      <td>0.077461</td>\n",
       "      <td>0.981690</td>\n",
       "      <td>0.238144</td>\n",
       "      <td>0.962278</td>\n",
       "    </tr>\n",
       "  </tbody>\n",
       "</table>\n",
       "</div>"
      ],
      "text/plain": [
       "        loss  accuracy  val_loss  val_accuracy\n",
       "0   0.323761  0.902929  0.237001      0.934111\n",
       "1   0.195473  0.946762  0.190475      0.949389\n",
       "2   0.170846  0.952429  0.177422      0.953389\n",
       "3   0.158378  0.959381  0.158783      0.959833\n",
       "4   0.144169  0.962524  0.170743      0.958111\n",
       "5   0.131369  0.966619  0.165261      0.959000\n",
       "6   0.119785  0.970405  0.227837      0.953278\n",
       "7   0.117145  0.969905  0.194884      0.956667\n",
       "8   0.117632  0.971452  0.199142      0.956611\n",
       "9   0.116635  0.972310  0.235546      0.949444\n",
       "10  0.109114  0.973833  0.176925      0.958389\n",
       "11  0.102729  0.974857  0.219392      0.956556\n",
       "12  0.091871  0.977143  0.187991      0.962111\n",
       "13  0.106872  0.975833  0.216179      0.962889\n",
       "14  0.101071  0.977405  0.209636      0.962389\n",
       "15  0.092362  0.978762  0.193167      0.964222\n",
       "16  0.093881  0.978691  0.213538      0.960889\n",
       "17  0.088184  0.980310  0.212878      0.962722\n",
       "18  0.080374  0.981071  0.219751      0.959556\n",
       "19  0.077461  0.981690  0.238144      0.962278"
      ]
     },
     "execution_count": 14,
     "metadata": {},
     "output_type": "execute_result"
    }
   ],
   "source": [
    "pd.DataFrame(history.history)"
   ]
  },
  {
   "cell_type": "code",
   "execution_count": null,
   "id": "e5374561",
   "metadata": {
    "papermill": {
     "duration": 0.131414,
     "end_time": "2023-08-02T16:17:42.651084",
     "exception": false,
     "start_time": "2023-08-02T16:17:42.519670",
     "status": "completed"
    },
    "tags": []
   },
   "outputs": [],
   "source": []
  }
 ],
 "metadata": {
  "kernelspec": {
   "display_name": "Python 3",
   "language": "python",
   "name": "python3"
  },
  "language_info": {
   "codemirror_mode": {
    "name": "ipython",
    "version": 3
   },
   "file_extension": ".py",
   "mimetype": "text/x-python",
   "name": "python",
   "nbconvert_exporter": "python",
   "pygments_lexer": "ipython3",
   "version": "3.10.12"
  },
  "papermill": {
   "default_parameters": {},
   "duration": 167.589419,
   "end_time": "2023-08-02T16:17:44.607728",
   "environment_variables": {},
   "exception": null,
   "input_path": "__notebook__.ipynb",
   "output_path": "__notebook__.ipynb",
   "parameters": {},
   "start_time": "2023-08-02T16:14:57.018309",
   "version": "2.4.0"
  }
 },
 "nbformat": 4,
 "nbformat_minor": 5
}
