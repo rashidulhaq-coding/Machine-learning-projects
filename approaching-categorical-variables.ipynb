{
 "cells": [
  {
   "cell_type": "code",
   "execution_count": 1,
   "id": "df636c42",
   "metadata": {
    "_cell_guid": "b1076dfc-b9ad-4769-8c92-a6c4dae69d19",
    "_uuid": "8f2839f25d086af736a60e9eeb907d3b93b6e0e5",
    "execution": {
     "iopub.execute_input": "2024-10-28T15:20:44.142030Z",
     "iopub.status.busy": "2024-10-28T15:20:44.140737Z",
     "iopub.status.idle": "2024-10-28T15:20:45.443944Z",
     "shell.execute_reply": "2024-10-28T15:20:45.442339Z"
    },
    "papermill": {
     "duration": 1.317048,
     "end_time": "2024-10-28T15:20:45.446830",
     "exception": false,
     "start_time": "2024-10-28T15:20:44.129782",
     "status": "completed"
    },
    "tags": []
   },
   "outputs": [
    {
     "name": "stdout",
     "output_type": "stream",
     "text": [
      "/kaggle/input/adult-census-income/adult.csv\n"
     ]
    }
   ],
   "source": [
    "import numpy as np\n",
    "import pandas as pd\n",
    "\n",
    "import os\n",
    "for dirname, _, filenames in os.walk('/kaggle/input'):\n",
    "    for filename in filenames:\n",
    "        print(os.path.join(dirname, filename))"
   ]
  },
  {
   "cell_type": "code",
   "execution_count": 2,
   "id": "3bd3ecd0",
   "metadata": {
    "execution": {
     "iopub.execute_input": "2024-10-28T15:20:45.464727Z",
     "iopub.status.busy": "2024-10-28T15:20:45.464106Z",
     "iopub.status.idle": "2024-10-28T15:20:45.659998Z",
     "shell.execute_reply": "2024-10-28T15:20:45.658468Z"
    },
    "papermill": {
     "duration": 0.209265,
     "end_time": "2024-10-28T15:20:45.664410",
     "exception": false,
     "start_time": "2024-10-28T15:20:45.455145",
     "status": "completed"
    },
    "tags": []
   },
   "outputs": [],
   "source": [
    "df = pd.read_csv('/kaggle/input/adult-census-income/adult.csv')"
   ]
  },
  {
   "cell_type": "code",
   "execution_count": 3,
   "id": "5d906538",
   "metadata": {
    "execution": {
     "iopub.execute_input": "2024-10-28T15:20:45.682917Z",
     "iopub.status.busy": "2024-10-28T15:20:45.682444Z",
     "iopub.status.idle": "2024-10-28T15:20:45.721562Z",
     "shell.execute_reply": "2024-10-28T15:20:45.719028Z"
    },
    "papermill": {
     "duration": 0.055584,
     "end_time": "2024-10-28T15:20:45.727662",
     "exception": false,
     "start_time": "2024-10-28T15:20:45.672078",
     "status": "completed"
    },
    "tags": []
   },
   "outputs": [
    {
     "data": {
      "text/html": [
       "<div>\n",
       "<style scoped>\n",
       "    .dataframe tbody tr th:only-of-type {\n",
       "        vertical-align: middle;\n",
       "    }\n",
       "\n",
       "    .dataframe tbody tr th {\n",
       "        vertical-align: top;\n",
       "    }\n",
       "\n",
       "    .dataframe thead th {\n",
       "        text-align: right;\n",
       "    }\n",
       "</style>\n",
       "<table border=\"1\" class=\"dataframe\">\n",
       "  <thead>\n",
       "    <tr style=\"text-align: right;\">\n",
       "      <th></th>\n",
       "      <th>age</th>\n",
       "      <th>workclass</th>\n",
       "      <th>fnlwgt</th>\n",
       "      <th>education</th>\n",
       "      <th>education.num</th>\n",
       "      <th>marital.status</th>\n",
       "      <th>occupation</th>\n",
       "      <th>relationship</th>\n",
       "      <th>race</th>\n",
       "      <th>sex</th>\n",
       "      <th>capital.gain</th>\n",
       "      <th>capital.loss</th>\n",
       "      <th>hours.per.week</th>\n",
       "      <th>native.country</th>\n",
       "      <th>income</th>\n",
       "    </tr>\n",
       "  </thead>\n",
       "  <tbody>\n",
       "    <tr>\n",
       "      <th>0</th>\n",
       "      <td>90</td>\n",
       "      <td>?</td>\n",
       "      <td>77053</td>\n",
       "      <td>HS-grad</td>\n",
       "      <td>9</td>\n",
       "      <td>Widowed</td>\n",
       "      <td>?</td>\n",
       "      <td>Not-in-family</td>\n",
       "      <td>White</td>\n",
       "      <td>Female</td>\n",
       "      <td>0</td>\n",
       "      <td>4356</td>\n",
       "      <td>40</td>\n",
       "      <td>United-States</td>\n",
       "      <td>&lt;=50K</td>\n",
       "    </tr>\n",
       "    <tr>\n",
       "      <th>1</th>\n",
       "      <td>82</td>\n",
       "      <td>Private</td>\n",
       "      <td>132870</td>\n",
       "      <td>HS-grad</td>\n",
       "      <td>9</td>\n",
       "      <td>Widowed</td>\n",
       "      <td>Exec-managerial</td>\n",
       "      <td>Not-in-family</td>\n",
       "      <td>White</td>\n",
       "      <td>Female</td>\n",
       "      <td>0</td>\n",
       "      <td>4356</td>\n",
       "      <td>18</td>\n",
       "      <td>United-States</td>\n",
       "      <td>&lt;=50K</td>\n",
       "    </tr>\n",
       "    <tr>\n",
       "      <th>2</th>\n",
       "      <td>66</td>\n",
       "      <td>?</td>\n",
       "      <td>186061</td>\n",
       "      <td>Some-college</td>\n",
       "      <td>10</td>\n",
       "      <td>Widowed</td>\n",
       "      <td>?</td>\n",
       "      <td>Unmarried</td>\n",
       "      <td>Black</td>\n",
       "      <td>Female</td>\n",
       "      <td>0</td>\n",
       "      <td>4356</td>\n",
       "      <td>40</td>\n",
       "      <td>United-States</td>\n",
       "      <td>&lt;=50K</td>\n",
       "    </tr>\n",
       "    <tr>\n",
       "      <th>3</th>\n",
       "      <td>54</td>\n",
       "      <td>Private</td>\n",
       "      <td>140359</td>\n",
       "      <td>7th-8th</td>\n",
       "      <td>4</td>\n",
       "      <td>Divorced</td>\n",
       "      <td>Machine-op-inspct</td>\n",
       "      <td>Unmarried</td>\n",
       "      <td>White</td>\n",
       "      <td>Female</td>\n",
       "      <td>0</td>\n",
       "      <td>3900</td>\n",
       "      <td>40</td>\n",
       "      <td>United-States</td>\n",
       "      <td>&lt;=50K</td>\n",
       "    </tr>\n",
       "    <tr>\n",
       "      <th>4</th>\n",
       "      <td>41</td>\n",
       "      <td>Private</td>\n",
       "      <td>264663</td>\n",
       "      <td>Some-college</td>\n",
       "      <td>10</td>\n",
       "      <td>Separated</td>\n",
       "      <td>Prof-specialty</td>\n",
       "      <td>Own-child</td>\n",
       "      <td>White</td>\n",
       "      <td>Female</td>\n",
       "      <td>0</td>\n",
       "      <td>3900</td>\n",
       "      <td>40</td>\n",
       "      <td>United-States</td>\n",
       "      <td>&lt;=50K</td>\n",
       "    </tr>\n",
       "  </tbody>\n",
       "</table>\n",
       "</div>"
      ],
      "text/plain": [
       "   age workclass  fnlwgt     education  education.num marital.status  \\\n",
       "0   90         ?   77053       HS-grad              9        Widowed   \n",
       "1   82   Private  132870       HS-grad              9        Widowed   \n",
       "2   66         ?  186061  Some-college             10        Widowed   \n",
       "3   54   Private  140359       7th-8th              4       Divorced   \n",
       "4   41   Private  264663  Some-college             10      Separated   \n",
       "\n",
       "          occupation   relationship   race     sex  capital.gain  \\\n",
       "0                  ?  Not-in-family  White  Female             0   \n",
       "1    Exec-managerial  Not-in-family  White  Female             0   \n",
       "2                  ?      Unmarried  Black  Female             0   \n",
       "3  Machine-op-inspct      Unmarried  White  Female             0   \n",
       "4     Prof-specialty      Own-child  White  Female             0   \n",
       "\n",
       "   capital.loss  hours.per.week native.country income  \n",
       "0          4356              40  United-States  <=50K  \n",
       "1          4356              18  United-States  <=50K  \n",
       "2          4356              40  United-States  <=50K  \n",
       "3          3900              40  United-States  <=50K  \n",
       "4          3900              40  United-States  <=50K  "
      ]
     },
     "execution_count": 3,
     "metadata": {},
     "output_type": "execute_result"
    }
   ],
   "source": [
    "df.head()"
   ]
  },
  {
   "cell_type": "code",
   "execution_count": 4,
   "id": "ede26d46",
   "metadata": {
    "execution": {
     "iopub.execute_input": "2024-10-28T15:20:45.748128Z",
     "iopub.status.busy": "2024-10-28T15:20:45.747483Z",
     "iopub.status.idle": "2024-10-28T15:20:48.400193Z",
     "shell.execute_reply": "2024-10-28T15:20:48.398911Z"
    },
    "papermill": {
     "duration": 2.666414,
     "end_time": "2024-10-28T15:20:48.403326",
     "exception": false,
     "start_time": "2024-10-28T15:20:45.736912",
     "status": "completed"
    },
    "tags": []
   },
   "outputs": [],
   "source": [
    "from sklearn import linear_model\n",
    "from sklearn import metrics\n",
    "from sklearn import preprocessing\n",
    "from sklearn import model_selection"
   ]
  },
  {
   "cell_type": "code",
   "execution_count": null,
   "id": "b2d5775d",
   "metadata": {
    "papermill": {
     "duration": 0.007782,
     "end_time": "2024-10-28T15:20:48.419007",
     "exception": false,
     "start_time": "2024-10-28T15:20:48.411225",
     "status": "completed"
    },
    "tags": []
   },
   "outputs": [],
   "source": []
  },
  {
   "cell_type": "code",
   "execution_count": 5,
   "id": "7be23094",
   "metadata": {
    "execution": {
     "iopub.execute_input": "2024-10-28T15:20:48.439424Z",
     "iopub.status.busy": "2024-10-28T15:20:48.438381Z",
     "iopub.status.idle": "2024-10-28T15:20:48.497067Z",
     "shell.execute_reply": "2024-10-28T15:20:48.495753Z"
    },
    "papermill": {
     "duration": 0.072968,
     "end_time": "2024-10-28T15:20:48.500331",
     "exception": false,
     "start_time": "2024-10-28T15:20:48.427363",
     "status": "completed"
    },
    "tags": []
   },
   "outputs": [],
   "source": [
    "# df = pd.read_csv(\"/kaggle/input/adult-census-income/adult.csv\")\n",
    "df[\"kfold\"] = -1\n",
    "df = df.sample(frac=1).reset_index(drop=True)\n",
    "target_mapping = {\n",
    " \"<=50K\": 0,\n",
    " \">50K\": 1\n",
    " }\n",
    "df.loc[:, \"income\"] = df.income.map(target_mapping)\n",
    "y = df[['income']]\n"
   ]
  },
  {
   "cell_type": "code",
   "execution_count": 6,
   "id": "3f3a4ef9",
   "metadata": {
    "execution": {
     "iopub.execute_input": "2024-10-28T15:20:48.518937Z",
     "iopub.status.busy": "2024-10-28T15:20:48.518446Z",
     "iopub.status.idle": "2024-10-28T15:20:48.531139Z",
     "shell.execute_reply": "2024-10-28T15:20:48.529647Z"
    },
    "papermill": {
     "duration": 0.025224,
     "end_time": "2024-10-28T15:20:48.534349",
     "exception": false,
     "start_time": "2024-10-28T15:20:48.509125",
     "status": "completed"
    },
    "tags": []
   },
   "outputs": [
    {
     "data": {
      "text/html": [
       "<div>\n",
       "<style scoped>\n",
       "    .dataframe tbody tr th:only-of-type {\n",
       "        vertical-align: middle;\n",
       "    }\n",
       "\n",
       "    .dataframe tbody tr th {\n",
       "        vertical-align: top;\n",
       "    }\n",
       "\n",
       "    .dataframe thead th {\n",
       "        text-align: right;\n",
       "    }\n",
       "</style>\n",
       "<table border=\"1\" class=\"dataframe\">\n",
       "  <thead>\n",
       "    <tr style=\"text-align: right;\">\n",
       "      <th></th>\n",
       "      <th>income</th>\n",
       "    </tr>\n",
       "  </thead>\n",
       "  <tbody>\n",
       "    <tr>\n",
       "      <th>0</th>\n",
       "      <td>0</td>\n",
       "    </tr>\n",
       "    <tr>\n",
       "      <th>1</th>\n",
       "      <td>0</td>\n",
       "    </tr>\n",
       "    <tr>\n",
       "      <th>2</th>\n",
       "      <td>0</td>\n",
       "    </tr>\n",
       "    <tr>\n",
       "      <th>3</th>\n",
       "      <td>0</td>\n",
       "    </tr>\n",
       "    <tr>\n",
       "      <th>4</th>\n",
       "      <td>0</td>\n",
       "    </tr>\n",
       "    <tr>\n",
       "      <th>5</th>\n",
       "      <td>1</td>\n",
       "    </tr>\n",
       "    <tr>\n",
       "      <th>6</th>\n",
       "      <td>0</td>\n",
       "    </tr>\n",
       "    <tr>\n",
       "      <th>7</th>\n",
       "      <td>1</td>\n",
       "    </tr>\n",
       "    <tr>\n",
       "      <th>8</th>\n",
       "      <td>1</td>\n",
       "    </tr>\n",
       "    <tr>\n",
       "      <th>9</th>\n",
       "      <td>0</td>\n",
       "    </tr>\n",
       "  </tbody>\n",
       "</table>\n",
       "</div>"
      ],
      "text/plain": [
       "  income\n",
       "0      0\n",
       "1      0\n",
       "2      0\n",
       "3      0\n",
       "4      0\n",
       "5      1\n",
       "6      0\n",
       "7      1\n",
       "8      1\n",
       "9      0"
      ]
     },
     "execution_count": 6,
     "metadata": {},
     "output_type": "execute_result"
    }
   ],
   "source": [
    "y[:10]"
   ]
  },
  {
   "cell_type": "code",
   "execution_count": 7,
   "id": "0741fcd2",
   "metadata": {
    "execution": {
     "iopub.execute_input": "2024-10-28T15:20:48.553873Z",
     "iopub.status.busy": "2024-10-28T15:20:48.552690Z",
     "iopub.status.idle": "2024-10-28T15:20:48.574925Z",
     "shell.execute_reply": "2024-10-28T15:20:48.573234Z"
    },
    "papermill": {
     "duration": 0.035996,
     "end_time": "2024-10-28T15:20:48.578642",
     "exception": false,
     "start_time": "2024-10-28T15:20:48.542646",
     "status": "completed"
    },
    "tags": []
   },
   "outputs": [
    {
     "data": {
      "text/html": [
       "<div>\n",
       "<style scoped>\n",
       "    .dataframe tbody tr th:only-of-type {\n",
       "        vertical-align: middle;\n",
       "    }\n",
       "\n",
       "    .dataframe tbody tr th {\n",
       "        vertical-align: top;\n",
       "    }\n",
       "\n",
       "    .dataframe thead th {\n",
       "        text-align: right;\n",
       "    }\n",
       "</style>\n",
       "<table border=\"1\" class=\"dataframe\">\n",
       "  <thead>\n",
       "    <tr style=\"text-align: right;\">\n",
       "      <th></th>\n",
       "      <th>age</th>\n",
       "      <th>workclass</th>\n",
       "      <th>fnlwgt</th>\n",
       "      <th>education</th>\n",
       "      <th>education.num</th>\n",
       "      <th>marital.status</th>\n",
       "      <th>occupation</th>\n",
       "      <th>relationship</th>\n",
       "      <th>race</th>\n",
       "      <th>sex</th>\n",
       "      <th>capital.gain</th>\n",
       "      <th>capital.loss</th>\n",
       "      <th>hours.per.week</th>\n",
       "      <th>native.country</th>\n",
       "      <th>income</th>\n",
       "      <th>kfold</th>\n",
       "    </tr>\n",
       "  </thead>\n",
       "  <tbody>\n",
       "    <tr>\n",
       "      <th>0</th>\n",
       "      <td>32</td>\n",
       "      <td>Private</td>\n",
       "      <td>126838</td>\n",
       "      <td>HS-grad</td>\n",
       "      <td>9</td>\n",
       "      <td>Never-married</td>\n",
       "      <td>Craft-repair</td>\n",
       "      <td>Not-in-family</td>\n",
       "      <td>White</td>\n",
       "      <td>Male</td>\n",
       "      <td>0</td>\n",
       "      <td>0</td>\n",
       "      <td>40</td>\n",
       "      <td>United-States</td>\n",
       "      <td>0</td>\n",
       "      <td>-1</td>\n",
       "    </tr>\n",
       "    <tr>\n",
       "      <th>1</th>\n",
       "      <td>32</td>\n",
       "      <td>State-gov</td>\n",
       "      <td>131588</td>\n",
       "      <td>Some-college</td>\n",
       "      <td>10</td>\n",
       "      <td>Never-married</td>\n",
       "      <td>Tech-support</td>\n",
       "      <td>Unmarried</td>\n",
       "      <td>Black</td>\n",
       "      <td>Female</td>\n",
       "      <td>0</td>\n",
       "      <td>0</td>\n",
       "      <td>20</td>\n",
       "      <td>United-States</td>\n",
       "      <td>0</td>\n",
       "      <td>-1</td>\n",
       "    </tr>\n",
       "    <tr>\n",
       "      <th>2</th>\n",
       "      <td>25</td>\n",
       "      <td>Private</td>\n",
       "      <td>367306</td>\n",
       "      <td>Some-college</td>\n",
       "      <td>10</td>\n",
       "      <td>Never-married</td>\n",
       "      <td>Adm-clerical</td>\n",
       "      <td>Own-child</td>\n",
       "      <td>White</td>\n",
       "      <td>Female</td>\n",
       "      <td>0</td>\n",
       "      <td>0</td>\n",
       "      <td>40</td>\n",
       "      <td>United-States</td>\n",
       "      <td>0</td>\n",
       "      <td>-1</td>\n",
       "    </tr>\n",
       "    <tr>\n",
       "      <th>3</th>\n",
       "      <td>68</td>\n",
       "      <td>Self-emp-not-inc</td>\n",
       "      <td>89011</td>\n",
       "      <td>Doctorate</td>\n",
       "      <td>16</td>\n",
       "      <td>Married-civ-spouse</td>\n",
       "      <td>Prof-specialty</td>\n",
       "      <td>Husband</td>\n",
       "      <td>White</td>\n",
       "      <td>Male</td>\n",
       "      <td>0</td>\n",
       "      <td>0</td>\n",
       "      <td>50</td>\n",
       "      <td>Canada</td>\n",
       "      <td>0</td>\n",
       "      <td>-1</td>\n",
       "    </tr>\n",
       "    <tr>\n",
       "      <th>4</th>\n",
       "      <td>21</td>\n",
       "      <td>Private</td>\n",
       "      <td>29810</td>\n",
       "      <td>HS-grad</td>\n",
       "      <td>9</td>\n",
       "      <td>Never-married</td>\n",
       "      <td>Other-service</td>\n",
       "      <td>Not-in-family</td>\n",
       "      <td>White</td>\n",
       "      <td>Female</td>\n",
       "      <td>0</td>\n",
       "      <td>0</td>\n",
       "      <td>50</td>\n",
       "      <td>United-States</td>\n",
       "      <td>0</td>\n",
       "      <td>-1</td>\n",
       "    </tr>\n",
       "  </tbody>\n",
       "</table>\n",
       "</div>"
      ],
      "text/plain": [
       "   age         workclass  fnlwgt     education  education.num  \\\n",
       "0   32           Private  126838       HS-grad              9   \n",
       "1   32         State-gov  131588  Some-college             10   \n",
       "2   25           Private  367306  Some-college             10   \n",
       "3   68  Self-emp-not-inc   89011     Doctorate             16   \n",
       "4   21           Private   29810       HS-grad              9   \n",
       "\n",
       "       marital.status      occupation   relationship   race     sex  \\\n",
       "0       Never-married    Craft-repair  Not-in-family  White    Male   \n",
       "1       Never-married    Tech-support      Unmarried  Black  Female   \n",
       "2       Never-married    Adm-clerical      Own-child  White  Female   \n",
       "3  Married-civ-spouse  Prof-specialty        Husband  White    Male   \n",
       "4       Never-married   Other-service  Not-in-family  White  Female   \n",
       "\n",
       "   capital.gain  capital.loss  hours.per.week native.country income  kfold  \n",
       "0             0             0              40  United-States      0     -1  \n",
       "1             0             0              20  United-States      0     -1  \n",
       "2             0             0              40  United-States      0     -1  \n",
       "3             0             0              50         Canada      0     -1  \n",
       "4             0             0              50  United-States      0     -1  "
      ]
     },
     "execution_count": 7,
     "metadata": {},
     "output_type": "execute_result"
    }
   ],
   "source": [
    "df.head()"
   ]
  },
  {
   "cell_type": "code",
   "execution_count": 8,
   "id": "b641d122",
   "metadata": {
    "execution": {
     "iopub.execute_input": "2024-10-28T15:20:48.599113Z",
     "iopub.status.busy": "2024-10-28T15:20:48.597981Z",
     "iopub.status.idle": "2024-10-28T15:20:48.703549Z",
     "shell.execute_reply": "2024-10-28T15:20:48.702273Z"
    },
    "papermill": {
     "duration": 0.118619,
     "end_time": "2024-10-28T15:20:48.706492",
     "exception": false,
     "start_time": "2024-10-28T15:20:48.587873",
     "status": "completed"
    },
    "tags": []
   },
   "outputs": [],
   "source": [
    "kf = model_selection.StratifiedKFold(n_splits=5)\n",
    "for f, (t_, v_) in enumerate(kf.split(X=df, y = y.astype(str))):\n",
    "    df.loc[v_, 'kfold'] = f"
   ]
  },
  {
   "cell_type": "code",
   "execution_count": 9,
   "id": "0f728a7a",
   "metadata": {
    "execution": {
     "iopub.execute_input": "2024-10-28T15:20:48.725646Z",
     "iopub.status.busy": "2024-10-28T15:20:48.724824Z",
     "iopub.status.idle": "2024-10-28T15:20:48.733283Z",
     "shell.execute_reply": "2024-10-28T15:20:48.732109Z"
    },
    "papermill": {
     "duration": 0.020878,
     "end_time": "2024-10-28T15:20:48.735873",
     "exception": false,
     "start_time": "2024-10-28T15:20:48.714995",
     "status": "completed"
    },
    "tags": []
   },
   "outputs": [
    {
     "data": {
      "text/plain": [
       "Index(['age', 'workclass', 'fnlwgt', 'education', 'education.num',\n",
       "       'marital.status', 'occupation', 'relationship', 'race', 'sex',\n",
       "       'capital.gain', 'capital.loss', 'hours.per.week', 'native.country',\n",
       "       'income', 'kfold'],\n",
       "      dtype='object')"
      ]
     },
     "execution_count": 9,
     "metadata": {},
     "output_type": "execute_result"
    }
   ],
   "source": [
    "df.columns"
   ]
  },
  {
   "cell_type": "code",
   "execution_count": 10,
   "id": "761dacf4",
   "metadata": {
    "execution": {
     "iopub.execute_input": "2024-10-28T15:20:48.755928Z",
     "iopub.status.busy": "2024-10-28T15:20:48.754804Z",
     "iopub.status.idle": "2024-10-28T15:20:48.775227Z",
     "shell.execute_reply": "2024-10-28T15:20:48.773870Z"
    },
    "papermill": {
     "duration": 0.033347,
     "end_time": "2024-10-28T15:20:48.778037",
     "exception": false,
     "start_time": "2024-10-28T15:20:48.744690",
     "status": "completed"
    },
    "tags": []
   },
   "outputs": [
    {
     "data": {
      "text/html": [
       "<div>\n",
       "<style scoped>\n",
       "    .dataframe tbody tr th:only-of-type {\n",
       "        vertical-align: middle;\n",
       "    }\n",
       "\n",
       "    .dataframe tbody tr th {\n",
       "        vertical-align: top;\n",
       "    }\n",
       "\n",
       "    .dataframe thead th {\n",
       "        text-align: right;\n",
       "    }\n",
       "</style>\n",
       "<table border=\"1\" class=\"dataframe\">\n",
       "  <thead>\n",
       "    <tr style=\"text-align: right;\">\n",
       "      <th></th>\n",
       "      <th>age</th>\n",
       "      <th>workclass</th>\n",
       "      <th>fnlwgt</th>\n",
       "      <th>education</th>\n",
       "      <th>education.num</th>\n",
       "      <th>marital.status</th>\n",
       "      <th>occupation</th>\n",
       "      <th>relationship</th>\n",
       "      <th>race</th>\n",
       "      <th>sex</th>\n",
       "      <th>capital.gain</th>\n",
       "      <th>capital.loss</th>\n",
       "      <th>hours.per.week</th>\n",
       "      <th>native.country</th>\n",
       "      <th>income</th>\n",
       "      <th>kfold</th>\n",
       "    </tr>\n",
       "  </thead>\n",
       "  <tbody>\n",
       "    <tr>\n",
       "      <th>0</th>\n",
       "      <td>32</td>\n",
       "      <td>Private</td>\n",
       "      <td>126838</td>\n",
       "      <td>HS-grad</td>\n",
       "      <td>9</td>\n",
       "      <td>Never-married</td>\n",
       "      <td>Craft-repair</td>\n",
       "      <td>Not-in-family</td>\n",
       "      <td>White</td>\n",
       "      <td>Male</td>\n",
       "      <td>0</td>\n",
       "      <td>0</td>\n",
       "      <td>40</td>\n",
       "      <td>United-States</td>\n",
       "      <td>0</td>\n",
       "      <td>0</td>\n",
       "    </tr>\n",
       "    <tr>\n",
       "      <th>1</th>\n",
       "      <td>32</td>\n",
       "      <td>State-gov</td>\n",
       "      <td>131588</td>\n",
       "      <td>Some-college</td>\n",
       "      <td>10</td>\n",
       "      <td>Never-married</td>\n",
       "      <td>Tech-support</td>\n",
       "      <td>Unmarried</td>\n",
       "      <td>Black</td>\n",
       "      <td>Female</td>\n",
       "      <td>0</td>\n",
       "      <td>0</td>\n",
       "      <td>20</td>\n",
       "      <td>United-States</td>\n",
       "      <td>0</td>\n",
       "      <td>0</td>\n",
       "    </tr>\n",
       "    <tr>\n",
       "      <th>2</th>\n",
       "      <td>25</td>\n",
       "      <td>Private</td>\n",
       "      <td>367306</td>\n",
       "      <td>Some-college</td>\n",
       "      <td>10</td>\n",
       "      <td>Never-married</td>\n",
       "      <td>Adm-clerical</td>\n",
       "      <td>Own-child</td>\n",
       "      <td>White</td>\n",
       "      <td>Female</td>\n",
       "      <td>0</td>\n",
       "      <td>0</td>\n",
       "      <td>40</td>\n",
       "      <td>United-States</td>\n",
       "      <td>0</td>\n",
       "      <td>0</td>\n",
       "    </tr>\n",
       "    <tr>\n",
       "      <th>3</th>\n",
       "      <td>68</td>\n",
       "      <td>Self-emp-not-inc</td>\n",
       "      <td>89011</td>\n",
       "      <td>Doctorate</td>\n",
       "      <td>16</td>\n",
       "      <td>Married-civ-spouse</td>\n",
       "      <td>Prof-specialty</td>\n",
       "      <td>Husband</td>\n",
       "      <td>White</td>\n",
       "      <td>Male</td>\n",
       "      <td>0</td>\n",
       "      <td>0</td>\n",
       "      <td>50</td>\n",
       "      <td>Canada</td>\n",
       "      <td>0</td>\n",
       "      <td>0</td>\n",
       "    </tr>\n",
       "    <tr>\n",
       "      <th>4</th>\n",
       "      <td>21</td>\n",
       "      <td>Private</td>\n",
       "      <td>29810</td>\n",
       "      <td>HS-grad</td>\n",
       "      <td>9</td>\n",
       "      <td>Never-married</td>\n",
       "      <td>Other-service</td>\n",
       "      <td>Not-in-family</td>\n",
       "      <td>White</td>\n",
       "      <td>Female</td>\n",
       "      <td>0</td>\n",
       "      <td>0</td>\n",
       "      <td>50</td>\n",
       "      <td>United-States</td>\n",
       "      <td>0</td>\n",
       "      <td>0</td>\n",
       "    </tr>\n",
       "  </tbody>\n",
       "</table>\n",
       "</div>"
      ],
      "text/plain": [
       "   age         workclass  fnlwgt     education  education.num  \\\n",
       "0   32           Private  126838       HS-grad              9   \n",
       "1   32         State-gov  131588  Some-college             10   \n",
       "2   25           Private  367306  Some-college             10   \n",
       "3   68  Self-emp-not-inc   89011     Doctorate             16   \n",
       "4   21           Private   29810       HS-grad              9   \n",
       "\n",
       "       marital.status      occupation   relationship   race     sex  \\\n",
       "0       Never-married    Craft-repair  Not-in-family  White    Male   \n",
       "1       Never-married    Tech-support      Unmarried  Black  Female   \n",
       "2       Never-married    Adm-clerical      Own-child  White  Female   \n",
       "3  Married-civ-spouse  Prof-specialty        Husband  White    Male   \n",
       "4       Never-married   Other-service  Not-in-family  White  Female   \n",
       "\n",
       "   capital.gain  capital.loss  hours.per.week native.country income  kfold  \n",
       "0             0             0              40  United-States      0      0  \n",
       "1             0             0              20  United-States      0      0  \n",
       "2             0             0              40  United-States      0      0  \n",
       "3             0             0              50         Canada      0      0  \n",
       "4             0             0              50  United-States      0      0  "
      ]
     },
     "execution_count": 10,
     "metadata": {},
     "output_type": "execute_result"
    }
   ],
   "source": [
    "df.head()"
   ]
  },
  {
   "cell_type": "code",
   "execution_count": 11,
   "id": "cc624df1",
   "metadata": {
    "execution": {
     "iopub.execute_input": "2024-10-28T15:20:48.801450Z",
     "iopub.status.busy": "2024-10-28T15:20:48.801023Z",
     "iopub.status.idle": "2024-10-28T15:20:48.808344Z",
     "shell.execute_reply": "2024-10-28T15:20:48.807048Z"
    },
    "papermill": {
     "duration": 0.023821,
     "end_time": "2024-10-28T15:20:48.810850",
     "exception": false,
     "start_time": "2024-10-28T15:20:48.787029",
     "status": "completed"
    },
    "tags": []
   },
   "outputs": [],
   "source": [
    "import itertools\n",
    "def feature_engineering(df, cat_cols):\n",
    "    combi = list(itertools.combinations(cat_cols, 2))\n",
    "    for c1, c2 in combi:\n",
    "        df.loc[:, c1 + \"_\" + c2] = df[c1].astype(str) + \"_\" + df[c2].astype(str)\n",
    "    return df"
   ]
  },
  {
   "cell_type": "code",
   "execution_count": 12,
   "id": "2b211c04",
   "metadata": {
    "execution": {
     "iopub.execute_input": "2024-10-28T15:20:48.831019Z",
     "iopub.status.busy": "2024-10-28T15:20:48.830504Z",
     "iopub.status.idle": "2024-10-28T15:20:49.156820Z",
     "shell.execute_reply": "2024-10-28T15:20:49.155646Z"
    },
    "papermill": {
     "duration": 0.339811,
     "end_time": "2024-10-28T15:20:49.159634",
     "exception": false,
     "start_time": "2024-10-28T15:20:48.819823",
     "status": "completed"
    },
    "tags": []
   },
   "outputs": [],
   "source": [
    "import xgboost as xgb\n",
    "def run(fold,df):\n",
    "    num_cols = [\n",
    "         \"fnlwgt\",\n",
    "         \"age\",\n",
    "         \"capital.gain\",\n",
    "         \"capital.loss\",\n",
    "         \"hours.per.week\"\n",
    "         ]\n",
    "#     df = df.drop(num_cols, axis=1)\n",
    "\n",
    "    cat_cols = [\n",
    "     c for c in df.columns if c not in num_cols\n",
    "     and c not in (\"kfold\", \"income\")\n",
    "     ]\n",
    "    df = feature_engineering(df, cat_cols[:3])\n",
    "    features = [\n",
    "    f for f in df.columns if f not in (\"kfold\", \"income\")\n",
    "     ]\n",
    "    for col in features:\n",
    "        if col not in num_cols:\n",
    "            df.loc[:, col] = df[col].astype(str).fillna(\"NONE\")\n",
    "    \n",
    "    for col in features:\n",
    "        if col not in num_cols:\n",
    "            lbl = preprocessing.LabelEncoder()\n",
    "            lbl.fit(df[col])\n",
    "            df.loc[:, col] = lbl.transform(df[col])\n",
    "    df_train = df[df.kfold != fold].reset_index(drop=True)\n",
    "    df_valid = df[df.kfold == fold].reset_index(drop=True)\n",
    "    x_train = df_train[features].values\n",
    "    x_valid = df_valid[features].values\n",
    "    model = xgb.XGBClassifier(\n",
    " n_jobs=-1,\n",
    "#         max_depth=7, estimators=200\n",
    " )\n",
    " \n",
    "    model.fit(x_train, df_train.income.values)\n",
    "    valid_preds = model.predict_proba(x_valid)[:, 1]\n",
    "    auc = metrics.roc_auc_score(df_valid.income.values.astype(str), valid_preds)\n",
    "    print(f\"Fold = {fold}, AUC = {auc}\")\n",
    "    \n"
   ]
  },
  {
   "cell_type": "code",
   "execution_count": 13,
   "id": "95c0148f",
   "metadata": {
    "execution": {
     "iopub.execute_input": "2024-10-28T15:20:49.180047Z",
     "iopub.status.busy": "2024-10-28T15:20:49.179550Z",
     "iopub.status.idle": "2024-10-28T15:20:49.186719Z",
     "shell.execute_reply": "2024-10-28T15:20:49.185269Z"
    },
    "papermill": {
     "duration": 0.020545,
     "end_time": "2024-10-28T15:20:49.189665",
     "exception": false,
     "start_time": "2024-10-28T15:20:49.169120",
     "status": "completed"
    },
    "tags": []
   },
   "outputs": [],
   "source": [
    "import warnings\n",
    "warnings.filterwarnings(\"ignore\", category=FutureWarning)\n",
    "warnings.filterwarnings(\n",
    "    action=\"ignore\",\n",
    "    category=DeprecationWarning\n",
    ")\n",
    "from warnings import simplefilter\n",
    "simplefilter(action=\"ignore\", category=pd.errors.PerformanceWarning)\n"
   ]
  },
  {
   "cell_type": "code",
   "execution_count": 14,
   "id": "b5c906bc",
   "metadata": {
    "execution": {
     "iopub.execute_input": "2024-10-28T15:20:49.210432Z",
     "iopub.status.busy": "2024-10-28T15:20:49.209953Z",
     "iopub.status.idle": "2024-10-28T15:20:54.743229Z",
     "shell.execute_reply": "2024-10-28T15:20:54.741991Z"
    },
    "papermill": {
     "duration": 5.546665,
     "end_time": "2024-10-28T15:20:54.746230",
     "exception": false,
     "start_time": "2024-10-28T15:20:49.199565",
     "status": "completed"
    },
    "tags": []
   },
   "outputs": [
    {
     "name": "stdout",
     "output_type": "stream",
     "text": [
      "Fold = 0, AUC = 0.9261324669310942\n",
      "Fold = 1, AUC = 0.9276291789470641\n",
      "Fold = 2, AUC = 0.9180850396894195\n",
      "Fold = 3, AUC = 0.927081011409418\n",
      "Fold = 4, AUC = 0.9293306331938116\n"
     ]
    }
   ],
   "source": [
    "for fold_ in range(5):\n",
    "    run(fold_,df)"
   ]
  },
  {
   "cell_type": "code",
   "execution_count": 15,
   "id": "716f6022",
   "metadata": {
    "execution": {
     "iopub.execute_input": "2024-10-28T15:20:54.768348Z",
     "iopub.status.busy": "2024-10-28T15:20:54.767080Z",
     "iopub.status.idle": "2024-10-28T15:20:54.773261Z",
     "shell.execute_reply": "2024-10-28T15:20:54.771957Z"
    },
    "papermill": {
     "duration": 0.020158,
     "end_time": "2024-10-28T15:20:54.775998",
     "exception": false,
     "start_time": "2024-10-28T15:20:54.755840",
     "status": "completed"
    },
    "tags": []
   },
   "outputs": [],
   "source": [
    "import xgboost as xgb"
   ]
  },
  {
   "cell_type": "code",
   "execution_count": 16,
   "id": "2febe758",
   "metadata": {
    "execution": {
     "iopub.execute_input": "2024-10-28T15:20:54.797199Z",
     "iopub.status.busy": "2024-10-28T15:20:54.796550Z",
     "iopub.status.idle": "2024-10-28T15:20:54.810768Z",
     "shell.execute_reply": "2024-10-28T15:20:54.809067Z"
    },
    "papermill": {
     "duration": 0.028733,
     "end_time": "2024-10-28T15:20:54.814202",
     "exception": false,
     "start_time": "2024-10-28T15:20:54.785469",
     "status": "completed"
    },
    "tags": []
   },
   "outputs": [],
   "source": [
    "def xgb_run(fold):\n",
    "    global df \n",
    "   \n",
    "    features = [\n",
    "    f for f in df.columns if f not in (\"kfold\", \"income\")\n",
    "     ]\n",
    "    for col in features:\n",
    "        df.loc[:, col] = df[col].astype(str).fillna(\"NONE\")\n",
    "    df_train = df[df.kfold != fold].reset_index(drop=True)\n",
    "    df_valid = df[df.kfold == fold].reset_index(drop=True)\n",
    "    le = preprocessing.LabelEncoder()\n",
    "    df_train['income'] = le.fit_transform(df_train['income'])\n",
    "    df_valid['income'] = le.transform(df_valid['income'])\n",
    "    ohe = preprocessing.OneHotEncoder()\n",
    "    full_data = pd.concat(\n",
    "        [df_train[features], df_valid[features]],\n",
    "         axis=0\n",
    "        )\n",
    "    ohe.fit(full_data[features])\n",
    "    x_train = ohe.transform(df_train[features])\n",
    "    x_valid = ohe.transform(df_valid[features])\n",
    "    model = model = xgb.XGBClassifier(\n",
    "     n_jobs=-1\n",
    "     )\n",
    "    model.fit(x_train, df_train.income.values)\n",
    "    valid_preds = model.predict_proba(x_valid)[:, 1]\n",
    "    auc = metrics.roc_auc_score(df_valid.income.values, valid_preds)\n",
    "    print(f\"Fold = {fold}, AUC = {auc}\")\n",
    "    "
   ]
  },
  {
   "cell_type": "code",
   "execution_count": 17,
   "id": "0628bac2",
   "metadata": {
    "execution": {
     "iopub.execute_input": "2024-10-28T15:20:54.838116Z",
     "iopub.status.busy": "2024-10-28T15:20:54.837619Z",
     "iopub.status.idle": "2024-10-28T15:20:54.846248Z",
     "shell.execute_reply": "2024-10-28T15:20:54.844999Z"
    },
    "papermill": {
     "duration": 0.022409,
     "end_time": "2024-10-28T15:20:54.848815",
     "exception": false,
     "start_time": "2024-10-28T15:20:54.826406",
     "status": "completed"
    },
    "tags": []
   },
   "outputs": [
    {
     "data": {
      "text/plain": [
       "dtype('O')"
      ]
     },
     "execution_count": 17,
     "metadata": {},
     "output_type": "execute_result"
    }
   ],
   "source": [
    "df.income.values.dtype"
   ]
  },
  {
   "cell_type": "code",
   "execution_count": 18,
   "id": "55357a67",
   "metadata": {
    "execution": {
     "iopub.execute_input": "2024-10-28T15:20:54.873074Z",
     "iopub.status.busy": "2024-10-28T15:20:54.872572Z",
     "iopub.status.idle": "2024-10-28T15:21:07.422989Z",
     "shell.execute_reply": "2024-10-28T15:21:07.421553Z"
    },
    "papermill": {
     "duration": 12.567123,
     "end_time": "2024-10-28T15:21:07.426223",
     "exception": false,
     "start_time": "2024-10-28T15:20:54.859100",
     "status": "completed"
    },
    "tags": []
   },
   "outputs": [
    {
     "name": "stdout",
     "output_type": "stream",
     "text": [
      "Fold = 0, AUC = 0.9221584486851848\n",
      "Fold = 1, AUC = 0.9255100363871276\n",
      "Fold = 2, AUC = 0.9121151798097878\n",
      "Fold = 3, AUC = 0.9238427015223566\n",
      "Fold = 4, AUC = 0.9245195423436365\n"
     ]
    }
   ],
   "source": [
    "for fold_ in range(5):\n",
    "    xgb_run(fold_)"
   ]
  },
  {
   "cell_type": "code",
   "execution_count": null,
   "id": "0a761a42",
   "metadata": {
    "papermill": {
     "duration": 0.01009,
     "end_time": "2024-10-28T15:21:07.446710",
     "exception": false,
     "start_time": "2024-10-28T15:21:07.436620",
     "status": "completed"
    },
    "tags": []
   },
   "outputs": [],
   "source": []
  }
 ],
 "metadata": {
  "kaggle": {
   "accelerator": "none",
   "dataSources": [
    {
     "datasetId": 225,
     "sourceId": 498,
     "sourceType": "datasetVersion"
    }
   ],
   "dockerImageVersionId": 30786,
   "isGpuEnabled": false,
   "isInternetEnabled": true,
   "language": "python",
   "sourceType": "notebook"
  },
  "kernelspec": {
   "display_name": "Python 3",
   "language": "python",
   "name": "python3"
  },
  "language_info": {
   "codemirror_mode": {
    "name": "ipython",
    "version": 3
   },
   "file_extension": ".py",
   "mimetype": "text/x-python",
   "name": "python",
   "nbconvert_exporter": "python",
   "pygments_lexer": "ipython3",
   "version": "3.10.14"
  },
  "papermill": {
   "default_parameters": {},
   "duration": 27.994259,
   "end_time": "2024-10-28T15:21:08.282221",
   "environment_variables": {},
   "exception": null,
   "input_path": "__notebook__.ipynb",
   "output_path": "__notebook__.ipynb",
   "parameters": {},
   "start_time": "2024-10-28T15:20:40.287962",
   "version": "2.6.0"
  }
 },
 "nbformat": 4,
 "nbformat_minor": 5
}
